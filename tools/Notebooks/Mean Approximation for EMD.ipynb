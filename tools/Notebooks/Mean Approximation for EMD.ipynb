{
 "cells": [
  {
   "cell_type": "code",
   "execution_count": 1,
   "id": "ee18d15e-d5df-47ed-a4ce-9ce4cc3798ee",
   "metadata": {},
   "outputs": [],
   "source": [
    "import numpy as np\n",
    "import pandas as pd"
   ]
  },
  {
   "cell_type": "code",
   "execution_count": 2,
   "id": "011b86f7-e584-42b1-8d72-89a8b668c0eb",
   "metadata": {},
   "outputs": [],
   "source": [
    "import math\n",
    "import numbers"
   ]
  },
  {
   "cell_type": "code",
   "execution_count": 3,
   "id": "5f152c16-db8b-4cc9-b3b8-c3b48b7534f5",
   "metadata": {},
   "outputs": [],
   "source": [
    "from operator import itemgetter"
   ]
  },
  {
   "cell_type": "code",
   "execution_count": 4,
   "id": "597f85bc-0787-4c86-9802-731439f1c993",
   "metadata": {},
   "outputs": [],
   "source": [
    "import time"
   ]
  },
  {
   "cell_type": "code",
   "execution_count": 8,
   "id": "df960a41-c99e-46f8-a058-4f8dde73d57c",
   "metadata": {},
   "outputs": [],
   "source": [
    "import random"
   ]
  },
  {
   "cell_type": "code",
   "execution_count": null,
   "id": "8fb1bd3a-041b-4cd5-98a3-92bc31f3158f",
   "metadata": {},
   "outputs": [],
   "source": [
    "import matplotlib.pyplot as plt"
   ]
  },
  {
   "cell_type": "markdown",
   "id": "1b52df3c-4824-4f17-8a5a-d58652380915",
   "metadata": {
    "tags": []
   },
   "source": [
    "### Data Preprocessing"
   ]
  },
  {
   "cell_type": "code",
   "execution_count": 5,
   "id": "ef750d10-0498-4bdf-a36c-b25247b501ed",
   "metadata": {},
   "outputs": [],
   "source": [
    "df_300 = pd.read_csv(\"../../PEW_Jun29_300.csv\")"
   ]
  },
  {
   "cell_type": "code",
   "execution_count": 6,
   "id": "5e305ea2-1f47-441b-9c80-735aeddf6477",
   "metadata": {},
   "outputs": [
    {
     "data": {
      "text/html": [
       "<div>\n",
       "<style scoped>\n",
       "    .dataframe tbody tr th:only-of-type {\n",
       "        vertical-align: middle;\n",
       "    }\n",
       "\n",
       "    .dataframe tbody tr th {\n",
       "        vertical-align: top;\n",
       "    }\n",
       "\n",
       "    .dataframe thead th {\n",
       "        text-align: right;\n",
       "    }\n",
       "</style>\n",
       "<table border=\"1\" class=\"dataframe\">\n",
       "  <thead>\n",
       "    <tr style=\"text-align: right;\">\n",
       "      <th></th>\n",
       "      <th>Worker ID</th>\n",
       "      <th>Saving for the future</th>\n",
       "      <th>Paying for college</th>\n",
       "      <th>Buying a home</th>\n",
       "      <th>Finding a spouse or partner</th>\n",
       "      <th>Finding a job</th>\n",
       "      <th>Getting into college</th>\n",
       "      <th>Staying in touch with family and friends</th>\n",
       "      <th>Do you currently live in the United States?</th>\n",
       "      <th>What is your age?</th>\n",
       "    </tr>\n",
       "  </thead>\n",
       "  <tbody>\n",
       "    <tr>\n",
       "      <th>0</th>\n",
       "      <td>A2MS1GQLGAX9FZ</td>\n",
       "      <td>Harder</td>\n",
       "      <td>Harder</td>\n",
       "      <td>Harder</td>\n",
       "      <td>Harder</td>\n",
       "      <td>Harder</td>\n",
       "      <td>Easier</td>\n",
       "      <td>Easier</td>\n",
       "      <td>Yes</td>\n",
       "      <td>24.0</td>\n",
       "    </tr>\n",
       "    <tr>\n",
       "      <th>1</th>\n",
       "      <td>A211TN268BD80Q</td>\n",
       "      <td>Easier</td>\n",
       "      <td>Easier</td>\n",
       "      <td>Easier</td>\n",
       "      <td>Easier</td>\n",
       "      <td>Easier</td>\n",
       "      <td>Easier</td>\n",
       "      <td>Easier</td>\n",
       "      <td>Yes</td>\n",
       "      <td>4.0</td>\n",
       "    </tr>\n",
       "    <tr>\n",
       "      <th>2</th>\n",
       "      <td>A172PA5HBQNKQM</td>\n",
       "      <td>Harder</td>\n",
       "      <td>Same</td>\n",
       "      <td>Easier</td>\n",
       "      <td>Harder</td>\n",
       "      <td>Easier</td>\n",
       "      <td>Easier</td>\n",
       "      <td>Harder</td>\n",
       "      <td>Yes</td>\n",
       "      <td>25.0</td>\n",
       "    </tr>\n",
       "    <tr>\n",
       "      <th>3</th>\n",
       "      <td>AKZ3J53DA84EX</td>\n",
       "      <td>Easier</td>\n",
       "      <td>Easier</td>\n",
       "      <td>Easier</td>\n",
       "      <td>Easier</td>\n",
       "      <td>Easier</td>\n",
       "      <td>Easier</td>\n",
       "      <td>Easier</td>\n",
       "      <td>Yes</td>\n",
       "      <td>30.0</td>\n",
       "    </tr>\n",
       "    <tr>\n",
       "      <th>4</th>\n",
       "      <td>A3IOAOY6RR12YN</td>\n",
       "      <td>Easier</td>\n",
       "      <td>Easier</td>\n",
       "      <td>Easier</td>\n",
       "      <td>Harder</td>\n",
       "      <td>Easier</td>\n",
       "      <td>Easier</td>\n",
       "      <td>Easier</td>\n",
       "      <td>No</td>\n",
       "      <td>45.0</td>\n",
       "    </tr>\n",
       "    <tr>\n",
       "      <th>...</th>\n",
       "      <td>...</td>\n",
       "      <td>...</td>\n",
       "      <td>...</td>\n",
       "      <td>...</td>\n",
       "      <td>...</td>\n",
       "      <td>...</td>\n",
       "      <td>...</td>\n",
       "      <td>...</td>\n",
       "      <td>...</td>\n",
       "      <td>...</td>\n",
       "    </tr>\n",
       "    <tr>\n",
       "      <th>295</th>\n",
       "      <td>A7AXZSG0CTRLG</td>\n",
       "      <td>Same</td>\n",
       "      <td>Harder</td>\n",
       "      <td>Harder</td>\n",
       "      <td>Same</td>\n",
       "      <td>Same</td>\n",
       "      <td>Harder</td>\n",
       "      <td>Same</td>\n",
       "      <td>Yes</td>\n",
       "      <td>32.0</td>\n",
       "    </tr>\n",
       "    <tr>\n",
       "      <th>296</th>\n",
       "      <td>A172SQXS2LLR43</td>\n",
       "      <td>Harder</td>\n",
       "      <td>Easier</td>\n",
       "      <td>Easier</td>\n",
       "      <td>Easier</td>\n",
       "      <td>Harder</td>\n",
       "      <td>Harder</td>\n",
       "      <td>Easier</td>\n",
       "      <td>Yes</td>\n",
       "      <td>44.0</td>\n",
       "    </tr>\n",
       "    <tr>\n",
       "      <th>297</th>\n",
       "      <td>AWWBF2RVU8HNM</td>\n",
       "      <td>Easier</td>\n",
       "      <td>Easier</td>\n",
       "      <td>Easier</td>\n",
       "      <td>Easier</td>\n",
       "      <td>Easier</td>\n",
       "      <td>Easier</td>\n",
       "      <td>Easier</td>\n",
       "      <td>Yes</td>\n",
       "      <td>37.0</td>\n",
       "    </tr>\n",
       "    <tr>\n",
       "      <th>298</th>\n",
       "      <td>A3335ASFR3L0Z8</td>\n",
       "      <td>Harder</td>\n",
       "      <td>Harder</td>\n",
       "      <td>Harder</td>\n",
       "      <td>Harder</td>\n",
       "      <td>Harder</td>\n",
       "      <td>Same</td>\n",
       "      <td>Harder</td>\n",
       "      <td>Yes</td>\n",
       "      <td>33.0</td>\n",
       "    </tr>\n",
       "    <tr>\n",
       "      <th>299</th>\n",
       "      <td>A6CG4Z4ZY2U05</td>\n",
       "      <td>Easier</td>\n",
       "      <td>Harder</td>\n",
       "      <td>Easier</td>\n",
       "      <td>Easier</td>\n",
       "      <td>Harder</td>\n",
       "      <td>Harder</td>\n",
       "      <td>Easier</td>\n",
       "      <td>Yes</td>\n",
       "      <td>39.0</td>\n",
       "    </tr>\n",
       "  </tbody>\n",
       "</table>\n",
       "<p>300 rows × 10 columns</p>\n",
       "</div>"
      ],
      "text/plain": [
       "          Worker ID Saving for the future Paying for college Buying a home  \\\n",
       "0    A2MS1GQLGAX9FZ                Harder             Harder        Harder   \n",
       "1    A211TN268BD80Q                Easier             Easier        Easier   \n",
       "2    A172PA5HBQNKQM                Harder               Same        Easier   \n",
       "3     AKZ3J53DA84EX                Easier             Easier        Easier   \n",
       "4    A3IOAOY6RR12YN                Easier             Easier        Easier   \n",
       "..              ...                   ...                ...           ...   \n",
       "295   A7AXZSG0CTRLG                  Same             Harder        Harder   \n",
       "296  A172SQXS2LLR43                Harder             Easier        Easier   \n",
       "297   AWWBF2RVU8HNM                Easier             Easier        Easier   \n",
       "298  A3335ASFR3L0Z8                Harder             Harder        Harder   \n",
       "299   A6CG4Z4ZY2U05                Easier             Harder        Easier   \n",
       "\n",
       "    Finding a spouse or partner Finding a job Getting into college  \\\n",
       "0                        Harder        Harder               Easier   \n",
       "1                        Easier        Easier               Easier   \n",
       "2                        Harder        Easier               Easier   \n",
       "3                        Easier        Easier               Easier   \n",
       "4                        Harder        Easier               Easier   \n",
       "..                          ...           ...                  ...   \n",
       "295                        Same          Same               Harder   \n",
       "296                      Easier        Harder               Harder   \n",
       "297                      Easier        Easier               Easier   \n",
       "298                      Harder        Harder                 Same   \n",
       "299                      Easier        Harder               Harder   \n",
       "\n",
       "    Staying in touch with family and friends  \\\n",
       "0                                     Easier   \n",
       "1                                     Easier   \n",
       "2                                     Harder   \n",
       "3                                     Easier   \n",
       "4                                     Easier   \n",
       "..                                       ...   \n",
       "295                                     Same   \n",
       "296                                   Easier   \n",
       "297                                   Easier   \n",
       "298                                   Harder   \n",
       "299                                   Easier   \n",
       "\n",
       "    Do you currently live in the United States?  What is your age?  \n",
       "0                                           Yes               24.0  \n",
       "1                                           Yes                4.0  \n",
       "2                                           Yes               25.0  \n",
       "3                                           Yes               30.0  \n",
       "4                                            No               45.0  \n",
       "..                                          ...                ...  \n",
       "295                                         Yes               32.0  \n",
       "296                                         Yes               44.0  \n",
       "297                                         Yes               37.0  \n",
       "298                                         Yes               33.0  \n",
       "299                                         Yes               39.0  \n",
       "\n",
       "[300 rows x 10 columns]"
      ]
     },
     "execution_count": 6,
     "metadata": {},
     "output_type": "execute_result"
    }
   ],
   "source": [
    "df_300"
   ]
  },
  {
   "cell_type": "code",
   "execution_count": 7,
   "id": "17ced4bb-5030-41d0-a155-e142e638d2ef",
   "metadata": {},
   "outputs": [],
   "source": [
    "question_types = [\"radio\", \"radio\", \"radio\", \"radio\", \"radio\", \"radio\", \"radio\", \"radio\", \"estimate\"]"
   ]
  },
  {
   "cell_type": "code",
   "execution_count": 9,
   "id": "3613de2b-7d8d-4849-a849-34eeec0af524",
   "metadata": {},
   "outputs": [],
   "source": [
    "c_age = df_300['What is your age?']\n",
    "radix = [3, 3, 3, 3, 3, 3, 3, 2, int(c_age.max()-c_age.min())]"
   ]
  },
  {
   "cell_type": "code",
   "execution_count": 10,
   "id": "5b478fd8-87ce-4dad-b973-497ebb691b64",
   "metadata": {},
   "outputs": [],
   "source": [
    "# n is number of samples to create\n",
    "# radixes describes what a sample should look like: possibilities for each sample\n",
    "def createSamples(n, radixes):\n",
    "\n",
    "    samples = []\n",
    "    length = len(radixes)\n",
    "\n",
    "    for x in range(n):\n",
    "\n",
    "        sample = []\n",
    "\n",
    "        for y in range(length):\n",
    "\n",
    "            # for each item, randomly choose using probabilities\n",
    "            radix = radixes[y]\n",
    "\n",
    "            newNumber = random.randint(0, radix-1)\n",
    "            sample.append(newNumber)\n",
    "\n",
    "        samples.append(sample)\n",
    "\n",
    "\n",
    "    return np.array(samples)"
   ]
  },
  {
   "cell_type": "code",
   "execution_count": 11,
   "id": "7cc6ac6e-80ef-436e-be8f-7595bd5ccae5",
   "metadata": {},
   "outputs": [
    {
     "data": {
      "text/plain": [
       "array([[ 2,  2,  0, ...,  1,  1, 39],\n",
       "       [ 2,  2,  0, ...,  0,  1, 19],\n",
       "       [ 0,  0,  1, ...,  0,  0, 36],\n",
       "       ...,\n",
       "       [ 0,  0,  0, ...,  2,  1, 62],\n",
       "       [ 1,  2,  2, ...,  2,  0, 34],\n",
       "       [ 1,  2,  0, ...,  2,  1, 43]])"
      ]
     },
     "execution_count": 11,
     "metadata": {},
     "output_type": "execute_result"
    }
   ],
   "source": [
    "sample_random = createSamples(300,radix)\n",
    "sample_random"
   ]
  },
  {
   "cell_type": "code",
   "execution_count": 15,
   "id": "708ab9ae-a3ea-4d0b-a1cf-5f0d13e4f0c6",
   "metadata": {},
   "outputs": [
    {
     "data": {
      "text/plain": [
       "array([[ 1,  2,  1, ...,  2,  1, 32],\n",
       "       [ 2,  2,  0, ...,  1,  1, 42],\n",
       "       [ 1,  2,  1, ...,  0,  1, 57],\n",
       "       ...,\n",
       "       [ 0,  1,  2, ...,  2,  0,  7],\n",
       "       [ 2,  0,  0, ...,  0,  1, 45],\n",
       "       [ 2,  1,  1, ...,  1,  1, 26]])"
      ]
     },
     "execution_count": 15,
     "metadata": {},
     "output_type": "execute_result"
    }
   ],
   "source": [
    "sample_random2 = createSamples(300,radix)\n",
    "sample_random2"
   ]
  },
  {
   "cell_type": "code",
   "execution_count": 12,
   "id": "89731513-1c4e-47eb-a4f7-76e4ecfdf329",
   "metadata": {},
   "outputs": [
    {
     "data": {
      "text/plain": [
       "array([[ 2,  2,  2, ...,  0,  1, 24],\n",
       "       [ 0,  0,  0, ...,  0,  1,  4],\n",
       "       [ 2,  1,  0, ...,  2,  1, 25],\n",
       "       ...,\n",
       "       [ 0,  0,  0, ...,  0,  1, 37],\n",
       "       [ 2,  2,  2, ...,  2,  1, 33],\n",
       "       [ 0,  2,  0, ...,  0,  1, 39]])"
      ]
     },
     "execution_count": 12,
     "metadata": {},
     "output_type": "execute_result"
    }
   ],
   "source": [
    "sample_300 = np.array(df_300.drop('Worker ID', axis=1).applymap(\n",
    "    # convert answers to integers (within radix)\n",
    "    lambda x: {\n",
    "        # dictionary for radio question\n",
    "        'Easier': 0,\n",
    "        'Same': 1,\n",
    "        'Harder': 2,\n",
    "        # dictionary for boolean radio\n",
    "        'Yes': 1,\n",
    "        'No': 0,\n",
    "    }.get(x, int(x) if isinstance(x, numbers.Number) else x) # if an estimate, make it an int number\n",
    "))\n",
    "sample_300"
   ]
  },
  {
   "cell_type": "markdown",
   "id": "5a6b566a-2166-4586-b13a-38690bf17c9d",
   "metadata": {},
   "source": [
    "### Measuring row-wise sum distance"
   ]
  },
  {
   "cell_type": "code",
   "execution_count": 14,
   "id": "a80a89e9-a39c-4c32-aed1-ef28991e34c2",
   "metadata": {},
   "outputs": [
    {
     "data": {
      "text/plain": [
       "array([ 0.96666667,  0.99666667,  0.92666667,  1.01333333,  1.01666667,\n",
       "        0.95666667,  1.02666667,  0.51      , 30.84333333])"
      ]
     },
     "execution_count": 14,
     "metadata": {},
     "output_type": "execute_result"
    }
   ],
   "source": [
    "# this is the mean of random sample that we are comparing with\n",
    "mean_random = sample_random.mean(axis=0)\n",
    "mean_random"
   ]
  },
  {
   "cell_type": "code",
   "execution_count": 24,
   "id": "7261805d-ae13-45dd-b637-387fffb1a042",
   "metadata": {},
   "outputs": [],
   "source": [
    "def mean_distance(samples1: np.ndarray, mean: np.ndarray, radixes):\n",
    "    numberOfSamples = samples1.shape[0]\n",
    "    complexity = len(radixes)\n",
    "    \n",
    "    distance = np.zeros(samples1.shape[0])\n",
    "    \n",
    "    for x in range(numberOfSamples):\n",
    "            s1 = samples1[x]\n",
    "\n",
    "            total = 0\n",
    "            for z in range(complexity):\n",
    "                # check the question type\n",
    "                if question_types[z] == \"radio\" or question_types[z] == \"checkbox\":\n",
    "\n",
    "                    # for radio and checkbox questions, different is 1 and same is 0\n",
    "                    if s1[z] != mean[z]:\n",
    "                        total += 1\n",
    "\n",
    "                else:\n",
    "                    # Right now the only other case is estimate. For these, normalize between 0 and 1\n",
    "                    radix = radixes[z]\n",
    "                    total += abs((mean[z] - s1[z])/radix)\n",
    "\n",
    "            distance[x] = total\n",
    "\n",
    "    return distance"
   ]
  },
  {
   "cell_type": "code",
   "execution_count": 28,
   "id": "3fa3448c-9334-4ec2-9f91-a972b63d238c",
   "metadata": {},
   "outputs": [
    {
     "data": {
      "text/plain": [
       "2438.7744615384618"
      ]
     },
     "execution_count": 28,
     "metadata": {},
     "output_type": "execute_result"
    }
   ],
   "source": [
    "# Sample vs Random\n",
    "distance_300 = mean_distance(sample_300, mean_random, radix)\n",
    "distance_300.sum()"
   ]
  },
  {
   "cell_type": "code",
   "execution_count": 131,
   "id": "92483e31-781f-4ab2-b8af-3462ab49354c",
   "metadata": {},
   "outputs": [
    {
     "data": {
      "image/png": "[encoded data removed]",
      "text/plain": [
       "<Figure size 432x288 with 1 Axes>"
      ]
     },
     "metadata": {
      "needs_background": "light"
     },
     "output_type": "display_data"
    }
   ],
   "source": [
    "plt.hist(distance_300)\n",
    "plt.show()"
   ]
  },
  {
   "cell_type": "code",
   "execution_count": 29,
   "id": "5238efa3-1ef3-41a2-846a-49f0af035a72",
   "metadata": {},
   "outputs": [
    {
     "data": {
      "text/plain": [
       "2472.3175384615383"
      ]
     },
     "execution_count": 29,
     "metadata": {},
     "output_type": "execute_result"
    }
   ],
   "source": [
    "# Random vs Random\n",
    "distance_rand = mean_distance(sample_random2, mean_random, radix)\n",
    "distance_rand.sum()"
   ]
  },
  {
   "cell_type": "code",
   "execution_count": 132,
   "id": "e70e4855-2c9e-4c2b-a7a4-be7e82c86dc4",
   "metadata": {},
   "outputs": [
    {
     "data": {
      "image/png": "[encoded data removed]",
      "text/plain": [
       "<Figure size 432x288 with 1 Axes>"
      ]
     },
     "metadata": {
      "needs_background": "light"
     },
     "output_type": "display_data"
    }
   ],
   "source": [
    "plt.hist(distance_rand)\n",
    "plt.show()"
   ]
  },
  {
   "cell_type": "code",
   "execution_count": 147,
   "id": "96cae2ce-2971-49c6-b1af-d73a617c24b9",
   "metadata": {},
   "outputs": [
    {
     "data": {
      "image/png": "[encoded data removed]",
      "text/plain": [
       "<Figure size 432x288 with 1 Axes>"
      ]
     },
     "metadata": {
      "needs_background": "light"
     },
     "output_type": "display_data"
    }
   ],
   "source": [
    "sample_random3 = createSamples(300,radix)\n",
    "\n",
    "distance_rand3 = mean_distance(sample_random3, mean_random, radix)\n",
    "plt.hist(distance_rand3)\n",
    "plt.show()"
   ]
  },
  {
   "cell_type": "code",
   "execution_count": 34,
   "id": "be5579e4-1995-4fe7-b848-b8dcf1ba3020",
   "metadata": {
    "tags": []
   },
   "outputs": [
    {
     "name": "stdout",
     "output_type": "stream",
     "text": [
      "...................................................................................................."
     ]
    }
   ],
   "source": [
    "# Random vs Random (iterated)\n",
    "rvr_distances = []\n",
    "for i in range(0,10000):\n",
    "    if i % 100 == 0:\n",
    "        print(\".\", end=\"\")\n",
    "    \n",
    "    sample_random_temp = createSamples(300,radix)\n",
    "    \n",
    "    distance_rand = mean_distance(sample_random_temp, mean_random, radix)\n",
    "    rvr_distances.append(distance_rand.sum())"
   ]
  },
  {
   "cell_type": "code",
   "execution_count": 35,
   "id": "ccfcb470-c693-4d93-aa89-445e7fde8034",
   "metadata": {},
   "outputs": [
    {
     "data": {
      "text/plain": [
       "2475.0436774358973"
      ]
     },
     "execution_count": 35,
     "metadata": {},
     "output_type": "execute_result"
    }
   ],
   "source": [
    "np.array(rvr_distances).mean()"
   ]
  },
  {
   "cell_type": "code",
   "execution_count": 41,
   "id": "16949e13-c5b7-4703-968d-479dd8862786",
   "metadata": {},
   "outputs": [
    {
     "data": {
      "image/png": "[encoded data removed]",
      "text/plain": [
       "<Figure size 432x288 with 1 Axes>"
      ]
     },
     "metadata": {
      "needs_background": "light"
     },
     "output_type": "display_data"
    }
   ],
   "source": [
    "plt.hist(np.array(rvr_distances))\n",
    "plt.show()"
   ]
  },
  {
   "cell_type": "code",
   "execution_count": null,
   "id": "67cf8ffc-0063-4236-a374-1f785b8fec65",
   "metadata": {},
   "outputs": [],
   "source": []
  },
  {
   "cell_type": "markdown",
   "id": "7e387f6d-fd57-46a1-93f0-d12d894f107a",
   "metadata": {},
   "source": [
    "### Adversarial Sample Building"
   ]
  },
  {
   "cell_type": "code",
   "execution_count": 43,
   "id": "bbb03916-af3f-40c7-b6b5-6dbb3872e40b",
   "metadata": {},
   "outputs": [
    {
     "data": {
      "text/plain": [
       "[3, 3, 3, 3, 3, 3, 3, 2, 65]"
      ]
     },
     "execution_count": 43,
     "metadata": {},
     "output_type": "execute_result"
    }
   ],
   "source": [
    "radix"
   ]
  },
  {
   "cell_type": "code",
   "execution_count": 156,
   "id": "2651deb3-0997-4aca-9683-28faf4376b8b",
   "metadata": {},
   "outputs": [],
   "source": [
    "n = 200  # number of handcrafted samples"
   ]
  },
  {
   "cell_type": "code",
   "execution_count": 157,
   "id": "e15137bc-2ba6-4c69-af85-036825e3bc7c",
   "metadata": {},
   "outputs": [
    {
     "data": {
      "text/plain": [
       "2501.1341538461543"
      ]
     },
     "execution_count": 157,
     "metadata": {},
     "output_type": "execute_result"
    }
   ],
   "source": [
    "sample_adv = np.concatenate((\n",
    "    [[2,2,2,2,2,2,2,1,60]]*n,\n",
    "    sample_300[n:,:]\n",
    "))\n",
    "\n",
    "distance_adv = mean_distance(sample_adv, mean_random, radix)\n",
    "distance_adv.sum()"
   ]
  },
  {
   "cell_type": "code",
   "execution_count": 158,
   "id": "352dd0e6-df9c-475b-804a-8a69cf0c2a11",
   "metadata": {},
   "outputs": [
    {
     "data": {
      "image/png": "[encoded data removed]",
      "text/plain": [
       "<Figure size 432x288 with 1 Axes>"
      ]
     },
     "metadata": {
      "needs_background": "light"
     },
     "output_type": "display_data"
    }
   ],
   "source": [
    "plt.hist(distance_adv)\n",
    "plt.show()"
   ]
  },
  {
   "cell_type": "code",
   "execution_count": 178,
   "id": "ff9d2757-9beb-419f-a76c-61535269da9b",
   "metadata": {},
   "outputs": [
    {
     "data": {
      "text/plain": [
       "2474.6147692307695"
      ]
     },
     "execution_count": 178,
     "metadata": {},
     "output_type": "execute_result"
    }
   ],
   "source": [
    "n = 200  # number of handcrafted samples\n",
    "\n",
    "sample_adv = np.concatenate((\n",
    "    [[0,0,0,0,0,0,0,1,47]]*n,\n",
    "    sample_random2[n:,:]\n",
    "))\n",
    "\n",
    "distance_adv = mean_distance(sample_adv, mean_random, radix)\n",
    "distance_adv.sum()"
   ]
  },
  {
   "cell_type": "code",
   "execution_count": 179,
   "id": "219d76de-5435-4e5b-a652-5e7a75681d1f",
   "metadata": {},
   "outputs": [
    {
     "data": {
      "image/png": "[encoded data removed]",
      "text/plain": [
       "<Figure size 432x288 with 1 Axes>"
      ]
     },
     "metadata": {
      "needs_background": "light"
     },
     "output_type": "display_data"
    }
   ],
   "source": [
    "plt.hist(distance_adv)\n",
    "plt.show()"
   ]
  },
  {
   "cell_type": "markdown",
   "id": "cab14ba9-d982-4258-9f04-738207e290ed",
   "metadata": {
    "tags": []
   },
   "source": [
    "### 3k data?"
   ]
  },
  {
   "cell_type": "code",
   "execution_count": 115,
   "id": "422c9199-bc49-44f2-ad4f-f27ccf6ee4da",
   "metadata": {},
   "outputs": [
    {
     "data": {
      "text/plain": [
       "array([[ 2,  2,  0, ...,  0,  1, 26],\n",
       "       [ 2,  2,  2, ...,  1,  1, 29],\n",
       "       [ 2,  2,  0, ...,  0,  1, 62],\n",
       "       ...,\n",
       "       [ 1,  2,  2, ...,  0,  0, 34],\n",
       "       [ 2,  2,  2, ...,  0,  1, 36],\n",
       "       [ 2,  1,  2, ...,  0,  1, 35]])"
      ]
     },
     "execution_count": 115,
     "metadata": {},
     "output_type": "execute_result"
    }
   ],
   "source": [
    "df_3k = pd.read_csv(\"../../../pew_3k.csv\")\n",
    "sample_3k = np.array(df_3k.drop(['Worker ID', 'cost', 'updated', 'round'], axis=1).applymap(\n",
    "    # convert answers to integers (within radix)\n",
    "    lambda x: {\n",
    "        # dictionary for radio question\n",
    "        'Easier': 0,\n",
    "        'Same': 1,\n",
    "        'Harder': 2,\n",
    "        # dictionary for boolean radio\n",
    "        'Yes': 1,\n",
    "        'No': 0,\n",
    "    }.get(x, int(x) if isinstance(x, numbers.Number) else x) # if an estimate, make it an int number\n",
    "))\n",
    "sample_3k"
   ]
  },
  {
   "cell_type": "code",
   "execution_count": 117,
   "id": "36f2dcb6-5ffb-4c4b-880a-b7579ab0832e",
   "metadata": {},
   "outputs": [
    {
     "data": {
      "text/plain": [
       "array([[ 1,  1,  2, ...,  1,  1, 18],\n",
       "       [ 2,  2,  0, ...,  0,  1, 31],\n",
       "       [ 2,  1,  1, ...,  1,  0, 55],\n",
       "       ...,\n",
       "       [ 0,  0,  2, ...,  1,  0, 17],\n",
       "       [ 0,  2,  1, ...,  1,  0, 62],\n",
       "       [ 2,  2,  2, ...,  2,  0, 32]])"
      ]
     },
     "execution_count": 117,
     "metadata": {},
     "output_type": "execute_result"
    }
   ],
   "source": [
    "sample_random_3k = createSamples(3000,radix)\n",
    "sample_random_3k"
   ]
  },
  {
   "cell_type": "code",
   "execution_count": 121,
   "id": "b8b79e0e-9f0c-442d-8d43-d10583a1da06",
   "metadata": {},
   "outputs": [
    {
     "data": {
      "text/plain": [
       "array([ 1.00233333,  1.00466667,  1.03133333,  0.99133333,  0.975     ,\n",
       "        1.01366667,  1.00066667,  0.50366667, 32.29733333])"
      ]
     },
     "execution_count": 121,
     "metadata": {},
     "output_type": "execute_result"
    }
   ],
   "source": [
    "mean_random_3k = sample_random_3k.mean(axis=0)\n",
    "mean_random_3k"
   ]
  },
  {
   "cell_type": "code",
   "execution_count": 122,
   "id": "50a7dd72-5377-4da9-a0f1-3231d083eb6b",
   "metadata": {},
   "outputs": [
    {
     "data": {
      "text/plain": [
       "29395.078851282055"
      ]
     },
     "execution_count": 122,
     "metadata": {},
     "output_type": "execute_result"
    }
   ],
   "source": [
    "# Sample vs Random\n",
    "distance_3k = mean_distance(sample_3k, mean_random_3k, radix)\n",
    "distance_3k.sum()"
   ]
  },
  {
   "cell_type": "code",
   "execution_count": 130,
   "id": "f8dec8f4-d372-4590-930f-d1dff1c0cd78",
   "metadata": {},
   "outputs": [
    {
     "data": {
      "image/png": "[encoded data removed]",
      "text/plain": [
       "<Figure size 432x288 with 1 Axes>"
      ]
     },
     "metadata": {
      "needs_background": "light"
     },
     "output_type": "display_data"
    }
   ],
   "source": [
    "plt.hist(distance_3k)\n",
    "plt.show()"
   ]
  },
  {
   "cell_type": "code",
   "execution_count": 139,
   "id": "3a606c6d-2811-47ed-b5cc-1712a735185c",
   "metadata": {},
   "outputs": [
    {
     "data": {
      "image/png": "[encoded data removed]",
      "text/plain": [
       "<Figure size 432x288 with 1 Axes>"
      ]
     },
     "metadata": {
      "needs_background": "light"
     },
     "output_type": "display_data"
    }
   ],
   "source": [
    "plt.hist(distance_3k[distance_3k < 10])\n",
    "plt.show()"
   ]
  },
  {
   "cell_type": "code",
   "execution_count": 152,
   "id": "aa8441c5-2ef0-40af-8dc2-7d247e4cfc91",
   "metadata": {},
   "outputs": [
    {
     "data": {
      "text/plain": [
       "24418.59783445374"
      ]
     },
     "execution_count": 152,
     "metadata": {},
     "output_type": "execute_result"
    }
   ],
   "source": [
    "distance_3k[distance_3k < 10].sum()/2998*3000"
   ]
  },
  {
   "cell_type": "code",
   "execution_count": 134,
   "id": "ae2bd14f-6d36-4311-af96-0074d57f1e82",
   "metadata": {},
   "outputs": [
    {
     "data": {
      "text/plain": [
       "24736.87072820513"
      ]
     },
     "execution_count": 134,
     "metadata": {},
     "output_type": "execute_result"
    }
   ],
   "source": [
    "# Random vs Random\n",
    "sample_random_3k_2 = createSamples(3000,radix)\n",
    "\n",
    "distance_rand_3k = mean_distance(sample_random_3k_2, mean_random_3k, radix)\n",
    "distance_rand_3k.sum()"
   ]
  },
  {
   "cell_type": "code",
   "execution_count": 133,
   "id": "f6dace8f-7068-4a33-ba9c-91e9965ecf12",
   "metadata": {},
   "outputs": [
    {
     "data": {
      "image/png": "[encoded data removed]",
      "text/plain": [
       "<Figure size 432x288 with 1 Axes>"
      ]
     },
     "metadata": {
      "needs_background": "light"
     },
     "output_type": "display_data"
    }
   ],
   "source": [
    "plt.hist(distance_rand_3k)\n",
    "plt.show()"
   ]
  },
  {
   "cell_type": "code",
   "execution_count": 124,
   "id": "1f7640e4-b080-40b6-bd81-58e161cf0fb4",
   "metadata": {
    "tags": []
   },
   "outputs": [
    {
     "name": "stdout",
     "output_type": "stream",
     "text": [
      "...................................................................................................."
     ]
    }
   ],
   "source": [
    "# Random vs Random (iterated)\n",
    "rvr_distances_3k = []\n",
    "for i in range(0,10000):\n",
    "    if i % 100 == 0:\n",
    "        print(\".\", end=\"\")\n",
    "    \n",
    "    sample_random_temp = createSamples(3000,radix)\n",
    "    \n",
    "    distance_rand_3k = mean_distance(sample_random_temp, mean_random_3k, radix)\n",
    "    rvr_distances_3k.append(distance_rand_3k.sum())"
   ]
  },
  {
   "cell_type": "code",
   "execution_count": 125,
   "id": "aaec2c7c-aadb-4707-a1f1-86d0430a2c74",
   "metadata": {},
   "outputs": [
    {
     "data": {
      "text/plain": [
       "24749.9774769641"
      ]
     },
     "execution_count": 125,
     "metadata": {},
     "output_type": "execute_result"
    }
   ],
   "source": [
    "np.array(rvr_distances_3k).mean()"
   ]
  },
  {
   "cell_type": "code",
   "execution_count": 126,
   "id": "61f6d52a-1f01-4dd0-998a-89c7d01b827a",
   "metadata": {},
   "outputs": [
    {
     "data": {
      "image/png": "[encoded data removed]",
      "text/plain": [
       "<Figure size 432x288 with 1 Axes>"
      ]
     },
     "metadata": {
      "needs_background": "light"
     },
     "output_type": "display_data"
    }
   ],
   "source": [
    "plt.hist(np.array(rvr_distances_3k))\n",
    "plt.show()"
   ]
  },
  {
   "cell_type": "code",
   "execution_count": null,
   "id": "5708cd55-b657-4939-aff3-b9985384a315",
   "metadata": {},
   "outputs": [],
   "source": []
  }
 ],
 "metadata": {
  "kernelspec": {
   "display_name": "Python 3",
   "language": "python",
   "name": "python3"
  },
  "language_info": {
   "codemirror_mode": {
    "name": "ipython",
    "version": 3
   },
   "file_extension": ".py",
   "mimetype": "text/x-python",
   "name": "python",
   "nbconvert_exporter": "python",
   "pygments_lexer": "ipython3",
   "version": "3.9.12"
  }
 },
 "nbformat": 4,
 "nbformat_minor": 5
}
