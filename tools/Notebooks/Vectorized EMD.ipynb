{
 "cells": [
  {
   "cell_type": "code",
   "execution_count": 1,
   "id": "15627fc3-db02-4bfa-8d6a-eb6ddf0cfc0f",
   "metadata": {},
   "outputs": [],
   "source": [
    "import numpy as np\n",
    "import pandas as pd"
   ]
  },
  {
   "cell_type": "code",
   "execution_count": 56,
   "id": "cf75db65-4052-413a-9c0f-5c06bd9089b0",
   "metadata": {},
   "outputs": [],
   "source": [
    "import numbers"
   ]
  },
  {
   "cell_type": "code",
   "execution_count": 66,
   "id": "ed4b4134-f981-4f19-bb92-70f5738f506b",
   "metadata": {},
   "outputs": [],
   "source": [
    "import math"
   ]
  },
  {
   "cell_type": "code",
   "execution_count": 71,
   "id": "78be4cbe-abd0-4e02-9fef-d162fddf56c5",
   "metadata": {},
   "outputs": [],
   "source": [
    "from operator import itemgetter"
   ]
  },
  {
   "cell_type": "code",
   "execution_count": 74,
   "id": "c34dd5b5-88cc-4b9c-b4c4-785a1166e04f",
   "metadata": {},
   "outputs": [],
   "source": [
    "import time"
   ]
  },
  {
   "cell_type": "markdown",
   "id": "3dde50c3-5270-43f5-a67b-f0ddd2c4378b",
   "metadata": {
    "jp-MarkdownHeadingCollapsed": true,
    "tags": []
   },
   "source": [
    "### Data Preprocessing"
   ]
  },
  {
   "cell_type": "code",
   "execution_count": 3,
   "id": "07c31029-53ae-43c2-a4dc-eb260db10ffb",
   "metadata": {},
   "outputs": [],
   "source": [
    "df_300 = pd.read_csv(\"../../PEW_Jun29_300.csv\")"
   ]
  },
  {
   "cell_type": "code",
   "execution_count": 4,
   "id": "12e65ad4-4c38-4bb4-bd74-153b6301992d",
   "metadata": {},
   "outputs": [
    {
     "data": {
      "text/html": [
       "<div>\n",
       "<style scoped>\n",
       "    .dataframe tbody tr th:only-of-type {\n",
       "        vertical-align: middle;\n",
       "    }\n",
       "\n",
       "    .dataframe tbody tr th {\n",
       "        vertical-align: top;\n",
       "    }\n",
       "\n",
       "    .dataframe thead th {\n",
       "        text-align: right;\n",
       "    }\n",
       "</style>\n",
       "<table border=\"1\" class=\"dataframe\">\n",
       "  <thead>\n",
       "    <tr style=\"text-align: right;\">\n",
       "      <th></th>\n",
       "      <th>Worker ID</th>\n",
       "      <th>Saving for the future</th>\n",
       "      <th>Paying for college</th>\n",
       "      <th>Buying a home</th>\n",
       "      <th>Finding a spouse or partner</th>\n",
       "      <th>Finding a job</th>\n",
       "      <th>Getting into college</th>\n",
       "      <th>Staying in touch with family and friends</th>\n",
       "      <th>Do you currently live in the United States?</th>\n",
       "      <th>What is your age?</th>\n",
       "    </tr>\n",
       "  </thead>\n",
       "  <tbody>\n",
       "    <tr>\n",
       "      <th>0</th>\n",
       "      <td>A2MS1GQLGAX9FZ</td>\n",
       "      <td>Harder</td>\n",
       "      <td>Harder</td>\n",
       "      <td>Harder</td>\n",
       "      <td>Harder</td>\n",
       "      <td>Harder</td>\n",
       "      <td>Easier</td>\n",
       "      <td>Easier</td>\n",
       "      <td>Yes</td>\n",
       "      <td>24.0</td>\n",
       "    </tr>\n",
       "    <tr>\n",
       "      <th>1</th>\n",
       "      <td>A211TN268BD80Q</td>\n",
       "      <td>Easier</td>\n",
       "      <td>Easier</td>\n",
       "      <td>Easier</td>\n",
       "      <td>Easier</td>\n",
       "      <td>Easier</td>\n",
       "      <td>Easier</td>\n",
       "      <td>Easier</td>\n",
       "      <td>Yes</td>\n",
       "      <td>4.0</td>\n",
       "    </tr>\n",
       "    <tr>\n",
       "      <th>2</th>\n",
       "      <td>A172PA5HBQNKQM</td>\n",
       "      <td>Harder</td>\n",
       "      <td>Same</td>\n",
       "      <td>Easier</td>\n",
       "      <td>Harder</td>\n",
       "      <td>Easier</td>\n",
       "      <td>Easier</td>\n",
       "      <td>Harder</td>\n",
       "      <td>Yes</td>\n",
       "      <td>25.0</td>\n",
       "    </tr>\n",
       "    <tr>\n",
       "      <th>3</th>\n",
       "      <td>AKZ3J53DA84EX</td>\n",
       "      <td>Easier</td>\n",
       "      <td>Easier</td>\n",
       "      <td>Easier</td>\n",
       "      <td>Easier</td>\n",
       "      <td>Easier</td>\n",
       "      <td>Easier</td>\n",
       "      <td>Easier</td>\n",
       "      <td>Yes</td>\n",
       "      <td>30.0</td>\n",
       "    </tr>\n",
       "    <tr>\n",
       "      <th>4</th>\n",
       "      <td>A3IOAOY6RR12YN</td>\n",
       "      <td>Easier</td>\n",
       "      <td>Easier</td>\n",
       "      <td>Easier</td>\n",
       "      <td>Harder</td>\n",
       "      <td>Easier</td>\n",
       "      <td>Easier</td>\n",
       "      <td>Easier</td>\n",
       "      <td>No</td>\n",
       "      <td>45.0</td>\n",
       "    </tr>\n",
       "    <tr>\n",
       "      <th>...</th>\n",
       "      <td>...</td>\n",
       "      <td>...</td>\n",
       "      <td>...</td>\n",
       "      <td>...</td>\n",
       "      <td>...</td>\n",
       "      <td>...</td>\n",
       "      <td>...</td>\n",
       "      <td>...</td>\n",
       "      <td>...</td>\n",
       "      <td>...</td>\n",
       "    </tr>\n",
       "    <tr>\n",
       "      <th>295</th>\n",
       "      <td>A7AXZSG0CTRLG</td>\n",
       "      <td>Same</td>\n",
       "      <td>Harder</td>\n",
       "      <td>Harder</td>\n",
       "      <td>Same</td>\n",
       "      <td>Same</td>\n",
       "      <td>Harder</td>\n",
       "      <td>Same</td>\n",
       "      <td>Yes</td>\n",
       "      <td>32.0</td>\n",
       "    </tr>\n",
       "    <tr>\n",
       "      <th>296</th>\n",
       "      <td>A172SQXS2LLR43</td>\n",
       "      <td>Harder</td>\n",
       "      <td>Easier</td>\n",
       "      <td>Easier</td>\n",
       "      <td>Easier</td>\n",
       "      <td>Harder</td>\n",
       "      <td>Harder</td>\n",
       "      <td>Easier</td>\n",
       "      <td>Yes</td>\n",
       "      <td>44.0</td>\n",
       "    </tr>\n",
       "    <tr>\n",
       "      <th>297</th>\n",
       "      <td>AWWBF2RVU8HNM</td>\n",
       "      <td>Easier</td>\n",
       "      <td>Easier</td>\n",
       "      <td>Easier</td>\n",
       "      <td>Easier</td>\n",
       "      <td>Easier</td>\n",
       "      <td>Easier</td>\n",
       "      <td>Easier</td>\n",
       "      <td>Yes</td>\n",
       "      <td>37.0</td>\n",
       "    </tr>\n",
       "    <tr>\n",
       "      <th>298</th>\n",
       "      <td>A3335ASFR3L0Z8</td>\n",
       "      <td>Harder</td>\n",
       "      <td>Harder</td>\n",
       "      <td>Harder</td>\n",
       "      <td>Harder</td>\n",
       "      <td>Harder</td>\n",
       "      <td>Same</td>\n",
       "      <td>Harder</td>\n",
       "      <td>Yes</td>\n",
       "      <td>33.0</td>\n",
       "    </tr>\n",
       "    <tr>\n",
       "      <th>299</th>\n",
       "      <td>A6CG4Z4ZY2U05</td>\n",
       "      <td>Easier</td>\n",
       "      <td>Harder</td>\n",
       "      <td>Easier</td>\n",
       "      <td>Easier</td>\n",
       "      <td>Harder</td>\n",
       "      <td>Harder</td>\n",
       "      <td>Easier</td>\n",
       "      <td>Yes</td>\n",
       "      <td>39.0</td>\n",
       "    </tr>\n",
       "  </tbody>\n",
       "</table>\n",
       "<p>300 rows × 10 columns</p>\n",
       "</div>"
      ],
      "text/plain": [
       "          Worker ID Saving for the future Paying for college Buying a home  \\\n",
       "0    A2MS1GQLGAX9FZ                Harder             Harder        Harder   \n",
       "1    A211TN268BD80Q                Easier             Easier        Easier   \n",
       "2    A172PA5HBQNKQM                Harder               Same        Easier   \n",
       "3     AKZ3J53DA84EX                Easier             Easier        Easier   \n",
       "4    A3IOAOY6RR12YN                Easier             Easier        Easier   \n",
       "..              ...                   ...                ...           ...   \n",
       "295   A7AXZSG0CTRLG                  Same             Harder        Harder   \n",
       "296  A172SQXS2LLR43                Harder             Easier        Easier   \n",
       "297   AWWBF2RVU8HNM                Easier             Easier        Easier   \n",
       "298  A3335ASFR3L0Z8                Harder             Harder        Harder   \n",
       "299   A6CG4Z4ZY2U05                Easier             Harder        Easier   \n",
       "\n",
       "    Finding a spouse or partner Finding a job Getting into college  \\\n",
       "0                        Harder        Harder               Easier   \n",
       "1                        Easier        Easier               Easier   \n",
       "2                        Harder        Easier               Easier   \n",
       "3                        Easier        Easier               Easier   \n",
       "4                        Harder        Easier               Easier   \n",
       "..                          ...           ...                  ...   \n",
       "295                        Same          Same               Harder   \n",
       "296                      Easier        Harder               Harder   \n",
       "297                      Easier        Easier               Easier   \n",
       "298                      Harder        Harder                 Same   \n",
       "299                      Easier        Harder               Harder   \n",
       "\n",
       "    Staying in touch with family and friends  \\\n",
       "0                                     Easier   \n",
       "1                                     Easier   \n",
       "2                                     Harder   \n",
       "3                                     Easier   \n",
       "4                                     Easier   \n",
       "..                                       ...   \n",
       "295                                     Same   \n",
       "296                                   Easier   \n",
       "297                                   Easier   \n",
       "298                                   Harder   \n",
       "299                                   Easier   \n",
       "\n",
       "    Do you currently live in the United States?  What is your age?  \n",
       "0                                           Yes               24.0  \n",
       "1                                           Yes                4.0  \n",
       "2                                           Yes               25.0  \n",
       "3                                           Yes               30.0  \n",
       "4                                            No               45.0  \n",
       "..                                          ...                ...  \n",
       "295                                         Yes               32.0  \n",
       "296                                         Yes               44.0  \n",
       "297                                         Yes               37.0  \n",
       "298                                         Yes               33.0  \n",
       "299                                         Yes               39.0  \n",
       "\n",
       "[300 rows x 10 columns]"
      ]
     },
     "execution_count": 4,
     "metadata": {},
     "output_type": "execute_result"
    }
   ],
   "source": [
    "df_300"
   ]
  },
  {
   "cell_type": "code",
   "execution_count": 5,
   "id": "d1958cf5-c5f7-4d2c-9d8a-e2c464abd9fb",
   "metadata": {},
   "outputs": [],
   "source": [
    "question_types = [\"radio\", \"radio\", \"radio\", \"radio\", \"radio\", \"radio\", \"radio\", \"radio\", \"estimate\"]"
   ]
  },
  {
   "cell_type": "code",
   "execution_count": 22,
   "id": "3fafe317-7a99-4004-aeb1-caf95b46e25b",
   "metadata": {},
   "outputs": [],
   "source": [
    "c_age = df_300['What is your age?']\n",
    "radix = [3, 3, 3, 3, 3, 3, 3, 2, int(c_age.max()-c_age.min())]"
   ]
  },
  {
   "cell_type": "code",
   "execution_count": 25,
   "id": "8404a230-5e17-4d7a-96c5-29cc6b4769bb",
   "metadata": {},
   "outputs": [],
   "source": [
    "import random"
   ]
  },
  {
   "cell_type": "code",
   "execution_count": 28,
   "id": "0824cf54-6f47-410c-adad-dd6955b842a5",
   "metadata": {},
   "outputs": [],
   "source": [
    "# n is number of samples to create\n",
    "# radixes describes what a sample should look like: possibilities for each sample\n",
    "def createSamples(n, radixes):\n",
    "\n",
    "    samples = []\n",
    "    length = len(radixes)\n",
    "\n",
    "    for x in range(n):\n",
    "\n",
    "        sample = []\n",
    "\n",
    "        for y in range(length):\n",
    "\n",
    "            # for each item, randomly choose using probabilities\n",
    "            radix = radixes[y]\n",
    "\n",
    "            newNumber = random.randint(0, radix-1)\n",
    "            sample.append(newNumber)\n",
    "\n",
    "        samples.append(sample)\n",
    "\n",
    "\n",
    "    return np.array(samples)"
   ]
  },
  {
   "cell_type": "code",
   "execution_count": 32,
   "id": "92ce5f5f-ea19-4aad-8851-f67b4867184e",
   "metadata": {},
   "outputs": [
    {
     "data": {
      "text/plain": [
       "array([[ 0,  0,  1, ...,  1,  1, 33],\n",
       "       [ 1,  1,  2, ...,  1,  0,  3],\n",
       "       [ 1,  1,  0, ...,  1,  0, 27],\n",
       "       ...,\n",
       "       [ 2,  0,  2, ...,  1,  0, 60],\n",
       "       [ 2,  0,  0, ...,  1,  1, 45],\n",
       "       [ 1,  1,  2, ...,  2,  1, 19]])"
      ]
     },
     "execution_count": 32,
     "metadata": {},
     "output_type": "execute_result"
    }
   ],
   "source": [
    "sample_random = createSamples(300,radix)\n",
    "sample_random"
   ]
  },
  {
   "cell_type": "code",
   "execution_count": 61,
   "id": "d851c296-243a-423e-af7c-430ec7b86e77",
   "metadata": {},
   "outputs": [
    {
     "data": {
      "text/plain": [
       "array([[ 2,  2,  2, ...,  0,  1, 24],\n",
       "       [ 0,  0,  0, ...,  0,  1,  4],\n",
       "       [ 2,  1,  0, ...,  2,  1, 25],\n",
       "       ...,\n",
       "       [ 0,  0,  0, ...,  0,  1, 37],\n",
       "       [ 2,  2,  2, ...,  2,  1, 33],\n",
       "       [ 0,  2,  0, ...,  0,  1, 39]])"
      ]
     },
     "execution_count": 61,
     "metadata": {},
     "output_type": "execute_result"
    }
   ],
   "source": [
    "sample_300 = np.array(df_300.drop('Worker ID', axis=1).applymap(\n",
    "    # convert answers to integers (within radix)\n",
    "    lambda x: {\n",
    "        # dictionary for radio question\n",
    "        'Easier': 0,\n",
    "        'Same': 1,\n",
    "        'Harder': 2,\n",
    "        # dictionary for boolean radio\n",
    "        'Yes': 1,\n",
    "        'No': 0,\n",
    "    }.get(x, int(x) if isinstance(x, numbers.Number) else x) # if an estimate, make it an int number\n",
    "))\n",
    "sample_300"
   ]
  },
  {
   "cell_type": "markdown",
   "id": "419c8e58-7107-4671-8786-257dd01cddbe",
   "metadata": {
    "jp-MarkdownHeadingCollapsed": true,
    "tags": []
   },
   "source": [
    "### Measuring Performance of <ANONYMIZED>'s code"
   ]
  },
  {
   "cell_type": "code",
   "execution_count": 98,
   "id": "a6ea8e0a-8f86-491f-af85-fa93a9402471",
   "metadata": {
    "tags": []
   },
   "outputs": [],
   "source": [
    "def earth_movers_1(samples1, samples2, radixes, question_types):\n",
    "\n",
    "    if (len(samples1) != len(samples2)):\n",
    "        print(\"Error! Lists should be the same length!\")\n",
    "        return\n",
    "\n",
    "    if (len(samples1[0]) != len(samples2[0])):\n",
    "        print(\"Error! Each item in each list should be the same length!\")\n",
    "        return\n",
    "\n",
    "    numberOfSamples = len(samples1)\n",
    "    complexity = len(radixes)\n",
    "\n",
    "    # data is stored in this format:\n",
    "    # [x1y1, x1y2, x1y3 ... x2y1, x2y2...] where x1y2 is the distance between element 1 of list 1 and element 1 of list 2\n",
    "\n",
    "    data = []\n",
    "\n",
    "    # exhaustively compute the distance between every pair\n",
    "    for x in range(numberOfSamples):\n",
    "\n",
    "        for y in range(numberOfSamples):\n",
    "\n",
    "            s1 = samples1[x]\n",
    "            s2 = samples2[y]\n",
    "\n",
    "            total = 0\n",
    "\n",
    "\n",
    "            # Calculate euclidean distance\n",
    "            for z in range(complexity):\n",
    "\n",
    "                # check the question type\n",
    "                if question_types[z] == \"radio\" or question_types[z] == \"checkbox\":\n",
    "\n",
    "                    # for radio and checkbox questions, different is 1 and same is 0\n",
    "                    if s1[z] != s2[z]:\n",
    "                        total += 1\n",
    "\n",
    "                else:\n",
    "                    # Right now the only other case is estimate. For these, normalize between 0 and 1\n",
    "                    radix = radixes[z]\n",
    "                    percent1 = s1[z] / (radix - 1)\n",
    "                    percent2 = s2[z] / (radix - 1)\n",
    "                    diff = percent1 - percent2\n",
    "                    total += (diff * diff)\n",
    "\n",
    "            # Append the distance, plus the x and y\n",
    "            totalRoot = math.sqrt(total)\n",
    "            data.append([x,y,totalRoot])\n",
    "\n",
    "    return data\n",
    "\n",
    "\n",
    "def earth_movers_2(data):\n",
    "\n",
    "    distance = 0\n",
    "\n",
    "    # sort\n",
    "    sortedData = sorted(data, key=itemgetter(2))\n",
    "\n",
    "    return sortedData\n",
    "\n",
    "\n",
    "def earth_movers_3(sortedData, numberOfSamples):\n",
    "    # rows and columns already used\n",
    "    rowsUsed = []\n",
    "    columnsUsed = []\n",
    "\n",
    "    number_chosen = 0\n",
    "    distance = 0.0\n",
    "    index = 0\n",
    "\n",
    "    # go through and find the smallest value until every item has been \"moved\"\n",
    "    while (number_chosen < numberOfSamples):\n",
    "\n",
    "        current = sortedData[index]\n",
    "        row = current[0]\n",
    "        column = current[1]\n",
    "        dist = current[2]\n",
    "\n",
    "        if row not in rowsUsed and column not in columnsUsed:\n",
    "\n",
    "            distance += dist\n",
    "            number_chosen += 1\n",
    "            rowsUsed.append(row)\n",
    "            columnsUsed.append(column)\n",
    "\n",
    "        index += 1\n",
    "\n",
    "    return distance\n"
   ]
  },
  {
   "cell_type": "code",
   "execution_count": 101,
   "id": "bfb71866-a336-4d49-bd37-0c55352f8649",
   "metadata": {},
   "outputs": [
    {
     "name": "stdout",
     "output_type": "stream",
     "text": [
      "0 1 2 3 4 5 6 7 8 9 10 11 12 13 14 15 16 17 18 19 20 21 22 23 24 25 26 27 28 29 30 31 32 33 34 35 36 37 38 39 40 41 42 43 44 45 46 47 48 49 50 51 52 53 54 55 56 57 58 59 60 61 62 63 64 65 66 67 68 69 70 71 72 73 74 75 76 77 78 79 80 81 82 83 84 85 86 87 88 89 90 91 92 93 94 95 96 97 98 99 earth_movers_1: time taken: 23.5659 seconds\n"
     ]
    }
   ],
   "source": [
    "tic = time.perf_counter()\n",
    "\n",
    "for i in range(0,100):\n",
    "    print(i, end=' ')\n",
    "    earth_movers_1(sample_random, sample_300, radix, question_types)\n",
    "\n",
    "toc = time.perf_counter()\n",
    "print(f\"earth_movers_1: time taken: {toc - tic:0.4f} seconds\")"
   ]
  },
  {
   "cell_type": "code",
   "execution_count": 96,
   "id": "443d3c31-b8f8-4b2f-a035-3f331213796b",
   "metadata": {},
   "outputs": [
    {
     "name": "stdout",
     "output_type": "stream",
     "text": [
      "0 1 2 3 4 5 6 7 8 9 10 11 12 13 14 15 16 17 18 19 20 21 22 23 24 25 26 27 28 29 30 31 32 33 34 35 36 37 38 39 40 41 42 43 44 45 46 47 48 49 50 51 52 53 54 55 56 57 58 59 60 61 62 63 64 65 66 67 68 69 70 71 72 73 74 75 76 77 78 79 80 81 82 83 84 85 86 87 88 89 90 91 92 93 94 95 96 97 98 99 earth_movers_2: time taken: 1.0490 seconds\n"
     ]
    }
   ],
   "source": [
    "distance_matrix = earth_movers_1(sample_random, sample_300, radix, question_types)\n",
    "tic = time.perf_counter()\n",
    "\n",
    "for i in range(0,100):\n",
    "    print(i, end=' ')\n",
    "    earth_movers_2(distance_matrix)\n",
    "\n",
    "toc = time.perf_counter()\n",
    "print(f\"earth_movers_2: time taken: {toc - tic:0.4f} seconds\")"
   ]
  },
  {
   "cell_type": "code",
   "execution_count": 100,
   "id": "5ead5156-f896-4287-b6b3-1ccf8f264cc5",
   "metadata": {},
   "outputs": [
    {
     "name": "stdout",
     "output_type": "stream",
     "text": [
      "0 1 2 3 4 5 6 7 8 9 10 11 12 13 14 15 16 17 18 19 20 21 22 23 24 25 26 27 28 29 30 31 32 33 34 35 36 37 38 39 40 41 42 43 44 45 46 47 48 49 50 51 52 53 54 55 56 57 58 59 60 61 62 63 64 65 66 67 68 69 70 71 72 73 74 75 76 77 78 79 80 81 82 83 84 85 86 87 88 89 90 91 92 93 94 95 96 97 98 99 earth_movers_2: time taken: 9.3295 seconds\n"
     ]
    }
   ],
   "source": [
    "sorted_distance_matrix = earth_movers_2(distance_matrix)\n",
    "\n",
    "tic = time.perf_counter()\n",
    "\n",
    "for i in range(0,100):\n",
    "    print(i, end=' ')\n",
    "    earth_movers_3(sorted_distance_matrix, len(sample_300))\n",
    "\n",
    "toc = time.perf_counter()\n",
    "print(f\"earth_movers_2: time taken: {toc - tic:0.4f} seconds\")"
   ]
  },
  {
   "cell_type": "code",
   "execution_count": 81,
   "id": "2a0baa45-603d-48fe-9592-5fcbdc589f93",
   "metadata": {
    "collapsed": true,
    "jupyter": {
     "outputs_hidden": true
    },
    "tags": []
   },
   "outputs": [
    {
     "name": "stdout",
     "output_type": "stream",
     "text": [
      "0 477.24664109137547\n",
      "1 477.24664109137547\n",
      "2 477.24664109137547\n",
      "3 477.24664109137547\n",
      "4 477.24664109137547\n",
      "5 477.24664109137547\n",
      "6 477.24664109137547\n",
      "7 477.24664109137547\n",
      "8 477.24664109137547\n",
      "9 477.24664109137547\n",
      "10 477.24664109137547\n",
      "11 477.24664109137547\n",
      "12 477.24664109137547\n",
      "13 477.24664109137547\n",
      "14 477.24664109137547\n",
      "15 477.24664109137547\n",
      "16 477.24664109137547\n",
      "17 477.24664109137547\n",
      "18 477.24664109137547\n",
      "19 477.24664109137547\n",
      "20 477.24664109137547\n",
      "21 477.24664109137547\n",
      "22 477.24664109137547\n",
      "23 477.24664109137547\n",
      "24 477.24664109137547\n",
      "25 477.24664109137547\n",
      "26 477.24664109137547\n",
      "27 477.24664109137547\n",
      "28 477.24664109137547\n",
      "29 477.24664109137547\n",
      "30 477.24664109137547\n",
      "31 477.24664109137547\n",
      "32 477.24664109137547\n",
      "33 477.24664109137547\n",
      "34 477.24664109137547\n",
      "35 477.24664109137547\n",
      "36 477.24664109137547\n",
      "37 477.24664109137547\n",
      "38 477.24664109137547\n",
      "39 477.24664109137547\n",
      "40 477.24664109137547\n",
      "41 477.24664109137547\n",
      "42 477.24664109137547\n",
      "43 477.24664109137547\n",
      "44 477.24664109137547\n",
      "45 477.24664109137547\n",
      "46 477.24664109137547\n",
      "47 477.24664109137547\n",
      "48 477.24664109137547\n",
      "49 477.24664109137547\n",
      "50 477.24664109137547\n",
      "51 477.24664109137547\n",
      "52 477.24664109137547\n",
      "53 477.24664109137547\n",
      "54 477.24664109137547\n",
      "55 477.24664109137547\n",
      "56 477.24664109137547\n",
      "57 477.24664109137547\n",
      "58 477.24664109137547\n",
      "59 477.24664109137547\n",
      "60 477.24664109137547\n",
      "61 477.24664109137547\n",
      "62 477.24664109137547\n",
      "63 477.24664109137547\n",
      "64 477.24664109137547\n",
      "65 477.24664109137547\n",
      "66 477.24664109137547\n",
      "67 477.24664109137547\n",
      "68 477.24664109137547\n",
      "69 477.24664109137547\n",
      "70 477.24664109137547\n",
      "71 477.24664109137547\n",
      "72 477.24664109137547\n",
      "73 477.24664109137547\n",
      "74 477.24664109137547\n",
      "75 477.24664109137547\n",
      "76 477.24664109137547\n",
      "77 477.24664109137547\n",
      "78 477.24664109137547\n",
      "79 477.24664109137547\n",
      "80 477.24664109137547\n",
      "81 477.24664109137547\n",
      "82 477.24664109137547\n",
      "83 477.24664109137547\n",
      "84 477.24664109137547\n",
      "85 477.24664109137547\n",
      "86 477.24664109137547\n",
      "87 477.24664109137547\n",
      "88 477.24664109137547\n",
      "89 477.24664109137547\n",
      "90 477.24664109137547\n",
      "91 477.24664109137547\n",
      "92 477.24664109137547\n",
      "93 477.24664109137547\n",
      "94 477.24664109137547\n",
      "95 477.24664109137547\n",
      "96 477.24664109137547\n",
      "97 477.24664109137547\n",
      "98 477.24664109137547\n",
      "99 477.24664109137547\n",
      "Time taken: 36.6176 seconds\n"
     ]
    }
   ],
   "source": [
    "tic = time.perf_counter()\n",
    "\n",
    "for i in range(0,100):\n",
    "    print(i, earth_movers(sample_random, sample_300, radix, question_types))\n",
    "\n",
    "toc = time.perf_counter()\n",
    "print(f\"Time taken: {toc - tic:0.4f} seconds\")"
   ]
  },
  {
   "cell_type": "code",
   "execution_count": 82,
   "id": "7f133ddb-8734-4aaf-8a4b-c2a276b0236a",
   "metadata": {
    "collapsed": true,
    "jupyter": {
     "outputs_hidden": true
    },
    "tags": []
   },
   "outputs": [
    {
     "name": "stdout",
     "output_type": "stream",
     "text": [
      "0 477.24664109137547\n",
      "1 477.24664109137547\n",
      "2 477.24664109137547\n",
      "3 477.24664109137547\n",
      "4 477.24664109137547\n",
      "5 477.24664109137547\n",
      "6 477.24664109137547\n",
      "7 477.24664109137547\n",
      "8 477.24664109137547\n",
      "9 477.24664109137547\n",
      "10 477.24664109137547\n",
      "11 477.24664109137547\n",
      "12 477.24664109137547\n",
      "13 477.24664109137547\n",
      "14 477.24664109137547\n",
      "15 477.24664109137547\n",
      "16 477.24664109137547\n",
      "17 477.24664109137547\n",
      "18 477.24664109137547\n",
      "19 477.24664109137547\n",
      "20 477.24664109137547\n",
      "21 477.24664109137547\n",
      "22 477.24664109137547\n",
      "23 477.24664109137547\n",
      "24 477.24664109137547\n",
      "25 477.24664109137547\n",
      "26 477.24664109137547\n",
      "27 477.24664109137547\n",
      "28 477.24664109137547\n",
      "29 477.24664109137547\n",
      "30 477.24664109137547\n",
      "31 477.24664109137547\n",
      "32 477.24664109137547\n",
      "33 477.24664109137547\n",
      "34 477.24664109137547\n",
      "35 477.24664109137547\n",
      "36 477.24664109137547\n",
      "37 477.24664109137547\n",
      "38 477.24664109137547\n",
      "39 477.24664109137547\n",
      "40 477.24664109137547\n",
      "41 477.24664109137547\n",
      "42 477.24664109137547\n",
      "43 477.24664109137547\n",
      "44 477.24664109137547\n",
      "45 477.24664109137547\n",
      "46 477.24664109137547\n",
      "47 477.24664109137547\n",
      "48 477.24664109137547\n",
      "49 477.24664109137547\n",
      "50 477.24664109137547\n",
      "51 477.24664109137547\n",
      "52 477.24664109137547\n",
      "53 477.24664109137547\n",
      "54 477.24664109137547\n",
      "55 477.24664109137547\n",
      "56 477.24664109137547\n",
      "57 477.24664109137547\n",
      "58 477.24664109137547\n",
      "59 477.24664109137547\n",
      "60 477.24664109137547\n",
      "61 477.24664109137547\n",
      "62 477.24664109137547\n",
      "63 477.24664109137547\n",
      "64 477.24664109137547\n",
      "65 477.24664109137547\n",
      "66 477.24664109137547\n",
      "67 477.24664109137547\n",
      "68 477.24664109137547\n",
      "69 477.24664109137547\n",
      "70 477.24664109137547\n",
      "71 477.24664109137547\n",
      "72 477.24664109137547\n",
      "73 477.24664109137547\n",
      "74 477.24664109137547\n",
      "75 477.24664109137547\n",
      "76 477.24664109137547\n",
      "77 477.24664109137547\n",
      "78 477.24664109137547\n",
      "79 477.24664109137547\n",
      "80 477.24664109137547\n",
      "81 477.24664109137547\n",
      "82 477.24664109137547\n",
      "83 477.24664109137547\n",
      "84 477.24664109137547\n",
      "85 477.24664109137547\n",
      "86 477.24664109137547\n",
      "87 477.24664109137547\n",
      "88 477.24664109137547\n",
      "89 477.24664109137547\n",
      "90 477.24664109137547\n",
      "91 477.24664109137547\n",
      "92 477.24664109137547\n",
      "93 477.24664109137547\n",
      "94 477.24664109137547\n",
      "95 477.24664109137547\n",
      "96 477.24664109137547\n",
      "97 477.24664109137547\n",
      "98 477.24664109137547\n",
      "99 477.24664109137547\n",
      "Time taken: 27.4162 seconds\n"
     ]
    }
   ],
   "source": [
    "list_random = sample_random.tolist()\n",
    "list_300 = sample_300.tolist()\n",
    "\n",
    "tic = time.perf_counter()\n",
    "\n",
    "for i in range(0,100):\n",
    "    print(i, earth_movers(list_random, list_300, radix, question_types))\n",
    "\n",
    "toc = time.perf_counter()\n",
    "print(f\"Time taken: {toc - tic:0.4f} seconds\")"
   ]
  },
  {
   "cell_type": "markdown",
   "id": "50d11172-84f8-4c3f-a4fe-c9e242deb7fc",
   "metadata": {
    "jp-MarkdownHeadingCollapsed": true,
    "tags": []
   },
   "source": [
    "### Calculate distance matrix"
   ]
  },
  {
   "cell_type": "code",
   "execution_count": 85,
   "id": "097c18eb-5744-4318-8c75-23058d5bf312",
   "metadata": {},
   "outputs": [
    {
     "data": {
      "text/plain": [
       "array([ 93,  31, 176])"
      ]
     },
     "execution_count": 85,
     "metadata": {},
     "output_type": "execute_result"
    }
   ],
   "source": [
    "np.bincount(sample_300[:,0])"
   ]
  },
  {
   "cell_type": "code",
   "execution_count": 86,
   "id": "f897fad9-2cf8-43cf-b981-69202050f785",
   "metadata": {},
   "outputs": [
    {
     "data": {
      "text/plain": [
       "array([101,  99, 100])"
      ]
     },
     "execution_count": 86,
     "metadata": {},
     "output_type": "execute_result"
    }
   ],
   "source": [
    "np.bincount(sample_random[:,0])"
   ]
  },
  {
   "cell_type": "code",
   "execution_count": 118,
   "id": "24665b7e-0486-4fe4-934d-9555ae249cec",
   "metadata": {},
   "outputs": [
    {
     "data": {
      "text/plain": [
       "True"
      ]
     },
     "execution_count": 118,
     "metadata": {},
     "output_type": "execute_result"
    }
   ],
   "source": [
    "s1, s2 = sample_random, sample_300\n",
    "\n",
    "s1.shape == s2.shape"
   ]
  },
  {
   "cell_type": "code",
   "execution_count": 139,
   "id": "345ea793-2f22-474b-b410-358c23f9f50f",
   "metadata": {},
   "outputs": [
    {
     "data": {
      "text/plain": [
       "array([[6.13846154, 4.44615385, 6.12307692, ..., 4.06153846, 7.        ,\n",
       "        6.09230769],\n",
       "       [6.32307692, 7.01538462, 5.33846154, ..., 7.52307692, 6.46153846,\n",
       "        7.55384615],\n",
       "       [6.04615385, 6.35384615, 4.03076923, ..., 6.15384615, 7.09230769,\n",
       "        7.18461538],\n",
       "       ...,\n",
       "       [6.55384615, 6.86153846, 6.53846154, ..., 6.35384615, 5.41538462,\n",
       "        8.32307692],\n",
       "       [6.32307692, 3.63076923, 4.30769231, ..., 3.12307692, 5.18461538,\n",
       "        5.09230769],\n",
       "       [5.07692308, 7.23076923, 5.09230769, ..., 7.27692308, 3.21538462,\n",
       "        6.30769231]])"
      ]
     },
     "execution_count": 139,
     "metadata": {},
     "output_type": "execute_result"
    }
   ],
   "source": [
    "# vectorized\n",
    "distance = np.zeros((sample_random.shape[0], sample_random.shape[0]))\n",
    "\n",
    "for z in range(0, 9):\n",
    "    # the below works for radio and checkbox\n",
    "    if question_types[z] == \"radio\" or question_types[z] == \"checkbox\":\n",
    "        # TODO: further optimize with memoization\n",
    "        for x in range(0, sample_random.shape[0]):\n",
    "            distance[x] += np.where(sample_300[:,z] == sample_random[x][z], 0, 1)\n",
    "\n",
    "    # what about estimate questions?\n",
    "    else:\n",
    "        rad = radix[z]\n",
    "\n",
    "        for x in range(0, sample_random.shape[0]):\n",
    "            distance[x] += np.abs((sample_300[:,z] - sample_random[x][z])/rad)\n",
    "\n",
    "distance"
   ]
  },
  {
   "cell_type": "code",
   "execution_count": 140,
   "id": "c78634da-eeca-413f-8ea4-213cfa12394d",
   "metadata": {},
   "outputs": [
    {
     "data": {
      "text/plain": [
       "array([[6.13846154, 4.44615385, 6.12307692, ..., 4.06153846, 7.        ,\n",
       "        6.09230769],\n",
       "       [6.32307692, 7.01538462, 5.33846154, ..., 7.52307692, 6.46153846,\n",
       "        7.55384615],\n",
       "       [6.04615385, 6.35384615, 4.03076923, ..., 6.15384615, 7.09230769,\n",
       "        7.18461538],\n",
       "       ...,\n",
       "       [6.55384615, 6.86153846, 6.53846154, ..., 6.35384615, 5.41538462,\n",
       "        8.32307692],\n",
       "       [6.32307692, 3.63076923, 4.30769231, ..., 3.12307692, 5.18461538,\n",
       "        5.09230769],\n",
       "       [5.07692308, 7.23076923, 5.09230769, ..., 7.27692308, 3.21538462,\n",
       "        6.30769231]])"
      ]
     },
     "execution_count": 140,
     "metadata": {},
     "output_type": "execute_result"
    }
   ],
   "source": [
    "# modified original\n",
    "distance_alt = np.zeros((sample_random.shape[0], sample_random.shape[0]))\n",
    "\n",
    "for x in range(0, sample_random.shape[0]):\n",
    "    for y in range(0, sample_300.shape[0]):\n",
    "\n",
    "        s1 = sample_random[x]\n",
    "        s2 = sample_300[y]\n",
    "\n",
    "        total = 0\n",
    "\n",
    "        # Calculate euclidean distance\n",
    "        for z in range(0, 9): # excluding\n",
    "\n",
    "            # check the question type\n",
    "            if question_types[z] == \"radio\" or question_types[z] == \"checkbox\":\n",
    "\n",
    "                # for radio and checkbox questions, different is 1 and same is 0\n",
    "                if s1[z] != s2[z]:\n",
    "                    total += 1\n",
    "\n",
    "            else:\n",
    "                rad = radix[z]\n",
    "                percent1 = s1[z] / (rad)\n",
    "                percent2 = s2[z] / (rad)\n",
    "                diff = percent1 - percent2\n",
    "                total += abs(diff)\n",
    "\n",
    "\n",
    "        # Append the distance, plus the x and y\n",
    "        # totalRoot = math.sqrt(total)\n",
    "        # data.append([x,y,totalRoot])\n",
    "\n",
    "        distance_alt[x][y] = total\n",
    "\n",
    "distance_alt"
   ]
  },
  {
   "cell_type": "markdown",
   "id": "9fee5a38-89df-48dd-bdd3-39e4e5bd81f1",
   "metadata": {
    "jp-MarkdownHeadingCollapsed": true,
    "tags": []
   },
   "source": [
    "### Finding minimum distance"
   ]
  },
  {
   "cell_type": "code",
   "execution_count": 90,
   "id": "02d8d7a1-d5e6-4d40-9481-18af8a2c682c",
   "metadata": {},
   "outputs": [],
   "source": [
    "import lap"
   ]
  },
  {
   "cell_type": "code",
   "execution_count": 142,
   "id": "50984c06-0bba-4481-8d6c-0c61b0dbe7e3",
   "metadata": {},
   "outputs": [
    {
     "data": {
      "text/plain": [
       "(820.876923076923,\n",
       " array([133,  52,  96,  70,   8, 196, 229,  95,  90,   9, 187,  54, 205,\n",
       "          1, 192, 226, 106,  43,  11, 117, 120, 168, 107, 180, 291, 162,\n",
       "        222, 146,  29,   3, 160, 213, 121, 250, 109,   5,  65, 188,  93,\n",
       "        108, 264, 155, 169, 280, 242,  56, 101,  26,  67, 154, 238,  39,\n",
       "        115, 266,  45, 253, 150, 254,  81, 113, 130,  63, 287, 260, 134,\n",
       "        194,  55, 279, 225,   2,  74,  84,  12,  60, 140,  20, 203, 211,\n",
       "         35,  42, 275,  92,  64,  51, 245, 230,  21, 152, 129,  37, 220,\n",
       "        139, 186, 217,  15,   6, 179, 181, 123, 153, 111, 271,  82, 100,\n",
       "        172, 236, 273, 219,  89,  48, 198, 215, 118,  69,  79, 274, 132,\n",
       "        204, 138,  13, 257,  38,  66, 269, 221, 103, 159, 143, 201,  41,\n",
       "        131, 149, 252, 234, 137,  86,  24, 212, 288, 285, 296, 227, 119,\n",
       "        224,  27,  16, 290, 223,  19, 163, 270,  68,  87, 292, 102, 197,\n",
       "        151, 135,  34, 214, 167, 105,  77, 193,  32, 156, 157, 202,  94,\n",
       "          0, 246,  85,  99, 265, 158, 174,  53, 244, 281, 165,  10, 298,\n",
       "        210,  17, 126,  50, 207,  44,  28, 228, 171, 178, 177,  40, 299,\n",
       "        116,  91, 278,  33,  18, 282,  58, 104, 112, 267,  83, 200, 185,\n",
       "        232, 262, 128,  72, 289,  22, 142, 235, 199,  97,  61, 122, 237,\n",
       "        263,  88, 209, 164,  76, 231, 176, 208, 216, 166, 294, 272, 125,\n",
       "        240, 249, 239, 261, 218,  98, 127,  57,  59,  73, 256, 297,  49,\n",
       "         14, 241, 144, 161, 189, 277, 268, 191, 259, 175,  80,  71, 170,\n",
       "         62,   7,  47,  30, 147,  46, 286, 183, 243, 184, 283, 141, 206,\n",
       "        255,  25, 295, 248, 124, 247, 258,   4, 293, 233,  23,  75, 173,\n",
       "        114,  78, 284, 195, 148, 182,  36, 251, 190, 276, 136, 145,  31,\n",
       "        110], dtype=int32),\n",
       " array([169,  13,  69,  29, 280,  35,  95, 261,   4,   9, 180,  18,  72,\n",
       "        119, 247,  94, 145, 183, 199, 148,  75,  86, 213, 283, 136, 274,\n",
       "         47, 144, 188,  28, 263, 298, 164, 198, 158,  78, 292,  89, 121,\n",
       "         51, 193, 129,  79,  17, 187,  54, 265, 262, 109, 246, 185,  83,\n",
       "          1, 176,  11,  66,  45, 241, 201, 242,  73, 218, 260,  61,  82,\n",
       "         36, 122,  48, 151, 113,   3, 258, 211, 243,  70, 284, 225, 162,\n",
       "        287, 114, 257,  58, 102, 205,  71, 171, 135, 152, 222, 108,   8,\n",
       "        196,  81,  38, 168,   7,   2, 217, 239, 172, 103,  46, 154, 125,\n",
       "        202, 161,  16,  22,  39,  34, 299, 100, 203,  59, 286,  52, 195,\n",
       "         19, 112, 142,  20,  32, 219,  98, 277, 233, 184, 240, 210,  88,\n",
       "         60, 130, 116,   0,  64, 157, 296, 134, 118,  91,  74, 271, 214,\n",
       "        127, 249, 297,  27, 264, 290, 131,  56, 156,  87,  99,  49,  41,\n",
       "        165, 166, 174, 126,  30, 250,  25, 149, 224, 179, 230, 160,  21,\n",
       "         42, 259, 190, 104, 285, 175, 256, 227, 192, 191,  96,  23,  97,\n",
       "        291, 267, 269, 207,  92,  10,  37, 251, 294, 254,  14, 163,  65,\n",
       "        289,   5, 155, 110, 216, 206, 128, 167,  76, 117,  12, 272, 186,\n",
       "        228, 223, 182,  77, 137,  31, 159, 111, 229,  93, 238, 107,  90,\n",
       "        124,  26, 147, 143,  68,  15, 141, 189,   6,  85, 226, 208, 282,\n",
       "        133, 215, 105, 220,  50, 236, 234, 248,  44, 268, 177,  84, 170,\n",
       "        278, 276, 235,  33, 293, 132,  55,  57, 273, 244, 120, 279, 255,\n",
       "         63, 237, 209, 221,  40, 173,  53, 204, 253, 123, 150, 101, 232,\n",
       "        106, 115,  80, 295, 252, 197,  67,  43, 178, 200, 270, 288, 139,\n",
       "        266,  62, 138, 212, 146,  24, 153, 281, 231, 275, 140, 245, 181,\n",
       "        194], dtype=int32))"
      ]
     },
     "execution_count": 142,
     "metadata": {},
     "output_type": "execute_result"
    }
   ],
   "source": [
    "lap.lapjv(distance)"
   ]
  },
  {
   "cell_type": "code",
   "execution_count": null,
   "id": "9c6ebc36-e384-404c-95b2-628b9b10e463",
   "metadata": {},
   "outputs": [],
   "source": []
  },
  {
   "cell_type": "markdown",
   "id": "7f96bc32-bdb7-4533-b568-98f1d327c8c2",
   "metadata": {
    "jp-MarkdownHeadingCollapsed": true,
    "tags": []
   },
   "source": [
    "## Vectorized Python Code"
   ]
  },
  {
   "cell_type": "code",
   "execution_count": 146,
   "id": "7294065a-5c06-475b-b906-3ca0eca3083d",
   "metadata": {},
   "outputs": [],
   "source": [
    "def earth_mover_distance(samples1: np.ndarray, samples2: np.ndarray, radixes, question_types):\n",
    "    if (samples1.shape != samples2.shape):\n",
    "        print(\"shape not the same!\")\n",
    "        return\n",
    "\n",
    "    numberOfSamples = samples1.shape[0]\n",
    "    numberOfQuestions = samples1.shape[1]\n",
    "\n",
    "    if (numberOfQuestions != len(radixes)):\n",
    "        print(\"radixes shape not match!\")\n",
    "        return\n",
    "\n",
    "    if (numberOfQuestions != len(question_types)):\n",
    "        print(\"question_types shape not match!\")\n",
    "        return\n",
    "\n",
    "    ## Calculate distance matrix\n",
    "    distance = np.zeros((numberOfSamples, numberOfSamples))\n",
    "\n",
    "    for z in range(0, numberOfQuestions):\n",
    "        # radio and checkbox: 1 if different; 0 if same\n",
    "        if question_types[z] == \"radio\" or question_types[z] == \"checkbox\":\n",
    "            # TODO: further optimize with memoization\n",
    "            for x in range(0, samples1.shape[0]):\n",
    "                distance[x] += np.where(samples2[:,z] == samples1[x][z], 0, 1)\n",
    "\n",
    "        # estimate question: absolute difference / radix\n",
    "        else:\n",
    "            radix = radixes[z]\n",
    "            for x in range(0, samples1.shape[0]):\n",
    "                distance[x] += np.abs((samples2[:,z] - samples1[x][z])/radix)\n",
    "\n",
    "    ## Find minimum distance matching\n",
    "    return lap.lapjv(distance)[0]"
   ]
  },
  {
   "cell_type": "code",
   "execution_count": 150,
   "id": "2bad9815-11ce-4dec-9ce0-8c50cefc48b5",
   "metadata": {},
   "outputs": [
    {
     "name": "stdout",
     "output_type": "stream",
     "text": [
      "0 1 2 3 4 5 6 7 8 9 10 11 12 13 14 15 16 17 18 19 20 21 22 23 24 25 26 27 28 29 30 31 32 33 34 35 36 37 38 39 40 41 42 43 44 45 46 47 48 49 50 51 52 53 54 55 56 57 58 59 60 61 62 63 64 65 66 67 68 69 70 71 72 73 74 75 76 77 78 79 80 81 82 83 84 85 86 87 88 89 90 91 92 93 94 95 96 97 98 99 100 101 102 103 104 105 106 107 108 109 110 111 112 113 114 115 116 117 118 119 120 121 122 123 124 125 126 127 128 129 130 131 132 133 134 135 136 137 138 139 140 141 142 143 144 145 146 147 148 149 150 151 152 153 154 155 156 157 158 159 160 161 162 163 164 165 166 167 168 169 170 171 172 173 174 175 176 177 178 179 180 181 182 183 184 185 186 187 188 189 190 191 192 193 194 195 196 197 198 199 200 201 202 203 204 205 206 207 208 209 210 211 212 213 214 215 216 217 218 219 220 221 222 223 224 225 226 227 228 229 230 231 232 233 234 235 236 237 238 239 240 241 242 243 244 245 246 247 248 249 250 251 252 253 254 255 256 257 258 259 260 261 262 263 264 265 266 267 268 269 270 271 272 273 274 275 276 277 278 279 280 281 282 283 284 285 286 287 288 289 290 291 292 293 294 295 296 297 298 299 300 301 302 303 304 305 306 307 308 309 310 311 312 313 314 315 316 317 318 319 320 321 322 323 324 325 326 327 328 329 330 331 332 333 334 335 336 337 338 339 340 341 342 343 344 345 346 347 348 349 350 351 352 353 354 355 356 357 358 359 360 361 362 363 364 365 366 367 368 369 370 371 372 373 374 375 376 377 378 379 380 381 382 383 384 385 386 387 388 389 390 391 392 393 394 395 396 397 398 399 400 401 402 403 404 405 406 407 408 409 410 411 412 413 414 415 416 417 418 419 420 421 422 423 424 425 426 427 428 429 430 431 432 433 434 435 436 437 438 439 440 441 442 443 444 445 446 447 448 449 450 451 452 453 454 455 456 457 458 459 460 461 462 463 464 465 466 467 468 469 470 471 472 473 474 475 476 477 478 479 480 481 482 483 484 485 486 487 488 489 490 491 492 493 494 495 496 497 498 499 500 501 502 503 504 505 506 507 508 509 510 511 512 513 514 515 516 517 518 519 520 521 522 523 524 525 526 527 528 529 530 531 532 533 534 535 536 537 538 539 540 541 542 543 544 545 546 547 548 549 550 551 552 553 554 555 556 557 558 559 560 561 562 563 564 565 566 567 568 569 570 571 572 573 574 575 576 577 578 579 580 581 582 583 584 585 586 587 588 589 590 591 592 593 594 595 596 597 598 599 600 601 602 603 604 605 606 607 608 609 610 611 612 613 614 615 616 617 618 619 620 621 622 623 624 625 626 627 628 629 630 631 632 633 634 635 636 637 638 639 640 641 642 643 644 645 646 647 648 649 650 651 652 653 654 655 656 657 658 659 660 661 662 663 664 665 666 667 668 669 670 671 672 673 674 675 676 677 678 679 680 681 682 683 684 685 686 687 688 689 690 691 692 693 694 695 696 697 698 699 700 701 702 703 704 705 706 707 708 709 710 711 712 713 714 715 716 717 718 719 720 721 722 723 724 725 726 727 728 729 730 731 732 733 734 735 736 737 738 739 740 741 742 743 744 745 746 747 748 749 750 751 752 753 754 755 756 757 758 759 760 761 762 763 764 765 766 767 768 769 770 771 772 773 774 775 776 777 778 779 780 781 782 783 784 785 786 787 788 789 790 791 792 793 794 795 796 797 798 799 800 801 802 803 804 805 806 807 808 809 810 811 812 813 814 815 816 817 818 819 820 821 822 823 824 825 826 827 828 829 830 831 832 833 834 835 836 837 838 839 840 841 842 843 844 845 846 847 848 849 850 851 852 853 854 855 856 857 858 859 860 861 862 863 864 865 866 867 868 869 870 871 872 873 874 875 876 877 878 879 880 881 882 883 884 885 886 887 888 889 890 891 892 893 894 895 896 897 898 899 900 901 902 903 904 905 906 907 908 909 910 911 912 913 914 915 916 917 918 919 920 921 922 923 924 925 926 927 928 929 930 931 932 933 934 935 936 937 938 939 940 941 942 943 944 945 946 947 948 949 950 951 952 953 954 955 956 957 958 959 960 961 962 963 964 965 966 967 968 969 970 971 972 973 974 975 976 977 978 979 980 981 982 983 984 985 986 987 988 989 990 991 992 993 994 995 996 997 998 999 \n",
      "Vectorized: time taken: 12.3379 seconds\n"
     ]
    }
   ],
   "source": [
    "tic = time.perf_counter()\n",
    "\n",
    "for i in range(0,1000):\n",
    "    print(i, end=' ')\n",
    "    earth_mover_distance(sample_random, sample_300, radix, question_types)\n",
    "\n",
    "toc = time.perf_counter()\n",
    "\n",
    "print(f\"\\nVectorized: time taken: {toc - tic:0.4f} seconds\")"
   ]
  },
  {
   "cell_type": "code",
   "execution_count": 157,
   "id": "47a1c68d-38de-49f7-b11a-aba667e25d5f",
   "metadata": {},
   "outputs": [
    {
     "name": "stdout",
     "output_type": "stream",
     "text": [
      "0 1 2 3 4 5 6 7 8 9 10 11 12 13 14 15 16 17 18 19 20 21 22 23 24 25 26 27 28 29 30 31 32 33 34 35 36 37 38 39 40 41 42 43 44 45 46 47 48 49 50 51 52 53 54 55 56 57 58 59 60 61 62 63 64 65 66 67 68 69 70 71 72 73 74 75 76 77 78 79 80 81 82 83 84 85 86 87 88 89 90 91 92 93 94 95 96 97 98 99 100 101 102 103 104 105 106 107 108 109 110 111 112 113 114 115 116 117 118 119 120 121 122 123 124 125 126 127 128 129 130 131 132 133 134 135 136 137 138 139 140 141 142 143 144 145 146 147 148 149 150 151 152 153 154 155 156 157 158 159 160 161 162 163 164 165 166 167 168 169 170 171 172 173 174 175 176 177 178 179 180 181 182 183 184 185 186 187 188 189 190 191 192 193 194 195 196 197 198 199 200 201 202 203 204 205 206 207 208 209 210 211 212 213 214 215 216 217 218 219 220 221 222 223 224 225 226 227 228 229 230 231 232 233 234 235 236 237 238 239 240 241 242 243 244 245 246 247 248 249 250 251 252 253 254 255 256 257 258 259 260 261 262 263 264 265 266 267 268 269 270 271 272 273 274 275 276 277 278 279 280 281 282 283 284 285 286 287 288 289 290 291 292 293 294 295 296 297 298 299 300 301 302 303 304 305 306 307 308 309 310 311 312 313 314 315 316 317 318 319 320 321 322 323 324 325 326 327 328 329 330 331 332 333 334 335 336 337 338 339 340 341 342 343 344 345 346 347 348 349 350 351 352 353 354 355 356 357 358 359 360 361 362 363 364 365 366 367 368 369 370 371 372 373 374 375 376 377 378 379 380 381 382 383 384 385 386 387 388 389 390 391 392 393 394 395 396 397 398 399 400 401 402 403 404 405 406 407 408 409 410 411 412 413 414 415 416 417 418 419 420 421 422 423 424 425 426 427 428 429 430 431 432 433 434 435 436 437 438 439 440 441 442 443 444 445 446 447 448 449 450 451 452 453 454 455 456 457 458 459 460 461 462 463 464 465 466 467 468 469 470 471 472 473 474 475 476 477 478 479 480 481 482 483 484 485 486 487 488 489 490 491 492 493 494 495 496 497 498 499 500 501 502 503 504 505 506 507 508 509 510 511 512 513 514 515 516 517 518 519 520 521 522 523 524 525 526 527 528 529 530 531 532 533 534 535 536 537 538 539 540 541 542 543 544 545 546 547 548 549 550 551 552 553 554 555 556 557 558 559 560 561 562 563 564 565 566 567 568 569 570 571 572 573 574 575 576 577 578 579 580 581 582 583 584 585 586 587 588 589 590 591 592 593 594 595 596 597 598 599 600 601 602 603 604 605 606 607 608 609 610 611 612 613 614 615 616 617 618 619 620 621 622 623 624 625 626 627 628 629 630 631 632 633 634 635 636 637 638 639 640 641 642 643 644 645 646 647 648 649 650 651 652 653 654 655 656 657 658 659 660 661 662 663 664 665 666 667 668 669 670 671 672 673 674 675 676 677 678 679 680 681 682 683 684 685 686 687 688 689 690 691 692 693 694 695 696 697 698 699 700 701 702 703 704 705 706 707 708 709 710 711 712 713 714 715 716 717 718 719 720 721 722 723 724 725 726 727 728 729 730 731 732 733 734 735 736 737 738 739 740 741 742 743 744 745 746 747 748 749 750 751 752 753 754 755 756 757 758 759 760 761 762 763 764 765 766 767 768 769 770 771 772 773 774 775 776 777 778 779 780 781 782 783 784 785 786 787 788 789 790 791 792 793 794 795 796 797 798 799 800 801 802 803 804 805 806 807 808 809 810 811 812 813 814 815 816 817 818 819 820 821 822 823 824 825 826 827 828 829 830 831 832 833 834 835 836 837 838 839 840 841 842 843 844 845 846 847 848 849 850 851 852 853 854 855 856 857 858 859 860 861 862 863 864 865 866 867 868 869 870 871 872 873 874 875 876 877 878 879 880 881 882 883 884 885 886 887 888 889 890 891 892 893 894 895 896 897 898 899 900 901 902 903 904 905 906 907 908 909 910 911 912 913 914 915 916 917 918 919 920 921 922 923 924 925 926 927 928 929 930 931 932 933 934 935 936 937 938 939 940 941 942 943 944 945 946 947 948 949 950 951 952 953 954 955 956 957 958 959 960 961 962 963 964 965 966 967 968 969 970 971 972 973 974 975 976 977 978 979 980 981 982 983 984 985 986 987 988 989 990 991 992 993 994 995 996 997 998 999 \n",
      "Vectorized: time taken: 11.9604 seconds\n"
     ]
    }
   ],
   "source": [
    "# column major\n",
    "sample_random_f = np.array(sample_random, order='F')\n",
    "sample_300_f = np.array(sample_300, order='F')\n",
    "\n",
    "tic = time.perf_counter()\n",
    "\n",
    "for i in range(0,1000):\n",
    "    print(i, end=' ')\n",
    "    earth_mover_distance(sample_random_f, sample_300_f, radix, question_types)\n",
    "\n",
    "toc = time.perf_counter()\n",
    "\n",
    "print(f\"\\nVectorized: time taken: {toc - tic:0.4f} seconds\")"
   ]
  },
  {
   "cell_type": "code",
   "execution_count": 151,
   "id": "2b82d7c5-defa-4c84-89b2-74e616f9dc05",
   "metadata": {},
   "outputs": [
    {
     "name": "stdout",
     "output_type": "stream",
     "text": [
      "0 1 2 3 4 5 6 7 8 9 10 11 12 13 14 15 16 17 18 19 20 21 22 23 24 25 26 27 28 29 30 31 32 33 34 35 36 37 38 39 40 41 42 43 44 45 46 47 48 49 50 51 52 53 54 55 56 57 58 59 60 61 62 63 64 65 66 67 68 69 70 71 72 73 74 75 76 77 78 79 80 81 82 83 84 85 86 87 88 89 90 91 92 93 94 95 96 97 98 99 "
     ]
    }
   ],
   "source": [
    "tic = time.perf_counter()\n",
    "\n",
    "for i in range(0,100):\n",
    "    print(i, end=' ')\n",
    "    earth_movers(sample_random, sample_300, radix, question_types)\n",
    "\n",
    "toc = time.perf_counter()"
   ]
  },
  {
   "cell_type": "code",
   "execution_count": 152,
   "id": "f6a8af24-8388-4616-bd17-ee8e1285164e",
   "metadata": {},
   "outputs": [
    {
     "name": "stdout",
     "output_type": "stream",
     "text": [
      "\n",
      "Naive: time taken: 35.3395 seconds\n"
     ]
    }
   ],
   "source": [
    "print(f\"\\nNaive: time taken: {toc - tic:0.4f} seconds\")"
   ]
  },
  {
   "cell_type": "code",
   "execution_count": null,
   "id": "1c93081c-b175-438e-9b05-9d307c1876bf",
   "metadata": {},
   "outputs": [],
   "source": []
  },
  {
   "cell_type": "code",
   "execution_count": 161,
   "id": "230506ea-c493-4be2-88bb-bb998ad67147",
   "metadata": {},
   "outputs": [
    {
     "data": {
      "text/plain": [
       "array([ 0.99666667,  1.01      ,  0.95333333,  1.07333333,  0.89666667,\n",
       "        0.93333333,  0.98333333,  0.50333333, 34.98333333])"
      ]
     },
     "execution_count": 161,
     "metadata": {},
     "output_type": "execute_result"
    }
   ],
   "source": [
    "sample_random.mean(axis=0)"
   ]
  },
  {
   "cell_type": "code",
   "execution_count": null,
   "id": "3d464fec-2fbe-4ca1-b17a-f7ee90cc20e5",
   "metadata": {},
   "outputs": [],
   "source": []
  },
  {
   "cell_type": "markdown",
   "id": "4bd2add0-21fb-4d40-a23b-60c1cdfb5729",
   "metadata": {
    "tags": []
   },
   "source": [
    "## Vectorized & Memoized"
   ]
  },
  {
   "cell_type": "code",
   "execution_count": 178,
   "id": "fcfedbda-53a4-4b00-9621-ca82c8e7d7bc",
   "metadata": {},
   "outputs": [],
   "source": [
    "\"\"\"\n",
    "\"\"\"\n",
    "def earth_mover_distance_memo(samples1: np.ndarray, samples2: np.ndarray, radixes, question_types):\n",
    "    if (samples1.shape != samples2.shape):\n",
    "        print(\"shape not the same!\")\n",
    "        return\n",
    "\n",
    "    numberOfSamples = samples1.shape[0]\n",
    "    numberOfQuestions = samples1.shape[1]\n",
    "\n",
    "    if (numberOfQuestions != len(radixes)):\n",
    "        print(\"radixes shape not match!\")\n",
    "        return\n",
    "\n",
    "    if (numberOfQuestions != len(question_types)):\n",
    "        print(\"question_types shape not match!\")\n",
    "        return\n",
    "\n",
    "    ## Calculate distance matrix\n",
    "    distance = np.zeros((numberOfSamples, numberOfSamples))\n",
    "    memoMap = {}  # (z, valueInX) => np.ndarray of cost\n",
    "\n",
    "    for z in range(0, numberOfQuestions):\n",
    "        # radio and checkbox: 1 if different; 0 if same\n",
    "        if question_types[z] == \"radio\" or question_types[z] == \"checkbox\":\n",
    "            for x in range(0, samples1.shape[0]):  # TODO: probably parallelize this?\n",
    "                value = samples1[x][z]  # value of samples1 in this col\n",
    "                if (z,value) in memoMap.keys():\n",
    "                    distance[x] += memoMap[(z,value)]\n",
    "                else:\n",
    "                    memo = np.where(samples2[:,z] == value, 0, 1)\n",
    "                    memoMap[(z,value)] = memo\n",
    "                    distance[x] += memo\n",
    "\n",
    "        # estimate question: absolute difference / radix\n",
    "        else:\n",
    "            radix = radixes[z]\n",
    "            for x in range(0, samples1.shape[0]):\n",
    "                value = samples1[x][z]\n",
    "                if (z,value) in memoMap.keys():\n",
    "                    distance[x] += memoMap[(z,value)]\n",
    "                else:\n",
    "                    memo = np.abs((samples2[:,z] - value)/radix)\n",
    "                    memoMap[(z,value)] = memo\n",
    "                    distance[x] += memo\n",
    "\n",
    "    ## Find minimum distance matching\n",
    "    return lap.lapjv(distance)[0]"
   ]
  },
  {
   "cell_type": "code",
   "execution_count": 179,
   "id": "d4fa08e8-df9d-4256-ab94-0b9b8093bbeb",
   "metadata": {},
   "outputs": [
    {
     "name": "stdout",
     "output_type": "stream",
     "text": [
      "\n",
      "Vectorized: time taken: 5.8636 seconds\n"
     ]
    }
   ],
   "source": [
    "tic = time.perf_counter()\n",
    "\n",
    "for i in range(0,1000):\n",
    "    # print(i, end=' ')\n",
    "    earth_mover_distance_memo(sample_random_f, sample_300_f, radix, question_types)\n",
    "\n",
    "toc = time.perf_counter()\n",
    "\n",
    "print(f\"\\nVectorized: time taken: {toc - tic:0.4f} seconds\")"
   ]
  },
  {
   "cell_type": "code",
   "execution_count": 166,
   "id": "6dbf1ba2-9eeb-4186-9410-d96c45f14a3f",
   "metadata": {},
   "outputs": [
    {
     "data": {
      "text/plain": [
       "820.876923076923"
      ]
     },
     "execution_count": 166,
     "metadata": {},
     "output_type": "execute_result"
    }
   ],
   "source": [
    "earth_mover_distance_memo(sample_random_f, sample_300_f, radix, question_types)"
   ]
  },
  {
   "cell_type": "code",
   "execution_count": 168,
   "id": "2e1a3588-0008-4f85-9c3d-b2f881b06459",
   "metadata": {},
   "outputs": [
    {
     "data": {
      "text/plain": [
       "820.876923076923"
      ]
     },
     "execution_count": 168,
     "metadata": {},
     "output_type": "execute_result"
    }
   ],
   "source": [
    "earth_mover_distance(sample_random, sample_300, radix, question_types)"
   ]
  },
  {
   "cell_type": "code",
   "execution_count": null,
   "id": "3ad8c79a-5162-494d-b4e2-f1b721a5d413",
   "metadata": {},
   "outputs": [],
   "source": []
  },
  {
   "cell_type": "code",
   "execution_count": 175,
   "id": "cef6af52-968e-4a49-90c9-4042c5116c97",
   "metadata": {},
   "outputs": [
    {
     "name": "stdout",
     "output_type": "stream",
     "text": [
      "\n",
      "Vectorized: time taken: 1.5375 seconds\n"
     ]
    }
   ],
   "source": [
    "tic = time.perf_counter()\n",
    "\n",
    "for i in range(0,1000):\n",
    "    # print(i, end=' ')\n",
    "    createSamples(300, radix)\n",
    "\n",
    "toc = time.perf_counter()\n",
    "\n",
    "print(f\"\\nVectorized: time taken: {toc - tic:0.4f} seconds\")"
   ]
  },
  {
   "cell_type": "code",
   "execution_count": null,
   "id": "094c76f4-56b9-45ee-b30c-7cfd82f63603",
   "metadata": {},
   "outputs": [],
   "source": []
  },
  {
   "cell_type": "markdown",
   "id": "10e648b2-0956-4a0e-8f55-0599e0f8094b",
   "metadata": {},
   "source": [
    "## Final code (with comments)"
   ]
  },
  {
   "cell_type": "code",
   "execution_count": null,
   "id": "ade4cf73-5ad0-418b-99e3-90439ab9c2d4",
   "metadata": {},
   "outputs": [],
   "source": [
    "from typing import List\n",
    "import numpy as np\n",
    "import lap\n",
    "\n",
    "def earth_mover_distance_memo(samples1: np.ndarray, samples2: np.ndarray, radixes: List[int], question_types: List[str]):\n",
    "    \"\"\"Optimized method for calculating Earth Mover Distance between two Survey response samples.\n",
    "\n",
    "    This method is vectorized and memoized.\n",
    "\n",
    "    Args:\n",
    "        samples1 (np.ndarray): The first sample of survey response. Shape should be N*Q.\n",
    "        samples2 (np.ndarray): The second sample of survey response. Shape should be N*Q.\n",
    "        radixes (List[int]): A list of the radixes used to respectively represent survey questions. Should be length Q\n",
    "        question_types (List[str]): A list of the survey question types. Used to figure distance calculation algorithm. Should be length Q.\n",
    "\n",
    "    Returns:\n",
    "        _type_: _description_\n",
    "    \"\"\"\n",
    "\n",
    "    ## Sanity check\n",
    "    if (samples1.shape != samples2.shape):\n",
    "        print(\"samples1 and samples2 shape not the same!\")\n",
    "        return\n",
    "\n",
    "    # N: number of samples in both samples1 and samples2\n",
    "    numberOfSamples = samples1.shape[0]\n",
    "    # Q: number of questions in the survey\n",
    "    numberOfQuestions = samples1.shape[1]\n",
    "\n",
    "    if (numberOfQuestions != len(radixes)):\n",
    "        print(\"radixes length not match!\")\n",
    "        return\n",
    "\n",
    "    if (numberOfQuestions != len(question_types)):\n",
    "        print(\"question_types length not match!\")\n",
    "        return\n",
    "\n",
    "    ## Calculating distance matrix\n",
    "    # distance matrix (shape N*N). Element distance[x][y] denotes distance between x-th element in samples1 and y-th element in samples2\n",
    "    distance = np.zeros((numberOfSamples, numberOfSamples))\n",
    "    # Memoizes and eliminates unnecessary computations. (z, valueInX) => np.ndarray of cost\n",
    "    memoMap = {}\n",
    "\n",
    "    for z in range(0, numberOfQuestions):\n",
    "        # radio and checkbox question: distance = 1 if different else 0\n",
    "        if question_types[z] == \"radio\" or question_types[z] == \"checkbox\":\n",
    "            # TODO: probably the following loop can be parallelized?\n",
    "            for x in range(0, samples1.shape[0]):\n",
    "                value = samples1[x][z]  # value of samples1 in this col\n",
    "\n",
    "                # Note that we can memoize the operation here: for the same value, the cost contribution of *this question* will always be the same when comparing across entire samples2\n",
    "                if (z, value) in memoMap.keys():\n",
    "                    distance[x] += memoMap[(z, value)]\n",
    "                else:\n",
    "                    # Note that this operation is vectorized: numpy has builtin function for comparing & setting values\n",
    "                    memo = np.where(samples2[:, z] == value, 0, 1)\n",
    "                    memoMap[(z, value)] = memo\n",
    "                    distance[x] += memo\n",
    "\n",
    "        # estimate question: distance = absolute difference / radix\n",
    "        else:\n",
    "            radix = radixes[z]\n",
    "            for x in range(0, samples1.shape[0]):\n",
    "                value = samples1[x][z]\n",
    "                if (z, value) in memoMap.keys():\n",
    "                    distance[x] += memoMap[(z, value)]\n",
    "                else:\n",
    "                    # Note that this operation is vectorized: numpy has builtin function for subtracting and division across entire row\n",
    "                    memo = np.abs((samples2[:, z] - value)/radix)\n",
    "                    memoMap[(z, value)] = memo\n",
    "                    distance[x] += memo\n",
    "\n",
    "    ## Find minimum distance matching (i.e. EMD) with Jonker–Volgenant algorithm\n",
    "    return lap.lapjv(distance)[0]\n"
   ]
  }
 ],
 "metadata": {
  "kernelspec": {
   "display_name": "Python 3",
   "language": "python",
   "name": "python3"
  },
  "language_info": {
   "codemirror_mode": {
    "name": "ipython",
    "version": 3
   },
   "file_extension": ".py",
   "mimetype": "text/x-python",
   "name": "python",
   "nbconvert_exporter": "python",
   "pygments_lexer": "ipython3",
   "version": "3.9.12"
  }
 },
 "nbformat": 4,
 "nbformat_minor": 5
}
