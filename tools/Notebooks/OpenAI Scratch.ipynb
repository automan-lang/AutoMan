{
 "cells": [
  {
   "cell_type": "code",
   "execution_count": 3,
   "id": "12bf8b09-1b1c-41c0-96f7-29233e2dd70d",
   "metadata": {},
   "outputs": [],
   "source": [
    "import os\n",
    "import openai"
   ]
  },
  {
   "cell_type": "code",
   "execution_count": 23,
   "id": "c759433a-c0fc-4093-9927-4e88785f5c23",
   "metadata": {},
   "outputs": [],
   "source": [
    "import json"
   ]
  },
  {
   "cell_type": "code",
   "execution_count": 27,
   "id": "b7a17367-7bfb-4aa8-bc66-1ff8da706b65",
   "metadata": {},
   "outputs": [],
   "source": [
    "import tenacity"
   ]
  },
  {
   "cell_type": "code",
   "execution_count": 31,
   "id": "d7ec88a3-8dc2-48b3-b6ca-88c5b2b90546",
   "metadata": {},
   "outputs": [],
   "source": [
    "from bs4 import BeautifulSoup\n",
    "import random"
   ]
  },
  {
   "cell_type": "code",
   "execution_count": 4,
   "id": "43e66d5d-2185-4024-be63-800a19dd937b",
   "metadata": {},
   "outputs": [],
   "source": [
    "# Load your API key from an environment variable or secret management service\n",
    "# openai.api_key = os.getenv(\"OPENAI_API_KEY\")\n",
    "openai.api_key = \"<REDACTED>\""
   ]
  },
  {
   "cell_type": "markdown",
   "id": "dcb744bd-a991-4caf-9e9e-ae7e6f06d4ef",
   "metadata": {},
   "source": [
    "## Test"
   ]
  },
  {
   "cell_type": "code",
   "execution_count": 13,
   "id": "ec2b41dd-c8ac-43b6-ae3c-85b3d78c8505",
   "metadata": {},
   "outputs": [
    {
     "data": {
      "text/plain": [
       "<OpenAIObject chat.completion id=chatcmpl-7yZbRDyFfovMod5net0UvJaQkTV6j at 0x7f44281715b0> JSON: {\n",
       "  \"id\": \"chatcmpl-7yZbRDyFfovMod5net0UvJaQkTV6j\",\n",
       "  \"object\": \"chat.completion\",\n",
       "  \"created\": 1694670893,\n",
       "  \"model\": \"gpt-3.5-turbo-0613\",\n",
       "  \"choices\": [\n",
       "    {\n",
       "      \"index\": 0,\n",
       "      \"message\": {\n",
       "        \"role\": \"assistant\",\n",
       "        \"content\": \"The 2020 World Series was played at the Globe Life Field in Arlington, Texas.\"\n",
       "      },\n",
       "      \"finish_reason\": \"stop\"\n",
       "    }\n",
       "  ],\n",
       "  \"usage\": {\n",
       "    \"prompt_tokens\": 53,\n",
       "    \"completion_tokens\": 18,\n",
       "    \"total_tokens\": 71\n",
       "  }\n",
       "}"
      ]
     },
     "execution_count": 13,
     "metadata": {},
     "output_type": "execute_result"
    }
   ],
   "source": [
    "test_chat_completion = openai.ChatCompletion.create(\n",
    "    model=\"gpt-3.5-turbo\", \n",
    "    messages=[\n",
    "        {\"role\": \"system\", \"content\": \"You are a helpful assistant.\"},\n",
    "        {\"role\": \"user\", \"content\": \"Who won the world series in 2020?\"},\n",
    "        {\"role\": \"assistant\", \"content\": \"The Los Angeles Dodgers won the World Series in 2020.\"},\n",
    "        {\"role\": \"user\", \"content\": \"Where was it played?\"}\n",
    "    ]\n",
    ")\n",
    "\n",
    "test_chat_completion"
   ]
  },
  {
   "cell_type": "markdown",
   "id": "7409c71b-d02c-4514-951a-e88da4918812",
   "metadata": {},
   "source": [
    "## Survey content"
   ]
  },
  {
   "cell_type": "code",
   "execution_count": 10,
   "id": "a98d0ceb-aab8-4e32-9983-4282274cf58f",
   "metadata": {},
   "outputs": [],
   "source": [
    "survey_text = \"\"\"\n",
    "<h1>How do you think young adults today compare with their parents' generation on each of the following?</h1>\n",
    "  <p>For the following questions, is this action easier, harder, or the same for young adults today compared to their\n",
    "    parents' generation?</p>\n",
    "  <crowd-form><form method=\"\" action=\"\">\n",
    "    <div id=\"container\">\n",
    "    <div id=\"0ad80e72-02e7-4cfc-a298-cc1568f665ff&quot;\">\n",
    "        <div class=\"QuestionContent\">\n",
    "          <p>Buying a home</p>\n",
    "        </div>\n",
    "        <div>\n",
    "          <input type=\"radio\" id=\"0ad80e72-02e7-4cfc-a298-cc1568f665ff-'Easier\" name=\"0ad80e72-02e7-4cfc-a298-cc1568f665ff\" value=\"'Easier\" required=\"\">\n",
    "          <label for=\"0ad80e72-02e7-4cfc-a298-cc1568f665ff-'Easier\">Easier</label>\n",
    "        </div>\n",
    "        <div>\n",
    "          <input type=\"radio\" id=\"0ad80e72-02e7-4cfc-a298-cc1568f665ff-'Harder\" name=\"0ad80e72-02e7-4cfc-a298-cc1568f665ff\" value=\"'Harder\" required=\"\">\n",
    "          <label for=\"0ad80e72-02e7-4cfc-a298-cc1568f665ff-'Harder\">Harder</label>\n",
    "        </div>\n",
    "        <div>\n",
    "          <input type=\"radio\" id=\"0ad80e72-02e7-4cfc-a298-cc1568f665ff-'Same\" name=\"0ad80e72-02e7-4cfc-a298-cc1568f665ff\" value=\"'Same\" required=\"\">\n",
    "          <label for=\"0ad80e72-02e7-4cfc-a298-cc1568f665ff-'Same\">About the same</label>\n",
    "        </div>\n",
    "      </div><div id=\"c799476d-db52-4dfe-a5f2-187e3894d280&quot;\">\n",
    "        <div class=\"QuestionContent\">\n",
    "          <p>Staying in touch with family and friends</p>\n",
    "        </div>\n",
    "        <div>\n",
    "          <input type=\"radio\" id=\"c799476d-db52-4dfe-a5f2-187e3894d280-'Easier\" name=\"c799476d-db52-4dfe-a5f2-187e3894d280\" value=\"'Easier\" required=\"\">\n",
    "          <label for=\"c799476d-db52-4dfe-a5f2-187e3894d280-'Easier\">Easier</label>\n",
    "        </div>\n",
    "        <div>\n",
    "          <input type=\"radio\" id=\"c799476d-db52-4dfe-a5f2-187e3894d280-'Harder\" name=\"c799476d-db52-4dfe-a5f2-187e3894d280\" value=\"'Harder\" required=\"\">\n",
    "          <label for=\"c799476d-db52-4dfe-a5f2-187e3894d280-'Harder\">Harder</label>\n",
    "        </div>\n",
    "        <div>\n",
    "          <input type=\"radio\" id=\"c799476d-db52-4dfe-a5f2-187e3894d280-'Same\" name=\"c799476d-db52-4dfe-a5f2-187e3894d280\" value=\"'Same\" required=\"\">\n",
    "          <label for=\"c799476d-db52-4dfe-a5f2-187e3894d280-'Same\">About the same</label>\n",
    "        </div>\n",
    "      </div><div id=\"40b468aa-4354-4679-a297-068cc7d8f897&quot;\">\n",
    "        <div class=\"QuestionContent\">\n",
    "          <p>Paying for college</p>\n",
    "        </div>\n",
    "        <div>\n",
    "          <input type=\"radio\" id=\"40b468aa-4354-4679-a297-068cc7d8f897-'Easier\" name=\"40b468aa-4354-4679-a297-068cc7d8f897\" value=\"'Easier\" required=\"\">\n",
    "          <label for=\"40b468aa-4354-4679-a297-068cc7d8f897-'Easier\">Easier</label>\n",
    "        </div>\n",
    "        <div>\n",
    "          <input type=\"radio\" id=\"40b468aa-4354-4679-a297-068cc7d8f897-'Harder\" name=\"40b468aa-4354-4679-a297-068cc7d8f897\" value=\"'Harder\" required=\"\">\n",
    "          <label for=\"40b468aa-4354-4679-a297-068cc7d8f897-'Harder\">Harder</label>\n",
    "        </div>\n",
    "        <div>\n",
    "          <input type=\"radio\" id=\"40b468aa-4354-4679-a297-068cc7d8f897-'Same\" name=\"40b468aa-4354-4679-a297-068cc7d8f897\" value=\"'Same\" required=\"\">\n",
    "          <label for=\"40b468aa-4354-4679-a297-068cc7d8f897-'Same\">About the same</label>\n",
    "        </div>\n",
    "      </div><div id=\"2b6374ec-59d9-4ef2-9d8d-3eb910870b4d&quot;\">\n",
    "        <div class=\"QuestionContent\">\n",
    "          <p>Finding a job</p>\n",
    "        </div>\n",
    "        <div>\n",
    "          <input type=\"radio\" id=\"2b6374ec-59d9-4ef2-9d8d-3eb910870b4d-'Easier\" name=\"2b6374ec-59d9-4ef2-9d8d-3eb910870b4d\" value=\"'Easier\" required=\"\">\n",
    "          <label for=\"2b6374ec-59d9-4ef2-9d8d-3eb910870b4d-'Easier\">Easier</label>\n",
    "        </div>\n",
    "        <div>\n",
    "          <input type=\"radio\" id=\"2b6374ec-59d9-4ef2-9d8d-3eb910870b4d-'Harder\" name=\"2b6374ec-59d9-4ef2-9d8d-3eb910870b4d\" value=\"'Harder\" required=\"\">\n",
    "          <label for=\"2b6374ec-59d9-4ef2-9d8d-3eb910870b4d-'Harder\">Harder</label>\n",
    "        </div>\n",
    "        <div>\n",
    "          <input type=\"radio\" id=\"2b6374ec-59d9-4ef2-9d8d-3eb910870b4d-'Same\" name=\"2b6374ec-59d9-4ef2-9d8d-3eb910870b4d\" value=\"'Same\" required=\"\">\n",
    "          <label for=\"2b6374ec-59d9-4ef2-9d8d-3eb910870b4d-'Same\">About the same</label>\n",
    "        </div>\n",
    "      </div><div id=\"8f511d04-bcba-43a6-ac5f-eccdf5f049af&quot;\">\n",
    "        <div class=\"QuestionContent\">\n",
    "          <p>Getting into college</p>\n",
    "        </div>\n",
    "        <div>\n",
    "          <input type=\"radio\" id=\"8f511d04-bcba-43a6-ac5f-eccdf5f049af-'Easier\" name=\"8f511d04-bcba-43a6-ac5f-eccdf5f049af\" value=\"'Easier\" required=\"\">\n",
    "          <label for=\"8f511d04-bcba-43a6-ac5f-eccdf5f049af-'Easier\">Easier</label>\n",
    "        </div>\n",
    "        <div>\n",
    "          <input type=\"radio\" id=\"8f511d04-bcba-43a6-ac5f-eccdf5f049af-'Harder\" name=\"8f511d04-bcba-43a6-ac5f-eccdf5f049af\" value=\"'Harder\" required=\"\">\n",
    "          <label for=\"8f511d04-bcba-43a6-ac5f-eccdf5f049af-'Harder\">Harder</label>\n",
    "        </div>\n",
    "        <div>\n",
    "          <input type=\"radio\" id=\"8f511d04-bcba-43a6-ac5f-eccdf5f049af-'Same\" name=\"8f511d04-bcba-43a6-ac5f-eccdf5f049af\" value=\"'Same\" required=\"\">\n",
    "          <label for=\"8f511d04-bcba-43a6-ac5f-eccdf5f049af-'Same\">About the same</label>\n",
    "        </div>\n",
    "      </div><div id=\"d73751f3-b779-4351-914b-8605dd5c0bfc&quot;\">\n",
    "        <div class=\"QuestionContent\" style=\"margin-bottom: -2em;\">\n",
    "          <p>What is your age?</p>\n",
    "        </div>\n",
    "        <crowd-input name=\"d73751f3-b779-4351-914b-8605dd5c0bfc\" label=\"What is your age?\" allowed-pattern=\"^\\d*$\" error-message=\"Please enter ONLY numbers\" auto-validate=\"\" required=\"\" tabindex=\"0\" aria-disabled=\"false\">\n",
    "        </crowd-input>\n",
    "      </div><div id=\"f73efca0-d7fb-4fb6-9527-884cac8aac41&quot;\">\n",
    "        <div class=\"QuestionContent\">\n",
    "          <p>Finding a spouse or partner</p>\n",
    "        </div>\n",
    "        <div>\n",
    "          <input type=\"radio\" id=\"f73efca0-d7fb-4fb6-9527-884cac8aac41-'Easier\" name=\"f73efca0-d7fb-4fb6-9527-884cac8aac41\" value=\"'Easier\" required=\"\">\n",
    "          <label for=\"f73efca0-d7fb-4fb6-9527-884cac8aac41-'Easier\">Easier</label>\n",
    "        </div>\n",
    "        <div>\n",
    "          <input type=\"radio\" id=\"f73efca0-d7fb-4fb6-9527-884cac8aac41-'Harder\" name=\"f73efca0-d7fb-4fb6-9527-884cac8aac41\" value=\"'Harder\" required=\"\">\n",
    "          <label for=\"f73efca0-d7fb-4fb6-9527-884cac8aac41-'Harder\">Harder</label>\n",
    "        </div>\n",
    "        <div>\n",
    "          <input type=\"radio\" id=\"f73efca0-d7fb-4fb6-9527-884cac8aac41-'Same\" name=\"f73efca0-d7fb-4fb6-9527-884cac8aac41\" value=\"'Same\" required=\"\">\n",
    "          <label for=\"f73efca0-d7fb-4fb6-9527-884cac8aac41-'Same\">About the same</label>\n",
    "        </div>\n",
    "      </div><div id=\"727d4914-85d7-4e5d-8024-0d5af55027ac&quot;\">\n",
    "        <div class=\"QuestionContent\">\n",
    "          <p>Saving for the future</p>\n",
    "        </div>\n",
    "        <div>\n",
    "          <input type=\"radio\" id=\"727d4914-85d7-4e5d-8024-0d5af55027ac-'Easier\" name=\"727d4914-85d7-4e5d-8024-0d5af55027ac\" value=\"'Easier\" required=\"\">\n",
    "          <label for=\"727d4914-85d7-4e5d-8024-0d5af55027ac-'Easier\">Easier</label>\n",
    "        </div>\n",
    "        <div>\n",
    "          <input type=\"radio\" id=\"727d4914-85d7-4e5d-8024-0d5af55027ac-'Harder\" name=\"727d4914-85d7-4e5d-8024-0d5af55027ac\" value=\"'Harder\" required=\"\">\n",
    "          <label for=\"727d4914-85d7-4e5d-8024-0d5af55027ac-'Harder\">Harder</label>\n",
    "        </div>\n",
    "        <div>\n",
    "          <input type=\"radio\" id=\"727d4914-85d7-4e5d-8024-0d5af55027ac-'Same\" name=\"727d4914-85d7-4e5d-8024-0d5af55027ac\" value=\"'Same\" required=\"\">\n",
    "          <label for=\"727d4914-85d7-4e5d-8024-0d5af55027ac-'Same\">About the same</label>\n",
    "        </div>\n",
    "      </div><div id=\"1b56e8be-127c-47d3-9864-31fceb586234&quot;\">\n",
    "        <div class=\"QuestionContent\">\n",
    "          <p>Do you currently live in the United States?</p>\n",
    "        </div>\n",
    "        <div>\n",
    "          <input type=\"radio\" id=\"1b56e8be-127c-47d3-9864-31fceb586234-'Yes\" name=\"1b56e8be-127c-47d3-9864-31fceb586234\" value=\"'Yes\" required=\"\">\n",
    "          <label for=\"1b56e8be-127c-47d3-9864-31fceb586234-'Yes\">Yes</label>\n",
    "        </div>\n",
    "        <div>\n",
    "          <input type=\"radio\" id=\"1b56e8be-127c-47d3-9864-31fceb586234-'No\" name=\"1b56e8be-127c-47d3-9864-31fceb586234\" value=\"'No\" required=\"\">\n",
    "          <label for=\"1b56e8be-127c-47d3-9864-31fceb586234-'No\">No</label>\n",
    "        </div>\n",
    "      </div></div>\n",
    "  <crowd-button form-action=\"submit\" variant=\"primary\" data-testid=\"crowd-submit\">Submit</crowd-button></form></crowd-form>\n",
    "  \"\"\""
   ]
  },
  {
   "cell_type": "markdown",
   "id": "8eea5499-ebbe-44c8-8611-60adb73453e6",
   "metadata": {},
   "source": [
    "### randomize survey order"
   ]
  },
  {
   "cell_type": "code",
   "execution_count": 211,
   "id": "bb06b101-6dd8-454e-94e4-30f9b5a10dfd",
   "metadata": {},
   "outputs": [
    {
     "name": "stdout",
     "output_type": "stream",
     "text": [
      "<h1>How do you think young adults today compare with their parents' generation on each of the following?</h1><p>For the following questions, is this action easier, harder, or the same for young adults today compared to their    parents' generation?</p><crowd-form><form action=\"\" method=\"\"><div id=\"container\"><div id='0ad80e72-02e7-4cfc-a298-cc1568f665ff\"'><div class=\"QuestionContent\"><p>Buying a home</p></div><div><input id=\"0ad80e72-02e7-4cfc-a298-cc1568f665ff-'Same\" name=\"0ad80e72-02e7-4cfc-a298-cc1568f665ff\" required=\"\" type=\"radio\" value=\"'Same\"/><label for=\"0ad80e72-02e7-4cfc-a298-cc1568f665ff-'Same\">About the same</label></div><div><input id=\"0ad80e72-02e7-4cfc-a298-cc1568f665ff-'Harder\" name=\"0ad80e72-02e7-4cfc-a298-cc1568f665ff\" required=\"\" type=\"radio\" value=\"'Harder\"/><label for=\"0ad80e72-02e7-4cfc-a298-cc1568f665ff-'Harder\">Harder</label></div><div><input id=\"0ad80e72-02e7-4cfc-a298-cc1568f665ff-'Easier\" name=\"0ad80e72-02e7-4cfc-a298-cc1568f665ff\" required=\"\" type=\"radio\" value=\"'Easier\"/><label for=\"0ad80e72-02e7-4cfc-a298-cc1568f665ff-'Easier\">Easier</label></div></div><div id='c799476d-db52-4dfe-a5f2-187e3894d280\"'><div class=\"QuestionContent\"><p>Staying in touch with family and friends</p></div><div><input id=\"c799476d-db52-4dfe-a5f2-187e3894d280-'Harder\" name=\"c799476d-db52-4dfe-a5f2-187e3894d280\" required=\"\" type=\"radio\" value=\"'Harder\"/><label for=\"c799476d-db52-4dfe-a5f2-187e3894d280-'Harder\">Harder</label></div><div><input id=\"c799476d-db52-4dfe-a5f2-187e3894d280-'Easier\" name=\"c799476d-db52-4dfe-a5f2-187e3894d280\" required=\"\" type=\"radio\" value=\"'Easier\"/><label for=\"c799476d-db52-4dfe-a5f2-187e3894d280-'Easier\">Easier</label></div><div><input id=\"c799476d-db52-4dfe-a5f2-187e3894d280-'Same\" name=\"c799476d-db52-4dfe-a5f2-187e3894d280\" required=\"\" type=\"radio\" value=\"'Same\"/><label for=\"c799476d-db52-4dfe-a5f2-187e3894d280-'Same\">About the same</label></div></div><div id='40b468aa-4354-4679-a297-068cc7d8f897\"'><div class=\"QuestionContent\"><p>Paying for college</p></div><div><input id=\"40b468aa-4354-4679-a297-068cc7d8f897-'Easier\" name=\"40b468aa-4354-4679-a297-068cc7d8f897\" required=\"\" type=\"radio\" value=\"'Easier\"/><label for=\"40b468aa-4354-4679-a297-068cc7d8f897-'Easier\">Easier</label></div><div><input id=\"40b468aa-4354-4679-a297-068cc7d8f897-'Same\" name=\"40b468aa-4354-4679-a297-068cc7d8f897\" required=\"\" type=\"radio\" value=\"'Same\"/><label for=\"40b468aa-4354-4679-a297-068cc7d8f897-'Same\">About the same</label></div><div><input id=\"40b468aa-4354-4679-a297-068cc7d8f897-'Harder\" name=\"40b468aa-4354-4679-a297-068cc7d8f897\" required=\"\" type=\"radio\" value=\"'Harder\"/><label for=\"40b468aa-4354-4679-a297-068cc7d8f897-'Harder\">Harder</label></div></div><div id='2b6374ec-59d9-4ef2-9d8d-3eb910870b4d\"'><div class=\"QuestionContent\"><p>Finding a job</p></div><div><input id=\"2b6374ec-59d9-4ef2-9d8d-3eb910870b4d-'Easier\" name=\"2b6374ec-59d9-4ef2-9d8d-3eb910870b4d\" required=\"\" type=\"radio\" value=\"'Easier\"/><label for=\"2b6374ec-59d9-4ef2-9d8d-3eb910870b4d-'Easier\">Easier</label></div><div><input id=\"2b6374ec-59d9-4ef2-9d8d-3eb910870b4d-'Same\" name=\"2b6374ec-59d9-4ef2-9d8d-3eb910870b4d\" required=\"\" type=\"radio\" value=\"'Same\"/><label for=\"2b6374ec-59d9-4ef2-9d8d-3eb910870b4d-'Same\">About the same</label></div><div><input id=\"2b6374ec-59d9-4ef2-9d8d-3eb910870b4d-'Harder\" name=\"2b6374ec-59d9-4ef2-9d8d-3eb910870b4d\" required=\"\" type=\"radio\" value=\"'Harder\"/><label for=\"2b6374ec-59d9-4ef2-9d8d-3eb910870b4d-'Harder\">Harder</label></div></div><div id='8f511d04-bcba-43a6-ac5f-eccdf5f049af\"'><div class=\"QuestionContent\"><p>Getting into college</p></div><div><input id=\"8f511d04-bcba-43a6-ac5f-eccdf5f049af-'Same\" name=\"8f511d04-bcba-43a6-ac5f-eccdf5f049af\" required=\"\" type=\"radio\" value=\"'Same\"/><label for=\"8f511d04-bcba-43a6-ac5f-eccdf5f049af-'Same\">About the same</label></div><div><input id=\"8f511d04-bcba-43a6-ac5f-eccdf5f049af-'Harder\" name=\"8f511d04-bcba-43a6-ac5f-eccdf5f049af\" required=\"\" type=\"radio\" value=\"'Harder\"/><label for=\"8f511d04-bcba-43a6-ac5f-eccdf5f049af-'Harder\">Harder</label></div><div><input id=\"8f511d04-bcba-43a6-ac5f-eccdf5f049af-'Easier\" name=\"8f511d04-bcba-43a6-ac5f-eccdf5f049af\" required=\"\" type=\"radio\" value=\"'Easier\"/><label for=\"8f511d04-bcba-43a6-ac5f-eccdf5f049af-'Easier\">Easier</label></div></div><div id='d73751f3-b779-4351-914b-8605dd5c0bfc\"'><div class=\"QuestionContent\" style=\"margin-bottom: -2em;\"><p>What is your age?</p></div><crowd-input allowed-pattern=\"^\\d*$\" aria-disabled=\"false\" auto-validate=\"\" error-message=\"Please enter ONLY numbers\" label=\"What is your age?\" name=\"d73751f3-b779-4351-914b-8605dd5c0bfc\" required=\"\" tabindex=\"0\"></crowd-input></div><div id='f73efca0-d7fb-4fb6-9527-884cac8aac41\"'><div class=\"QuestionContent\"><p>Finding a spouse or partner</p></div><div><input id=\"f73efca0-d7fb-4fb6-9527-884cac8aac41-'Same\" name=\"f73efca0-d7fb-4fb6-9527-884cac8aac41\" required=\"\" type=\"radio\" value=\"'Same\"/><label for=\"f73efca0-d7fb-4fb6-9527-884cac8aac41-'Same\">About the same</label></div><div><input id=\"f73efca0-d7fb-4fb6-9527-884cac8aac41-'Harder\" name=\"f73efca0-d7fb-4fb6-9527-884cac8aac41\" required=\"\" type=\"radio\" value=\"'Harder\"/><label for=\"f73efca0-d7fb-4fb6-9527-884cac8aac41-'Harder\">Harder</label></div><div><input id=\"f73efca0-d7fb-4fb6-9527-884cac8aac41-'Easier\" name=\"f73efca0-d7fb-4fb6-9527-884cac8aac41\" required=\"\" type=\"radio\" value=\"'Easier\"/><label for=\"f73efca0-d7fb-4fb6-9527-884cac8aac41-'Easier\">Easier</label></div></div><div id='727d4914-85d7-4e5d-8024-0d5af55027ac\"'><div class=\"QuestionContent\"><p>Saving for the future</p></div><div><input id=\"727d4914-85d7-4e5d-8024-0d5af55027ac-'Same\" name=\"727d4914-85d7-4e5d-8024-0d5af55027ac\" required=\"\" type=\"radio\" value=\"'Same\"/><label for=\"727d4914-85d7-4e5d-8024-0d5af55027ac-'Same\">About the same</label></div><div><input id=\"727d4914-85d7-4e5d-8024-0d5af55027ac-'Easier\" name=\"727d4914-85d7-4e5d-8024-0d5af55027ac\" required=\"\" type=\"radio\" value=\"'Easier\"/><label for=\"727d4914-85d7-4e5d-8024-0d5af55027ac-'Easier\">Easier</label></div><div><input id=\"727d4914-85d7-4e5d-8024-0d5af55027ac-'Harder\" name=\"727d4914-85d7-4e5d-8024-0d5af55027ac\" required=\"\" type=\"radio\" value=\"'Harder\"/><label for=\"727d4914-85d7-4e5d-8024-0d5af55027ac-'Harder\">Harder</label></div></div><div id='1b56e8be-127c-47d3-9864-31fceb586234\"'><div class=\"QuestionContent\"><p>Do you currently live in the United States?</p></div><div><input id=\"1b56e8be-127c-47d3-9864-31fceb586234-'Yes\" name=\"1b56e8be-127c-47d3-9864-31fceb586234\" required=\"\" type=\"radio\" value=\"'Yes\"/><label for=\"1b56e8be-127c-47d3-9864-31fceb586234-'Yes\">Yes</label></div><div><input id=\"1b56e8be-127c-47d3-9864-31fceb586234-'No\" name=\"1b56e8be-127c-47d3-9864-31fceb586234\" required=\"\" type=\"radio\" value=\"'No\"/><label for=\"1b56e8be-127c-47d3-9864-31fceb586234-'No\">No</label></div></div></div><crowd-button data-testid=\"crowd-submit\" form-action=\"submit\" variant=\"primary\">Submit</crowd-button></form></crowd-form>\n"
     ]
    }
   ],
   "source": [
    "soup = BeautifulSoup(survey_text, 'html.parser')\n",
    "\n",
    "# Extract questions\n",
    "elem_container = soup.find('div', id='container')\n",
    "\n",
    "# Shuffle questions\n",
    "questions = elem_container.find_all(recursive=False)\n",
    "random.shuffle(questions)\n",
    "\n",
    "# For each question, shuffle the options\n",
    "for question in questions:\n",
    "    question_body = question.find_all(recursive=False)\n",
    "\n",
    "    # shuffle options and not the first div .QuestionContent\n",
    "    options = question_body[1:]\n",
    "    random.shuffle(options)\n",
    "    question_body[1:] = options\n",
    "\n",
    "    question.extend(question_body)\n",
    "\n",
    "# Reconstruct the HTML string with shuffled questions and options\n",
    "shuffled_survey_text = str(soup).replace('\\n', '')\n",
    "\n",
    "# Print the shuffled survey\n",
    "print(shuffled_survey_text)"
   ]
  },
  {
   "cell_type": "markdown",
   "id": "c023ca05-95c1-4895-a44c-47bb6aae3725",
   "metadata": {
    "jp-MarkdownHeadingCollapsed": true
   },
   "source": [
    "#### Playground"
   ]
  },
  {
   "cell_type": "code",
   "execution_count": 52,
   "id": "cba14621-db01-4c21-8e9f-027132a668b1",
   "metadata": {
    "collapsed": true,
    "jupyter": {
     "outputs_hidden": true
    }
   },
   "outputs": [
    {
     "name": "stdout",
     "output_type": "stream",
     "text": [
      "\n",
      "<h1>How do you think young adults today compare with their parents' generation on each of the following?</h1>\n",
      "<p>For the following questions, is this action easier, harder, or the same for young adults today compared to their\n",
      "    parents' generation?</p>\n",
      "<crowd-form><form action=\"\" method=\"\">\n",
      "<div id=\"container\">\n",
      "<div id='0ad80e72-02e7-4cfc-a298-cc1568f665ff\"'>\n",
      "<div class=\"QuestionContent\">\n",
      "<p>Buying a home</p>\n",
      "</div>\n",
      "<div>\n",
      "<input id=\"0ad80e72-02e7-4cfc-a298-cc1568f665ff-'Easier\" name=\"0ad80e72-02e7-4cfc-a298-cc1568f665ff\" required=\"\" type=\"radio\" value=\"'Easier\"/>\n",
      "<label for=\"0ad80e72-02e7-4cfc-a298-cc1568f665ff-'Easier\">Easier</label>\n",
      "</div>\n",
      "<div>\n",
      "<input id=\"0ad80e72-02e7-4cfc-a298-cc1568f665ff-'Harder\" name=\"0ad80e72-02e7-4cfc-a298-cc1568f665ff\" required=\"\" type=\"radio\" value=\"'Harder\"/>\n",
      "<label for=\"0ad80e72-02e7-4cfc-a298-cc1568f665ff-'Harder\">Harder</label>\n",
      "</div>\n",
      "<div>\n",
      "<input id=\"0ad80e72-02e7-4cfc-a298-cc1568f665ff-'Same\" name=\"0ad80e72-02e7-4cfc-a298-cc1568f665ff\" required=\"\" type=\"radio\" value=\"'Same\"/>\n",
      "<label for=\"0ad80e72-02e7-4cfc-a298-cc1568f665ff-'Same\">About the same</label>\n",
      "</div>\n",
      "</div><div id='c799476d-db52-4dfe-a5f2-187e3894d280\"'>\n",
      "<div class=\"QuestionContent\">\n",
      "<p>Staying in touch with family and friends</p>\n",
      "</div>\n",
      "<div>\n",
      "<input id=\"c799476d-db52-4dfe-a5f2-187e3894d280-'Easier\" name=\"c799476d-db52-4dfe-a5f2-187e3894d280\" required=\"\" type=\"radio\" value=\"'Easier\"/>\n",
      "<label for=\"c799476d-db52-4dfe-a5f2-187e3894d280-'Easier\">Easier</label>\n",
      "</div>\n",
      "<div>\n",
      "<input id=\"c799476d-db52-4dfe-a5f2-187e3894d280-'Harder\" name=\"c799476d-db52-4dfe-a5f2-187e3894d280\" required=\"\" type=\"radio\" value=\"'Harder\"/>\n",
      "<label for=\"c799476d-db52-4dfe-a5f2-187e3894d280-'Harder\">Harder</label>\n",
      "</div>\n",
      "<div>\n",
      "<input id=\"c799476d-db52-4dfe-a5f2-187e3894d280-'Same\" name=\"c799476d-db52-4dfe-a5f2-187e3894d280\" required=\"\" type=\"radio\" value=\"'Same\"/>\n",
      "<label for=\"c799476d-db52-4dfe-a5f2-187e3894d280-'Same\">About the same</label>\n",
      "</div>\n",
      "</div><div id='40b468aa-4354-4679-a297-068cc7d8f897\"'>\n",
      "<div class=\"QuestionContent\">\n",
      "<p>Paying for college</p>\n",
      "</div>\n",
      "<div>\n",
      "<input id=\"40b468aa-4354-4679-a297-068cc7d8f897-'Easier\" name=\"40b468aa-4354-4679-a297-068cc7d8f897\" required=\"\" type=\"radio\" value=\"'Easier\"/>\n",
      "<label for=\"40b468aa-4354-4679-a297-068cc7d8f897-'Easier\">Easier</label>\n",
      "</div>\n",
      "<div>\n",
      "<input id=\"40b468aa-4354-4679-a297-068cc7d8f897-'Harder\" name=\"40b468aa-4354-4679-a297-068cc7d8f897\" required=\"\" type=\"radio\" value=\"'Harder\"/>\n",
      "<label for=\"40b468aa-4354-4679-a297-068cc7d8f897-'Harder\">Harder</label>\n",
      "</div>\n",
      "<div>\n",
      "<input id=\"40b468aa-4354-4679-a297-068cc7d8f897-'Same\" name=\"40b468aa-4354-4679-a297-068cc7d8f897\" required=\"\" type=\"radio\" value=\"'Same\"/>\n",
      "<label for=\"40b468aa-4354-4679-a297-068cc7d8f897-'Same\">About the same</label>\n",
      "</div>\n",
      "</div><div id='2b6374ec-59d9-4ef2-9d8d-3eb910870b4d\"'>\n",
      "<div class=\"QuestionContent\">\n",
      "<p>Finding a job</p>\n",
      "</div>\n",
      "<div>\n",
      "<input id=\"2b6374ec-59d9-4ef2-9d8d-3eb910870b4d-'Easier\" name=\"2b6374ec-59d9-4ef2-9d8d-3eb910870b4d\" required=\"\" type=\"radio\" value=\"'Easier\"/>\n",
      "<label for=\"2b6374ec-59d9-4ef2-9d8d-3eb910870b4d-'Easier\">Easier</label>\n",
      "</div>\n",
      "<div>\n",
      "<input id=\"2b6374ec-59d9-4ef2-9d8d-3eb910870b4d-'Harder\" name=\"2b6374ec-59d9-4ef2-9d8d-3eb910870b4d\" required=\"\" type=\"radio\" value=\"'Harder\"/>\n",
      "<label for=\"2b6374ec-59d9-4ef2-9d8d-3eb910870b4d-'Harder\">Harder</label>\n",
      "</div>\n",
      "<div>\n",
      "<input id=\"2b6374ec-59d9-4ef2-9d8d-3eb910870b4d-'Same\" name=\"2b6374ec-59d9-4ef2-9d8d-3eb910870b4d\" required=\"\" type=\"radio\" value=\"'Same\"/>\n",
      "<label for=\"2b6374ec-59d9-4ef2-9d8d-3eb910870b4d-'Same\">About the same</label>\n",
      "</div>\n",
      "</div><div id='8f511d04-bcba-43a6-ac5f-eccdf5f049af\"'>\n",
      "<div class=\"QuestionContent\">\n",
      "<p>Getting into college</p>\n",
      "</div>\n",
      "<div>\n",
      "<input id=\"8f511d04-bcba-43a6-ac5f-eccdf5f049af-'Easier\" name=\"8f511d04-bcba-43a6-ac5f-eccdf5f049af\" required=\"\" type=\"radio\" value=\"'Easier\"/>\n",
      "<label for=\"8f511d04-bcba-43a6-ac5f-eccdf5f049af-'Easier\">Easier</label>\n",
      "</div>\n",
      "<div>\n",
      "<input id=\"8f511d04-bcba-43a6-ac5f-eccdf5f049af-'Harder\" name=\"8f511d04-bcba-43a6-ac5f-eccdf5f049af\" required=\"\" type=\"radio\" value=\"'Harder\"/>\n",
      "<label for=\"8f511d04-bcba-43a6-ac5f-eccdf5f049af-'Harder\">Harder</label>\n",
      "</div>\n",
      "<div>\n",
      "<input id=\"8f511d04-bcba-43a6-ac5f-eccdf5f049af-'Same\" name=\"8f511d04-bcba-43a6-ac5f-eccdf5f049af\" required=\"\" type=\"radio\" value=\"'Same\"/>\n",
      "<label for=\"8f511d04-bcba-43a6-ac5f-eccdf5f049af-'Same\">About the same</label>\n",
      "</div>\n",
      "</div><div id='d73751f3-b779-4351-914b-8605dd5c0bfc\"'>\n",
      "<div class=\"QuestionContent\" style=\"margin-bottom: -2em;\">\n",
      "<p>What is your age?</p>\n",
      "</div>\n",
      "<crowd-input allowed-pattern=\"^\\d*$\" aria-disabled=\"false\" auto-validate=\"\" error-message=\"Please enter ONLY numbers\" label=\"What is your age?\" name=\"d73751f3-b779-4351-914b-8605dd5c0bfc\" required=\"\" tabindex=\"0\">\n",
      "</crowd-input>\n",
      "</div><div id='f73efca0-d7fb-4fb6-9527-884cac8aac41\"'>\n",
      "<div class=\"QuestionContent\">\n",
      "<p>Finding a spouse or partner</p>\n",
      "</div>\n",
      "<div>\n",
      "<input id=\"f73efca0-d7fb-4fb6-9527-884cac8aac41-'Easier\" name=\"f73efca0-d7fb-4fb6-9527-884cac8aac41\" required=\"\" type=\"radio\" value=\"'Easier\"/>\n",
      "<label for=\"f73efca0-d7fb-4fb6-9527-884cac8aac41-'Easier\">Easier</label>\n",
      "</div>\n",
      "<div>\n",
      "<input id=\"f73efca0-d7fb-4fb6-9527-884cac8aac41-'Harder\" name=\"f73efca0-d7fb-4fb6-9527-884cac8aac41\" required=\"\" type=\"radio\" value=\"'Harder\"/>\n",
      "<label for=\"f73efca0-d7fb-4fb6-9527-884cac8aac41-'Harder\">Harder</label>\n",
      "</div>\n",
      "<div>\n",
      "<input id=\"f73efca0-d7fb-4fb6-9527-884cac8aac41-'Same\" name=\"f73efca0-d7fb-4fb6-9527-884cac8aac41\" required=\"\" type=\"radio\" value=\"'Same\"/>\n",
      "<label for=\"f73efca0-d7fb-4fb6-9527-884cac8aac41-'Same\">About the same</label>\n",
      "</div>\n",
      "</div><div id='727d4914-85d7-4e5d-8024-0d5af55027ac\"'>\n",
      "<div class=\"QuestionContent\">\n",
      "<p>Saving for the future</p>\n",
      "</div>\n",
      "<div>\n",
      "<input id=\"727d4914-85d7-4e5d-8024-0d5af55027ac-'Easier\" name=\"727d4914-85d7-4e5d-8024-0d5af55027ac\" required=\"\" type=\"radio\" value=\"'Easier\"/>\n",
      "<label for=\"727d4914-85d7-4e5d-8024-0d5af55027ac-'Easier\">Easier</label>\n",
      "</div>\n",
      "<div>\n",
      "<input id=\"727d4914-85d7-4e5d-8024-0d5af55027ac-'Harder\" name=\"727d4914-85d7-4e5d-8024-0d5af55027ac\" required=\"\" type=\"radio\" value=\"'Harder\"/>\n",
      "<label for=\"727d4914-85d7-4e5d-8024-0d5af55027ac-'Harder\">Harder</label>\n",
      "</div>\n",
      "<div>\n",
      "<input id=\"727d4914-85d7-4e5d-8024-0d5af55027ac-'Same\" name=\"727d4914-85d7-4e5d-8024-0d5af55027ac\" required=\"\" type=\"radio\" value=\"'Same\"/>\n",
      "<label for=\"727d4914-85d7-4e5d-8024-0d5af55027ac-'Same\">About the same</label>\n",
      "</div>\n",
      "</div><div id='1b56e8be-127c-47d3-9864-31fceb586234\"'>\n",
      "<div class=\"QuestionContent\">\n",
      "<p>Do you currently live in the United States?</p>\n",
      "</div>\n",
      "<div>\n",
      "<input id=\"1b56e8be-127c-47d3-9864-31fceb586234-'Yes\" name=\"1b56e8be-127c-47d3-9864-31fceb586234\" required=\"\" type=\"radio\" value=\"'Yes\"/>\n",
      "<label for=\"1b56e8be-127c-47d3-9864-31fceb586234-'Yes\">Yes</label>\n",
      "</div>\n",
      "<div>\n",
      "<input id=\"1b56e8be-127c-47d3-9864-31fceb586234-'No\" name=\"1b56e8be-127c-47d3-9864-31fceb586234\" required=\"\" type=\"radio\" value=\"'No\"/>\n",
      "<label for=\"1b56e8be-127c-47d3-9864-31fceb586234-'No\">No</label>\n",
      "</div>\n",
      "</div></div>\n",
      "<crowd-button data-testid=\"crowd-submit\" form-action=\"submit\" variant=\"primary\">Submit</crowd-button></form></crowd-form>\n",
      "\n"
     ]
    }
   ],
   "source": [
    "soup = BeautifulSoup(survey_text, 'html.parser')\n",
    "\n",
    "# Extract the questions and options\n",
    "questions = soup.find_all('div', class_='QuestionContent')\n",
    "options = soup.find_all('input', type='radio')\n",
    "\n",
    "# Shuffle the questions\n",
    "random.shuffle(questions)\n",
    "\n",
    "# Shuffle the options for each question\n",
    "for question in questions:\n",
    "    option_divs = question.find_next_siblings('div')\n",
    "    random.shuffle(option_divs)\n",
    "\n",
    "# Reconstruct the HTML string with shuffled questions and options\n",
    "shuffled_survey_text = str(soup)\n",
    "\n",
    "# Print the shuffled survey\n",
    "print(shuffled_survey_text)"
   ]
  },
  {
   "cell_type": "code",
   "execution_count": 183,
   "id": "fa1fa1ba-368d-4ecf-82c5-5d38fa6e9905",
   "metadata": {
    "scrolled": true
   },
   "outputs": [
    {
     "name": "stdout",
     "output_type": "stream",
     "text": [
      "\n",
      "<h1>How do you think young adults today compare with their parents' generation on each of the following?</h1>\n",
      "<p>For the following questions, is this action easier, harder, or the same for young adults today compared to their\n",
      "    parents' generation?</p>\n",
      "<crowd-form><form action=\"\" method=\"\">\n",
      "<div id=\"container\">\n",
      "<div id='f73efca0-d7fb-4fb6-9527-884cac8aac41\"'>\n",
      "<div class=\"QuestionContent\">\n",
      "<p>Finding a spouse or partner</p>\n",
      "</div>\n",
      "<div>\n",
      "<input id=\"f73efca0-d7fb-4fb6-9527-884cac8aac41-'Easier\" name=\"f73efca0-d7fb-4fb6-9527-884cac8aac41\" required=\"\" type=\"radio\" value=\"'Easier\"/>\n",
      "<label for=\"f73efca0-d7fb-4fb6-9527-884cac8aac41-'Easier\">Easier</label>\n",
      "</div>\n",
      "<div>\n",
      "<input id=\"f73efca0-d7fb-4fb6-9527-884cac8aac41-'Harder\" name=\"f73efca0-d7fb-4fb6-9527-884cac8aac41\" required=\"\" type=\"radio\" value=\"'Harder\"/>\n",
      "<label for=\"f73efca0-d7fb-4fb6-9527-884cac8aac41-'Harder\">Harder</label>\n",
      "</div>\n",
      "<div>\n",
      "<input id=\"f73efca0-d7fb-4fb6-9527-884cac8aac41-'Same\" name=\"f73efca0-d7fb-4fb6-9527-884cac8aac41\" required=\"\" type=\"radio\" value=\"'Same\"/>\n",
      "<label for=\"f73efca0-d7fb-4fb6-9527-884cac8aac41-'Same\">About the same</label>\n",
      "</div>\n",
      "</div><div id='d73751f3-b779-4351-914b-8605dd5c0bfc\"'>\n",
      "<div class=\"QuestionContent\" style=\"margin-bottom: -2em;\">\n",
      "<p>What is your age?</p>\n",
      "</div>\n",
      "<crowd-input allowed-pattern=\"^\\d*$\" aria-disabled=\"false\" auto-validate=\"\" error-message=\"Please enter ONLY numbers\" label=\"What is your age?\" name=\"d73751f3-b779-4351-914b-8605dd5c0bfc\" required=\"\" tabindex=\"0\">\n",
      "</crowd-input>\n",
      "</div><div id='c799476d-db52-4dfe-a5f2-187e3894d280\"'>\n",
      "<div class=\"QuestionContent\">\n",
      "<p>Staying in touch with family and friends</p>\n",
      "</div>\n",
      "<div>\n",
      "<input id=\"c799476d-db52-4dfe-a5f2-187e3894d280-'Easier\" name=\"c799476d-db52-4dfe-a5f2-187e3894d280\" required=\"\" type=\"radio\" value=\"'Easier\"/>\n",
      "<label for=\"c799476d-db52-4dfe-a5f2-187e3894d280-'Easier\">Easier</label>\n",
      "</div>\n",
      "<div>\n",
      "<input id=\"c799476d-db52-4dfe-a5f2-187e3894d280-'Harder\" name=\"c799476d-db52-4dfe-a5f2-187e3894d280\" required=\"\" type=\"radio\" value=\"'Harder\"/>\n",
      "<label for=\"c799476d-db52-4dfe-a5f2-187e3894d280-'Harder\">Harder</label>\n",
      "</div>\n",
      "<div>\n",
      "<input id=\"c799476d-db52-4dfe-a5f2-187e3894d280-'Same\" name=\"c799476d-db52-4dfe-a5f2-187e3894d280\" required=\"\" type=\"radio\" value=\"'Same\"/>\n",
      "<label for=\"c799476d-db52-4dfe-a5f2-187e3894d280-'Same\">About the same</label>\n",
      "</div>\n",
      "</div><div id='40b468aa-4354-4679-a297-068cc7d8f897\"'>\n",
      "<div class=\"QuestionContent\">\n",
      "<p>Paying for college</p>\n",
      "</div>\n",
      "<div>\n",
      "<input id=\"40b468aa-4354-4679-a297-068cc7d8f897-'Easier\" name=\"40b468aa-4354-4679-a297-068cc7d8f897\" required=\"\" type=\"radio\" value=\"'Easier\"/>\n",
      "<label for=\"40b468aa-4354-4679-a297-068cc7d8f897-'Easier\">Easier</label>\n",
      "</div>\n",
      "<div>\n",
      "<input id=\"40b468aa-4354-4679-a297-068cc7d8f897-'Harder\" name=\"40b468aa-4354-4679-a297-068cc7d8f897\" required=\"\" type=\"radio\" value=\"'Harder\"/>\n",
      "<label for=\"40b468aa-4354-4679-a297-068cc7d8f897-'Harder\">Harder</label>\n",
      "</div>\n",
      "<div>\n",
      "<input id=\"40b468aa-4354-4679-a297-068cc7d8f897-'Same\" name=\"40b468aa-4354-4679-a297-068cc7d8f897\" required=\"\" type=\"radio\" value=\"'Same\"/>\n",
      "<label for=\"40b468aa-4354-4679-a297-068cc7d8f897-'Same\">About the same</label>\n",
      "</div>\n",
      "</div><div id='8f511d04-bcba-43a6-ac5f-eccdf5f049af\"'>\n",
      "<div class=\"QuestionContent\">\n",
      "<p>Getting into college</p>\n",
      "</div>\n",
      "<div>\n",
      "<input id=\"8f511d04-bcba-43a6-ac5f-eccdf5f049af-'Easier\" name=\"8f511d04-bcba-43a6-ac5f-eccdf5f049af\" required=\"\" type=\"radio\" value=\"'Easier\"/>\n",
      "<label for=\"8f511d04-bcba-43a6-ac5f-eccdf5f049af-'Easier\">Easier</label>\n",
      "</div>\n",
      "<div>\n",
      "<input id=\"8f511d04-bcba-43a6-ac5f-eccdf5f049af-'Harder\" name=\"8f511d04-bcba-43a6-ac5f-eccdf5f049af\" required=\"\" type=\"radio\" value=\"'Harder\"/>\n",
      "<label for=\"8f511d04-bcba-43a6-ac5f-eccdf5f049af-'Harder\">Harder</label>\n",
      "</div>\n",
      "<div>\n",
      "<input id=\"8f511d04-bcba-43a6-ac5f-eccdf5f049af-'Same\" name=\"8f511d04-bcba-43a6-ac5f-eccdf5f049af\" required=\"\" type=\"radio\" value=\"'Same\"/>\n",
      "<label for=\"8f511d04-bcba-43a6-ac5f-eccdf5f049af-'Same\">About the same</label>\n",
      "</div>\n",
      "</div><div id='727d4914-85d7-4e5d-8024-0d5af55027ac\"'>\n",
      "<div class=\"QuestionContent\">\n",
      "<p>Saving for the future</p>\n",
      "</div>\n",
      "<div>\n",
      "<input id=\"727d4914-85d7-4e5d-8024-0d5af55027ac-'Easier\" name=\"727d4914-85d7-4e5d-8024-0d5af55027ac\" required=\"\" type=\"radio\" value=\"'Easier\"/>\n",
      "<label for=\"727d4914-85d7-4e5d-8024-0d5af55027ac-'Easier\">Easier</label>\n",
      "</div>\n",
      "<div>\n",
      "<input id=\"727d4914-85d7-4e5d-8024-0d5af55027ac-'Harder\" name=\"727d4914-85d7-4e5d-8024-0d5af55027ac\" required=\"\" type=\"radio\" value=\"'Harder\"/>\n",
      "<label for=\"727d4914-85d7-4e5d-8024-0d5af55027ac-'Harder\">Harder</label>\n",
      "</div>\n",
      "<div>\n",
      "<input id=\"727d4914-85d7-4e5d-8024-0d5af55027ac-'Same\" name=\"727d4914-85d7-4e5d-8024-0d5af55027ac\" required=\"\" type=\"radio\" value=\"'Same\"/>\n",
      "<label for=\"727d4914-85d7-4e5d-8024-0d5af55027ac-'Same\">About the same</label>\n",
      "</div>\n",
      "</div><div id='1b56e8be-127c-47d3-9864-31fceb586234\"'>\n",
      "<div class=\"QuestionContent\">\n",
      "<p>Do you currently live in the United States?</p>\n",
      "</div>\n",
      "<div>\n",
      "<input id=\"1b56e8be-127c-47d3-9864-31fceb586234-'Yes\" name=\"1b56e8be-127c-47d3-9864-31fceb586234\" required=\"\" type=\"radio\" value=\"'Yes\"/>\n",
      "<label for=\"1b56e8be-127c-47d3-9864-31fceb586234-'Yes\">Yes</label>\n",
      "</div>\n",
      "<div>\n",
      "<input id=\"1b56e8be-127c-47d3-9864-31fceb586234-'No\" name=\"1b56e8be-127c-47d3-9864-31fceb586234\" required=\"\" type=\"radio\" value=\"'No\"/>\n",
      "<label for=\"1b56e8be-127c-47d3-9864-31fceb586234-'No\">No</label>\n",
      "</div>\n",
      "</div><div id='0ad80e72-02e7-4cfc-a298-cc1568f665ff\"'>\n",
      "<div class=\"QuestionContent\">\n",
      "<p>Buying a home</p>\n",
      "</div>\n",
      "<div>\n",
      "<input id=\"0ad80e72-02e7-4cfc-a298-cc1568f665ff-'Easier\" name=\"0ad80e72-02e7-4cfc-a298-cc1568f665ff\" required=\"\" type=\"radio\" value=\"'Easier\"/>\n",
      "<label for=\"0ad80e72-02e7-4cfc-a298-cc1568f665ff-'Easier\">Easier</label>\n",
      "</div>\n",
      "<div>\n",
      "<input id=\"0ad80e72-02e7-4cfc-a298-cc1568f665ff-'Harder\" name=\"0ad80e72-02e7-4cfc-a298-cc1568f665ff\" required=\"\" type=\"radio\" value=\"'Harder\"/>\n",
      "<label for=\"0ad80e72-02e7-4cfc-a298-cc1568f665ff-'Harder\">Harder</label>\n",
      "</div>\n",
      "<div>\n",
      "<input id=\"0ad80e72-02e7-4cfc-a298-cc1568f665ff-'Same\" name=\"0ad80e72-02e7-4cfc-a298-cc1568f665ff\" required=\"\" type=\"radio\" value=\"'Same\"/>\n",
      "<label for=\"0ad80e72-02e7-4cfc-a298-cc1568f665ff-'Same\">About the same</label>\n",
      "</div>\n",
      "</div><div id='2b6374ec-59d9-4ef2-9d8d-3eb910870b4d\"'>\n",
      "<div class=\"QuestionContent\">\n",
      "<p>Finding a job</p>\n",
      "</div>\n",
      "<div>\n",
      "<input id=\"2b6374ec-59d9-4ef2-9d8d-3eb910870b4d-'Easier\" name=\"2b6374ec-59d9-4ef2-9d8d-3eb910870b4d\" required=\"\" type=\"radio\" value=\"'Easier\"/>\n",
      "<label for=\"2b6374ec-59d9-4ef2-9d8d-3eb910870b4d-'Easier\">Easier</label>\n",
      "</div>\n",
      "<div>\n",
      "<input id=\"2b6374ec-59d9-4ef2-9d8d-3eb910870b4d-'Harder\" name=\"2b6374ec-59d9-4ef2-9d8d-3eb910870b4d\" required=\"\" type=\"radio\" value=\"'Harder\"/>\n",
      "<label for=\"2b6374ec-59d9-4ef2-9d8d-3eb910870b4d-'Harder\">Harder</label>\n",
      "</div>\n",
      "<div>\n",
      "<input id=\"2b6374ec-59d9-4ef2-9d8d-3eb910870b4d-'Same\" name=\"2b6374ec-59d9-4ef2-9d8d-3eb910870b4d\" required=\"\" type=\"radio\" value=\"'Same\"/>\n",
      "<label for=\"2b6374ec-59d9-4ef2-9d8d-3eb910870b4d-'Same\">About the same</label>\n",
      "</div>\n",
      "</div></div>\n",
      "<crowd-button data-testid=\"crowd-submit\" form-action=\"submit\" variant=\"primary\">Submit</crowd-button></form></crowd-form>\n",
      "\n"
     ]
    }
   ],
   "source": [
    "soup = BeautifulSoup(survey_text, 'html.parser')\n",
    "\n",
    "elem_container = soup.find('div', id='container')\n",
    "\n",
    "questions = elem_container.find_all(recursive=False)\n",
    "\n",
    "random.shuffle(questions)\n",
    "\n",
    "elem_container.extend(questions)\n",
    "\n",
    "print(str(soup))"
   ]
  },
  {
   "cell_type": "code",
   "execution_count": 202,
   "id": "3e384954-0710-4a41-b76c-daacec8aa63e",
   "metadata": {},
   "outputs": [
    {
     "data": {
      "text/plain": [
       "[<div class=\"QuestionContent\">\n",
       " <p>Staying in touch with family and friends</p>\n",
       " </div>,\n",
       " <div>\n",
       " <input id=\"c799476d-db52-4dfe-a5f2-187e3894d280-'Easier\" name=\"c799476d-db52-4dfe-a5f2-187e3894d280\" required=\"\" type=\"radio\" value=\"'Easier\"/>\n",
       " <label for=\"c799476d-db52-4dfe-a5f2-187e3894d280-'Easier\">Easier</label>\n",
       " </div>,\n",
       " <div>\n",
       " <input id=\"c799476d-db52-4dfe-a5f2-187e3894d280-'Harder\" name=\"c799476d-db52-4dfe-a5f2-187e3894d280\" required=\"\" type=\"radio\" value=\"'Harder\"/>\n",
       " <label for=\"c799476d-db52-4dfe-a5f2-187e3894d280-'Harder\">Harder</label>\n",
       " </div>,\n",
       " <div>\n",
       " <input id=\"c799476d-db52-4dfe-a5f2-187e3894d280-'Same\" name=\"c799476d-db52-4dfe-a5f2-187e3894d280\" required=\"\" type=\"radio\" value=\"'Same\"/>\n",
       " <label for=\"c799476d-db52-4dfe-a5f2-187e3894d280-'Same\">About the same</label>\n",
       " </div>]"
      ]
     },
     "execution_count": 202,
     "metadata": {},
     "output_type": "execute_result"
    }
   ],
   "source": [
    "question_body = questions[2].find_all(recursive=False)\n",
    "question_body\n",
    "\n",
    "# divs_without_question_content = soup.find_all('div', class_=lambda x: x != 'QuestionContent')"
   ]
  },
  {
   "cell_type": "code",
   "execution_count": 203,
   "id": "6d6ad31b-6b70-4c4f-a19c-b0af1ae80a42",
   "metadata": {},
   "outputs": [
    {
     "data": {
      "text/plain": [
       "[<div class=\"QuestionContent\">\n",
       " <p>Staying in touch with family and friends</p>\n",
       " </div>,\n",
       " <div>\n",
       " <input id=\"c799476d-db52-4dfe-a5f2-187e3894d280-'Same\" name=\"c799476d-db52-4dfe-a5f2-187e3894d280\" required=\"\" type=\"radio\" value=\"'Same\"/>\n",
       " <label for=\"c799476d-db52-4dfe-a5f2-187e3894d280-'Same\">About the same</label>\n",
       " </div>,\n",
       " <div>\n",
       " <input id=\"c799476d-db52-4dfe-a5f2-187e3894d280-'Harder\" name=\"c799476d-db52-4dfe-a5f2-187e3894d280\" required=\"\" type=\"radio\" value=\"'Harder\"/>\n",
       " <label for=\"c799476d-db52-4dfe-a5f2-187e3894d280-'Harder\">Harder</label>\n",
       " </div>,\n",
       " <div>\n",
       " <input id=\"c799476d-db52-4dfe-a5f2-187e3894d280-'Easier\" name=\"c799476d-db52-4dfe-a5f2-187e3894d280\" required=\"\" type=\"radio\" value=\"'Easier\"/>\n",
       " <label for=\"c799476d-db52-4dfe-a5f2-187e3894d280-'Easier\">Easier</label>\n",
       " </div>]"
      ]
     },
     "execution_count": 203,
     "metadata": {},
     "output_type": "execute_result"
    }
   ],
   "source": [
    "options = question_body[1:]\n",
    "random.shuffle(options)\n",
    "question_body[1:] = options\n",
    "\n",
    "question_body"
   ]
  },
  {
   "cell_type": "code",
   "execution_count": 204,
   "id": "acc38055-d6fe-45a8-8bd2-d6f971b8c2c3",
   "metadata": {
    "scrolled": true
   },
   "outputs": [],
   "source": [
    "questions[2].extend(question_body)"
   ]
  },
  {
   "cell_type": "code",
   "execution_count": 208,
   "id": "ac16c054-0a11-4b48-b1c2-7ec6bae3e7a8",
   "metadata": {
    "scrolled": true
   },
   "outputs": [
    {
     "data": {
      "text/plain": [
       "'<div id=\\'c799476d-db52-4dfe-a5f2-187e3894d280\"\\'>\\n\\n\\n\\n\\n<div class=\"QuestionContent\">\\n<p>Staying in touch with family and friends</p>\\n</div><div>\\n<input id=\"c799476d-db52-4dfe-a5f2-187e3894d280-\\'Same\" name=\"c799476d-db52-4dfe-a5f2-187e3894d280\" required=\"\" type=\"radio\" value=\"\\'Same\"/>\\n<label for=\"c799476d-db52-4dfe-a5f2-187e3894d280-\\'Same\">About the same</label>\\n</div><div>\\n<input id=\"c799476d-db52-4dfe-a5f2-187e3894d280-\\'Harder\" name=\"c799476d-db52-4dfe-a5f2-187e3894d280\" required=\"\" type=\"radio\" value=\"\\'Harder\"/>\\n<label for=\"c799476d-db52-4dfe-a5f2-187e3894d280-\\'Harder\">Harder</label>\\n</div><div>\\n<input id=\"c799476d-db52-4dfe-a5f2-187e3894d280-\\'Easier\" name=\"c799476d-db52-4dfe-a5f2-187e3894d280\" required=\"\" type=\"radio\" value=\"\\'Easier\"/>\\n<label for=\"c799476d-db52-4dfe-a5f2-187e3894d280-\\'Easier\">Easier</label>\\n</div></div>'"
      ]
     },
     "execution_count": 208,
     "metadata": {},
     "output_type": "execute_result"
    }
   ],
   "source": [
    "str(questions[2])"
   ]
  },
  {
   "cell_type": "markdown",
   "id": "42cc6f6e-0575-48c3-8577-93778bbd61fb",
   "metadata": {},
   "source": [
    "## GPT"
   ]
  },
  {
   "cell_type": "code",
   "execution_count": 212,
   "id": "e06d2be9-2ff7-4d81-9738-aa5a9ab5e846",
   "metadata": {},
   "outputs": [
    {
     "data": {
      "text/plain": [
       "'I want you to act as an average Amazon Mechanical Turk (mturk) survey taker living in the US.\\nI will provide you with a HTML survey and you will generate a reasonable response to the survey.\\nYou should respond only with a JSON object to indicate your survey response, where the keys are the names in the webform, and the values are the values in the webform.\\n'"
      ]
     },
     "execution_count": 212,
     "metadata": {},
     "output_type": "execute_result"
    }
   ],
   "source": [
    "instruction = \"\"\"I want you to act as an average Amazon Mechanical Turk (mturk) survey taker living in the US.\n",
    "I will provide you with a HTML survey and you will generate a reasonable response to the survey.\n",
    "You will need to submit the response to the survey as a JSON object, where the keys are the names in the webform, and the values are the values in the webform.\n",
    "\"\"\"\n",
    "\n",
    "instruction"
   ]
  },
  {
   "cell_type": "code",
   "execution_count": 207,
   "id": "654cd5b0-7ebe-452c-9ccd-288108dab8e7",
   "metadata": {
    "scrolled": true
   },
   "outputs": [
    {
     "ename": "KeyboardInterrupt",
     "evalue": "",
     "output_type": "error",
     "traceback": [
      "\u001b[0;31m---------------------------------------------------------------------------\u001b[0m",
      "\u001b[0;31mKeyboardInterrupt\u001b[0m                         Traceback (most recent call last)",
      "Cell \u001b[0;32mIn[207], line 1\u001b[0m\n\u001b[0;32m----> 1\u001b[0m chat_completion \u001b[38;5;241m=\u001b[39m \u001b[43mopenai\u001b[49m\u001b[38;5;241;43m.\u001b[39;49m\u001b[43mChatCompletion\u001b[49m\u001b[38;5;241;43m.\u001b[39;49m\u001b[43mcreate\u001b[49m\u001b[43m(\u001b[49m\n\u001b[1;32m      2\u001b[0m \u001b[43m    \u001b[49m\u001b[43mmodel\u001b[49m\u001b[38;5;241;43m=\u001b[39;49m\u001b[38;5;124;43m\"\u001b[39;49m\u001b[38;5;124;43mgpt-3.5-turbo\u001b[39;49m\u001b[38;5;124;43m\"\u001b[39;49m\u001b[43m,\u001b[49m\u001b[43m \u001b[49m\n\u001b[1;32m      3\u001b[0m \u001b[43m    \u001b[49m\u001b[43mmessages\u001b[49m\u001b[38;5;241;43m=\u001b[39;49m\u001b[43m[\u001b[49m\n\u001b[1;32m      4\u001b[0m \u001b[43m        \u001b[49m\u001b[43m{\u001b[49m\u001b[38;5;124;43m\"\u001b[39;49m\u001b[38;5;124;43mrole\u001b[39;49m\u001b[38;5;124;43m\"\u001b[39;49m\u001b[43m:\u001b[49m\u001b[43m \u001b[49m\u001b[38;5;124;43m\"\u001b[39;49m\u001b[38;5;124;43msystem\u001b[39;49m\u001b[38;5;124;43m\"\u001b[39;49m\u001b[43m,\u001b[49m\u001b[43m \u001b[49m\u001b[38;5;124;43m\"\u001b[39;49m\u001b[38;5;124;43mcontent\u001b[39;49m\u001b[38;5;124;43m\"\u001b[39;49m\u001b[43m:\u001b[49m\u001b[43m \u001b[49m\u001b[43minstruction\u001b[49m\u001b[43m}\u001b[49m\u001b[43m,\u001b[49m\n\u001b[1;32m      5\u001b[0m \u001b[43m        \u001b[49m\u001b[43m{\u001b[49m\u001b[38;5;124;43m\"\u001b[39;49m\u001b[38;5;124;43mrole\u001b[39;49m\u001b[38;5;124;43m\"\u001b[39;49m\u001b[43m:\u001b[49m\u001b[43m \u001b[49m\u001b[38;5;124;43m\"\u001b[39;49m\u001b[38;5;124;43muser\u001b[39;49m\u001b[38;5;124;43m\"\u001b[39;49m\u001b[43m,\u001b[49m\u001b[43m \u001b[49m\u001b[38;5;124;43m\"\u001b[39;49m\u001b[38;5;124;43mcontent\u001b[39;49m\u001b[38;5;124;43m\"\u001b[39;49m\u001b[43m:\u001b[49m\u001b[43m \u001b[49m\u001b[38;5;124;43m\"\u001b[39;49m\u001b[38;5;124;43mThe HTML survey is given below:\u001b[39;49m\u001b[38;5;130;43;01m\\n\u001b[39;49;00m\u001b[38;5;124;43m\"\u001b[39;49m\u001b[43m \u001b[49m\u001b[38;5;241;43m+\u001b[39;49m\u001b[43m \u001b[49m\u001b[43msurvey_text\u001b[49m\u001b[43m}\u001b[49m\u001b[43m,\u001b[49m\n\u001b[1;32m      6\u001b[0m \u001b[43m    \u001b[49m\u001b[43m]\u001b[49m\n\u001b[1;32m      7\u001b[0m \u001b[43m)\u001b[49m\n\u001b[1;32m      9\u001b[0m chat_completion\n",
      "File \u001b[0;32m~/Coding/RESEARCH/WILLIAMS/AutoMan/venv/lib/python3.11/site-packages/openai/api_resources/chat_completion.py:25\u001b[0m, in \u001b[0;36mChatCompletion.create\u001b[0;34m(cls, *args, **kwargs)\u001b[0m\n\u001b[1;32m     23\u001b[0m \u001b[38;5;28;01mwhile\u001b[39;00m \u001b[38;5;28;01mTrue\u001b[39;00m:\n\u001b[1;32m     24\u001b[0m     \u001b[38;5;28;01mtry\u001b[39;00m:\n\u001b[0;32m---> 25\u001b[0m         \u001b[38;5;28;01mreturn\u001b[39;00m \u001b[38;5;28;43msuper\u001b[39;49m\u001b[43m(\u001b[49m\u001b[43m)\u001b[49m\u001b[38;5;241;43m.\u001b[39;49m\u001b[43mcreate\u001b[49m\u001b[43m(\u001b[49m\u001b[38;5;241;43m*\u001b[39;49m\u001b[43margs\u001b[49m\u001b[43m,\u001b[49m\u001b[43m \u001b[49m\u001b[38;5;241;43m*\u001b[39;49m\u001b[38;5;241;43m*\u001b[39;49m\u001b[43mkwargs\u001b[49m\u001b[43m)\u001b[49m\n\u001b[1;32m     26\u001b[0m     \u001b[38;5;28;01mexcept\u001b[39;00m TryAgain \u001b[38;5;28;01mas\u001b[39;00m e:\n\u001b[1;32m     27\u001b[0m         \u001b[38;5;28;01mif\u001b[39;00m timeout \u001b[38;5;129;01mis\u001b[39;00m \u001b[38;5;129;01mnot\u001b[39;00m \u001b[38;5;28;01mNone\u001b[39;00m \u001b[38;5;129;01mand\u001b[39;00m time\u001b[38;5;241m.\u001b[39mtime() \u001b[38;5;241m>\u001b[39m start \u001b[38;5;241m+\u001b[39m timeout:\n",
      "File \u001b[0;32m~/Coding/RESEARCH/WILLIAMS/AutoMan/venv/lib/python3.11/site-packages/openai/api_resources/abstract/engine_api_resource.py:153\u001b[0m, in \u001b[0;36mEngineAPIResource.create\u001b[0;34m(cls, api_key, api_base, api_type, request_id, api_version, organization, **params)\u001b[0m\n\u001b[1;32m    127\u001b[0m \u001b[38;5;129m@classmethod\u001b[39m\n\u001b[1;32m    128\u001b[0m \u001b[38;5;28;01mdef\u001b[39;00m \u001b[38;5;21mcreate\u001b[39m(\n\u001b[1;32m    129\u001b[0m     \u001b[38;5;28mcls\u001b[39m,\n\u001b[0;32m   (...)\u001b[0m\n\u001b[1;32m    136\u001b[0m     \u001b[38;5;241m*\u001b[39m\u001b[38;5;241m*\u001b[39mparams,\n\u001b[1;32m    137\u001b[0m ):\n\u001b[1;32m    138\u001b[0m     (\n\u001b[1;32m    139\u001b[0m         deployment_id,\n\u001b[1;32m    140\u001b[0m         engine,\n\u001b[0;32m   (...)\u001b[0m\n\u001b[1;32m    150\u001b[0m         api_key, api_base, api_type, api_version, organization, \u001b[38;5;241m*\u001b[39m\u001b[38;5;241m*\u001b[39mparams\n\u001b[1;32m    151\u001b[0m     )\n\u001b[0;32m--> 153\u001b[0m     response, _, api_key \u001b[38;5;241m=\u001b[39m \u001b[43mrequestor\u001b[49m\u001b[38;5;241;43m.\u001b[39;49m\u001b[43mrequest\u001b[49m\u001b[43m(\u001b[49m\n\u001b[1;32m    154\u001b[0m \u001b[43m        \u001b[49m\u001b[38;5;124;43m\"\u001b[39;49m\u001b[38;5;124;43mpost\u001b[39;49m\u001b[38;5;124;43m\"\u001b[39;49m\u001b[43m,\u001b[49m\n\u001b[1;32m    155\u001b[0m \u001b[43m        \u001b[49m\u001b[43murl\u001b[49m\u001b[43m,\u001b[49m\n\u001b[1;32m    156\u001b[0m \u001b[43m        \u001b[49m\u001b[43mparams\u001b[49m\u001b[38;5;241;43m=\u001b[39;49m\u001b[43mparams\u001b[49m\u001b[43m,\u001b[49m\n\u001b[1;32m    157\u001b[0m \u001b[43m        \u001b[49m\u001b[43mheaders\u001b[49m\u001b[38;5;241;43m=\u001b[39;49m\u001b[43mheaders\u001b[49m\u001b[43m,\u001b[49m\n\u001b[1;32m    158\u001b[0m \u001b[43m        \u001b[49m\u001b[43mstream\u001b[49m\u001b[38;5;241;43m=\u001b[39;49m\u001b[43mstream\u001b[49m\u001b[43m,\u001b[49m\n\u001b[1;32m    159\u001b[0m \u001b[43m        \u001b[49m\u001b[43mrequest_id\u001b[49m\u001b[38;5;241;43m=\u001b[39;49m\u001b[43mrequest_id\u001b[49m\u001b[43m,\u001b[49m\n\u001b[1;32m    160\u001b[0m \u001b[43m        \u001b[49m\u001b[43mrequest_timeout\u001b[49m\u001b[38;5;241;43m=\u001b[39;49m\u001b[43mrequest_timeout\u001b[49m\u001b[43m,\u001b[49m\n\u001b[1;32m    161\u001b[0m \u001b[43m    \u001b[49m\u001b[43m)\u001b[49m\n\u001b[1;32m    163\u001b[0m     \u001b[38;5;28;01mif\u001b[39;00m stream:\n\u001b[1;32m    164\u001b[0m         \u001b[38;5;66;03m# must be an iterator\u001b[39;00m\n\u001b[1;32m    165\u001b[0m         \u001b[38;5;28;01massert\u001b[39;00m \u001b[38;5;129;01mnot\u001b[39;00m \u001b[38;5;28misinstance\u001b[39m(response, OpenAIResponse)\n",
      "File \u001b[0;32m~/Coding/RESEARCH/WILLIAMS/AutoMan/venv/lib/python3.11/site-packages/openai/api_requestor.py:288\u001b[0m, in \u001b[0;36mAPIRequestor.request\u001b[0;34m(self, method, url, params, headers, files, stream, request_id, request_timeout)\u001b[0m\n\u001b[1;32m    277\u001b[0m \u001b[38;5;28;01mdef\u001b[39;00m \u001b[38;5;21mrequest\u001b[39m(\n\u001b[1;32m    278\u001b[0m     \u001b[38;5;28mself\u001b[39m,\n\u001b[1;32m    279\u001b[0m     method,\n\u001b[0;32m   (...)\u001b[0m\n\u001b[1;32m    286\u001b[0m     request_timeout: Optional[Union[\u001b[38;5;28mfloat\u001b[39m, Tuple[\u001b[38;5;28mfloat\u001b[39m, \u001b[38;5;28mfloat\u001b[39m]]] \u001b[38;5;241m=\u001b[39m \u001b[38;5;28;01mNone\u001b[39;00m,\n\u001b[1;32m    287\u001b[0m ) \u001b[38;5;241m-\u001b[39m\u001b[38;5;241m>\u001b[39m Tuple[Union[OpenAIResponse, Iterator[OpenAIResponse]], \u001b[38;5;28mbool\u001b[39m, \u001b[38;5;28mstr\u001b[39m]:\n\u001b[0;32m--> 288\u001b[0m     result \u001b[38;5;241m=\u001b[39m \u001b[38;5;28;43mself\u001b[39;49m\u001b[38;5;241;43m.\u001b[39;49m\u001b[43mrequest_raw\u001b[49m\u001b[43m(\u001b[49m\n\u001b[1;32m    289\u001b[0m \u001b[43m        \u001b[49m\u001b[43mmethod\u001b[49m\u001b[38;5;241;43m.\u001b[39;49m\u001b[43mlower\u001b[49m\u001b[43m(\u001b[49m\u001b[43m)\u001b[49m\u001b[43m,\u001b[49m\n\u001b[1;32m    290\u001b[0m \u001b[43m        \u001b[49m\u001b[43murl\u001b[49m\u001b[43m,\u001b[49m\n\u001b[1;32m    291\u001b[0m \u001b[43m        \u001b[49m\u001b[43mparams\u001b[49m\u001b[38;5;241;43m=\u001b[39;49m\u001b[43mparams\u001b[49m\u001b[43m,\u001b[49m\n\u001b[1;32m    292\u001b[0m \u001b[43m        \u001b[49m\u001b[43msupplied_headers\u001b[49m\u001b[38;5;241;43m=\u001b[39;49m\u001b[43mheaders\u001b[49m\u001b[43m,\u001b[49m\n\u001b[1;32m    293\u001b[0m \u001b[43m        \u001b[49m\u001b[43mfiles\u001b[49m\u001b[38;5;241;43m=\u001b[39;49m\u001b[43mfiles\u001b[49m\u001b[43m,\u001b[49m\n\u001b[1;32m    294\u001b[0m \u001b[43m        \u001b[49m\u001b[43mstream\u001b[49m\u001b[38;5;241;43m=\u001b[39;49m\u001b[43mstream\u001b[49m\u001b[43m,\u001b[49m\n\u001b[1;32m    295\u001b[0m \u001b[43m        \u001b[49m\u001b[43mrequest_id\u001b[49m\u001b[38;5;241;43m=\u001b[39;49m\u001b[43mrequest_id\u001b[49m\u001b[43m,\u001b[49m\n\u001b[1;32m    296\u001b[0m \u001b[43m        \u001b[49m\u001b[43mrequest_timeout\u001b[49m\u001b[38;5;241;43m=\u001b[39;49m\u001b[43mrequest_timeout\u001b[49m\u001b[43m,\u001b[49m\n\u001b[1;32m    297\u001b[0m \u001b[43m    \u001b[49m\u001b[43m)\u001b[49m\n\u001b[1;32m    298\u001b[0m     resp, got_stream \u001b[38;5;241m=\u001b[39m \u001b[38;5;28mself\u001b[39m\u001b[38;5;241m.\u001b[39m_interpret_response(result, stream)\n\u001b[1;32m    299\u001b[0m     \u001b[38;5;28;01mreturn\u001b[39;00m resp, got_stream, \u001b[38;5;28mself\u001b[39m\u001b[38;5;241m.\u001b[39mapi_key\n",
      "File \u001b[0;32m~/Coding/RESEARCH/WILLIAMS/AutoMan/venv/lib/python3.11/site-packages/openai/api_requestor.py:596\u001b[0m, in \u001b[0;36mAPIRequestor.request_raw\u001b[0;34m(self, method, url, params, supplied_headers, files, stream, request_id, request_timeout)\u001b[0m\n\u001b[1;32m    594\u001b[0m     _thread_context\u001b[38;5;241m.\u001b[39msession_create_time \u001b[38;5;241m=\u001b[39m time\u001b[38;5;241m.\u001b[39mtime()\n\u001b[1;32m    595\u001b[0m \u001b[38;5;28;01mtry\u001b[39;00m:\n\u001b[0;32m--> 596\u001b[0m     result \u001b[38;5;241m=\u001b[39m \u001b[43m_thread_context\u001b[49m\u001b[38;5;241;43m.\u001b[39;49m\u001b[43msession\u001b[49m\u001b[38;5;241;43m.\u001b[39;49m\u001b[43mrequest\u001b[49m\u001b[43m(\u001b[49m\n\u001b[1;32m    597\u001b[0m \u001b[43m        \u001b[49m\u001b[43mmethod\u001b[49m\u001b[43m,\u001b[49m\n\u001b[1;32m    598\u001b[0m \u001b[43m        \u001b[49m\u001b[43mabs_url\u001b[49m\u001b[43m,\u001b[49m\n\u001b[1;32m    599\u001b[0m \u001b[43m        \u001b[49m\u001b[43mheaders\u001b[49m\u001b[38;5;241;43m=\u001b[39;49m\u001b[43mheaders\u001b[49m\u001b[43m,\u001b[49m\n\u001b[1;32m    600\u001b[0m \u001b[43m        \u001b[49m\u001b[43mdata\u001b[49m\u001b[38;5;241;43m=\u001b[39;49m\u001b[43mdata\u001b[49m\u001b[43m,\u001b[49m\n\u001b[1;32m    601\u001b[0m \u001b[43m        \u001b[49m\u001b[43mfiles\u001b[49m\u001b[38;5;241;43m=\u001b[39;49m\u001b[43mfiles\u001b[49m\u001b[43m,\u001b[49m\n\u001b[1;32m    602\u001b[0m \u001b[43m        \u001b[49m\u001b[43mstream\u001b[49m\u001b[38;5;241;43m=\u001b[39;49m\u001b[43mstream\u001b[49m\u001b[43m,\u001b[49m\n\u001b[1;32m    603\u001b[0m \u001b[43m        \u001b[49m\u001b[43mtimeout\u001b[49m\u001b[38;5;241;43m=\u001b[39;49m\u001b[43mrequest_timeout\u001b[49m\u001b[43m \u001b[49m\u001b[38;5;28;43;01mif\u001b[39;49;00m\u001b[43m \u001b[49m\u001b[43mrequest_timeout\u001b[49m\u001b[43m \u001b[49m\u001b[38;5;28;43;01melse\u001b[39;49;00m\u001b[43m \u001b[49m\u001b[43mTIMEOUT_SECS\u001b[49m\u001b[43m,\u001b[49m\n\u001b[1;32m    604\u001b[0m \u001b[43m        \u001b[49m\u001b[43mproxies\u001b[49m\u001b[38;5;241;43m=\u001b[39;49m\u001b[43m_thread_context\u001b[49m\u001b[38;5;241;43m.\u001b[39;49m\u001b[43msession\u001b[49m\u001b[38;5;241;43m.\u001b[39;49m\u001b[43mproxies\u001b[49m\u001b[43m,\u001b[49m\n\u001b[1;32m    605\u001b[0m \u001b[43m    \u001b[49m\u001b[43m)\u001b[49m\n\u001b[1;32m    606\u001b[0m \u001b[38;5;28;01mexcept\u001b[39;00m requests\u001b[38;5;241m.\u001b[39mexceptions\u001b[38;5;241m.\u001b[39mTimeout \u001b[38;5;28;01mas\u001b[39;00m e:\n\u001b[1;32m    607\u001b[0m     \u001b[38;5;28;01mraise\u001b[39;00m error\u001b[38;5;241m.\u001b[39mTimeout(\u001b[38;5;124m\"\u001b[39m\u001b[38;5;124mRequest timed out: \u001b[39m\u001b[38;5;132;01m{}\u001b[39;00m\u001b[38;5;124m\"\u001b[39m\u001b[38;5;241m.\u001b[39mformat(e)) \u001b[38;5;28;01mfrom\u001b[39;00m \u001b[38;5;21;01me\u001b[39;00m\n",
      "File \u001b[0;32m~/Coding/RESEARCH/WILLIAMS/AutoMan/venv/lib/python3.11/site-packages/requests/sessions.py:589\u001b[0m, in \u001b[0;36mSession.request\u001b[0;34m(self, method, url, params, data, headers, cookies, files, auth, timeout, allow_redirects, proxies, hooks, stream, verify, cert, json)\u001b[0m\n\u001b[1;32m    584\u001b[0m send_kwargs \u001b[38;5;241m=\u001b[39m {\n\u001b[1;32m    585\u001b[0m     \u001b[38;5;124m\"\u001b[39m\u001b[38;5;124mtimeout\u001b[39m\u001b[38;5;124m\"\u001b[39m: timeout,\n\u001b[1;32m    586\u001b[0m     \u001b[38;5;124m\"\u001b[39m\u001b[38;5;124mallow_redirects\u001b[39m\u001b[38;5;124m\"\u001b[39m: allow_redirects,\n\u001b[1;32m    587\u001b[0m }\n\u001b[1;32m    588\u001b[0m send_kwargs\u001b[38;5;241m.\u001b[39mupdate(settings)\n\u001b[0;32m--> 589\u001b[0m resp \u001b[38;5;241m=\u001b[39m \u001b[38;5;28;43mself\u001b[39;49m\u001b[38;5;241;43m.\u001b[39;49m\u001b[43msend\u001b[49m\u001b[43m(\u001b[49m\u001b[43mprep\u001b[49m\u001b[43m,\u001b[49m\u001b[43m \u001b[49m\u001b[38;5;241;43m*\u001b[39;49m\u001b[38;5;241;43m*\u001b[39;49m\u001b[43msend_kwargs\u001b[49m\u001b[43m)\u001b[49m\n\u001b[1;32m    591\u001b[0m \u001b[38;5;28;01mreturn\u001b[39;00m resp\n",
      "File \u001b[0;32m~/Coding/RESEARCH/WILLIAMS/AutoMan/venv/lib/python3.11/site-packages/requests/sessions.py:703\u001b[0m, in \u001b[0;36mSession.send\u001b[0;34m(self, request, **kwargs)\u001b[0m\n\u001b[1;32m    700\u001b[0m start \u001b[38;5;241m=\u001b[39m preferred_clock()\n\u001b[1;32m    702\u001b[0m \u001b[38;5;66;03m# Send the request\u001b[39;00m\n\u001b[0;32m--> 703\u001b[0m r \u001b[38;5;241m=\u001b[39m \u001b[43madapter\u001b[49m\u001b[38;5;241;43m.\u001b[39;49m\u001b[43msend\u001b[49m\u001b[43m(\u001b[49m\u001b[43mrequest\u001b[49m\u001b[43m,\u001b[49m\u001b[43m \u001b[49m\u001b[38;5;241;43m*\u001b[39;49m\u001b[38;5;241;43m*\u001b[39;49m\u001b[43mkwargs\u001b[49m\u001b[43m)\u001b[49m\n\u001b[1;32m    705\u001b[0m \u001b[38;5;66;03m# Total elapsed time of the request (approximately)\u001b[39;00m\n\u001b[1;32m    706\u001b[0m elapsed \u001b[38;5;241m=\u001b[39m preferred_clock() \u001b[38;5;241m-\u001b[39m start\n",
      "File \u001b[0;32m~/Coding/RESEARCH/WILLIAMS/AutoMan/venv/lib/python3.11/site-packages/requests/adapters.py:486\u001b[0m, in \u001b[0;36mHTTPAdapter.send\u001b[0;34m(self, request, stream, timeout, verify, cert, proxies)\u001b[0m\n\u001b[1;32m    483\u001b[0m     timeout \u001b[38;5;241m=\u001b[39m TimeoutSauce(connect\u001b[38;5;241m=\u001b[39mtimeout, read\u001b[38;5;241m=\u001b[39mtimeout)\n\u001b[1;32m    485\u001b[0m \u001b[38;5;28;01mtry\u001b[39;00m:\n\u001b[0;32m--> 486\u001b[0m     resp \u001b[38;5;241m=\u001b[39m \u001b[43mconn\u001b[49m\u001b[38;5;241;43m.\u001b[39;49m\u001b[43murlopen\u001b[49m\u001b[43m(\u001b[49m\n\u001b[1;32m    487\u001b[0m \u001b[43m        \u001b[49m\u001b[43mmethod\u001b[49m\u001b[38;5;241;43m=\u001b[39;49m\u001b[43mrequest\u001b[49m\u001b[38;5;241;43m.\u001b[39;49m\u001b[43mmethod\u001b[49m\u001b[43m,\u001b[49m\n\u001b[1;32m    488\u001b[0m \u001b[43m        \u001b[49m\u001b[43murl\u001b[49m\u001b[38;5;241;43m=\u001b[39;49m\u001b[43murl\u001b[49m\u001b[43m,\u001b[49m\n\u001b[1;32m    489\u001b[0m \u001b[43m        \u001b[49m\u001b[43mbody\u001b[49m\u001b[38;5;241;43m=\u001b[39;49m\u001b[43mrequest\u001b[49m\u001b[38;5;241;43m.\u001b[39;49m\u001b[43mbody\u001b[49m\u001b[43m,\u001b[49m\n\u001b[1;32m    490\u001b[0m \u001b[43m        \u001b[49m\u001b[43mheaders\u001b[49m\u001b[38;5;241;43m=\u001b[39;49m\u001b[43mrequest\u001b[49m\u001b[38;5;241;43m.\u001b[39;49m\u001b[43mheaders\u001b[49m\u001b[43m,\u001b[49m\n\u001b[1;32m    491\u001b[0m \u001b[43m        \u001b[49m\u001b[43mredirect\u001b[49m\u001b[38;5;241;43m=\u001b[39;49m\u001b[38;5;28;43;01mFalse\u001b[39;49;00m\u001b[43m,\u001b[49m\n\u001b[1;32m    492\u001b[0m \u001b[43m        \u001b[49m\u001b[43massert_same_host\u001b[49m\u001b[38;5;241;43m=\u001b[39;49m\u001b[38;5;28;43;01mFalse\u001b[39;49;00m\u001b[43m,\u001b[49m\n\u001b[1;32m    493\u001b[0m \u001b[43m        \u001b[49m\u001b[43mpreload_content\u001b[49m\u001b[38;5;241;43m=\u001b[39;49m\u001b[38;5;28;43;01mFalse\u001b[39;49;00m\u001b[43m,\u001b[49m\n\u001b[1;32m    494\u001b[0m \u001b[43m        \u001b[49m\u001b[43mdecode_content\u001b[49m\u001b[38;5;241;43m=\u001b[39;49m\u001b[38;5;28;43;01mFalse\u001b[39;49;00m\u001b[43m,\u001b[49m\n\u001b[1;32m    495\u001b[0m \u001b[43m        \u001b[49m\u001b[43mretries\u001b[49m\u001b[38;5;241;43m=\u001b[39;49m\u001b[38;5;28;43mself\u001b[39;49m\u001b[38;5;241;43m.\u001b[39;49m\u001b[43mmax_retries\u001b[49m\u001b[43m,\u001b[49m\n\u001b[1;32m    496\u001b[0m \u001b[43m        \u001b[49m\u001b[43mtimeout\u001b[49m\u001b[38;5;241;43m=\u001b[39;49m\u001b[43mtimeout\u001b[49m\u001b[43m,\u001b[49m\n\u001b[1;32m    497\u001b[0m \u001b[43m        \u001b[49m\u001b[43mchunked\u001b[49m\u001b[38;5;241;43m=\u001b[39;49m\u001b[43mchunked\u001b[49m\u001b[43m,\u001b[49m\n\u001b[1;32m    498\u001b[0m \u001b[43m    \u001b[49m\u001b[43m)\u001b[49m\n\u001b[1;32m    500\u001b[0m \u001b[38;5;28;01mexcept\u001b[39;00m (ProtocolError, \u001b[38;5;167;01mOSError\u001b[39;00m) \u001b[38;5;28;01mas\u001b[39;00m err:\n\u001b[1;32m    501\u001b[0m     \u001b[38;5;28;01mraise\u001b[39;00m \u001b[38;5;167;01mConnectionError\u001b[39;00m(err, request\u001b[38;5;241m=\u001b[39mrequest)\n",
      "File \u001b[0;32m~/Coding/RESEARCH/WILLIAMS/AutoMan/venv/lib/python3.11/site-packages/urllib3/connectionpool.py:790\u001b[0m, in \u001b[0;36mHTTPConnectionPool.urlopen\u001b[0;34m(self, method, url, body, headers, retries, redirect, assert_same_host, timeout, pool_timeout, release_conn, chunked, body_pos, preload_content, decode_content, **response_kw)\u001b[0m\n\u001b[1;32m    787\u001b[0m response_conn \u001b[38;5;241m=\u001b[39m conn \u001b[38;5;28;01mif\u001b[39;00m \u001b[38;5;129;01mnot\u001b[39;00m release_conn \u001b[38;5;28;01melse\u001b[39;00m \u001b[38;5;28;01mNone\u001b[39;00m\n\u001b[1;32m    789\u001b[0m \u001b[38;5;66;03m# Make the request on the HTTPConnection object\u001b[39;00m\n\u001b[0;32m--> 790\u001b[0m response \u001b[38;5;241m=\u001b[39m \u001b[38;5;28;43mself\u001b[39;49m\u001b[38;5;241;43m.\u001b[39;49m\u001b[43m_make_request\u001b[49m\u001b[43m(\u001b[49m\n\u001b[1;32m    791\u001b[0m \u001b[43m    \u001b[49m\u001b[43mconn\u001b[49m\u001b[43m,\u001b[49m\n\u001b[1;32m    792\u001b[0m \u001b[43m    \u001b[49m\u001b[43mmethod\u001b[49m\u001b[43m,\u001b[49m\n\u001b[1;32m    793\u001b[0m \u001b[43m    \u001b[49m\u001b[43murl\u001b[49m\u001b[43m,\u001b[49m\n\u001b[1;32m    794\u001b[0m \u001b[43m    \u001b[49m\u001b[43mtimeout\u001b[49m\u001b[38;5;241;43m=\u001b[39;49m\u001b[43mtimeout_obj\u001b[49m\u001b[43m,\u001b[49m\n\u001b[1;32m    795\u001b[0m \u001b[43m    \u001b[49m\u001b[43mbody\u001b[49m\u001b[38;5;241;43m=\u001b[39;49m\u001b[43mbody\u001b[49m\u001b[43m,\u001b[49m\n\u001b[1;32m    796\u001b[0m \u001b[43m    \u001b[49m\u001b[43mheaders\u001b[49m\u001b[38;5;241;43m=\u001b[39;49m\u001b[43mheaders\u001b[49m\u001b[43m,\u001b[49m\n\u001b[1;32m    797\u001b[0m \u001b[43m    \u001b[49m\u001b[43mchunked\u001b[49m\u001b[38;5;241;43m=\u001b[39;49m\u001b[43mchunked\u001b[49m\u001b[43m,\u001b[49m\n\u001b[1;32m    798\u001b[0m \u001b[43m    \u001b[49m\u001b[43mretries\u001b[49m\u001b[38;5;241;43m=\u001b[39;49m\u001b[43mretries\u001b[49m\u001b[43m,\u001b[49m\n\u001b[1;32m    799\u001b[0m \u001b[43m    \u001b[49m\u001b[43mresponse_conn\u001b[49m\u001b[38;5;241;43m=\u001b[39;49m\u001b[43mresponse_conn\u001b[49m\u001b[43m,\u001b[49m\n\u001b[1;32m    800\u001b[0m \u001b[43m    \u001b[49m\u001b[43mpreload_content\u001b[49m\u001b[38;5;241;43m=\u001b[39;49m\u001b[43mpreload_content\u001b[49m\u001b[43m,\u001b[49m\n\u001b[1;32m    801\u001b[0m \u001b[43m    \u001b[49m\u001b[43mdecode_content\u001b[49m\u001b[38;5;241;43m=\u001b[39;49m\u001b[43mdecode_content\u001b[49m\u001b[43m,\u001b[49m\n\u001b[1;32m    802\u001b[0m \u001b[43m    \u001b[49m\u001b[38;5;241;43m*\u001b[39;49m\u001b[38;5;241;43m*\u001b[39;49m\u001b[43mresponse_kw\u001b[49m\u001b[43m,\u001b[49m\n\u001b[1;32m    803\u001b[0m \u001b[43m\u001b[49m\u001b[43m)\u001b[49m\n\u001b[1;32m    805\u001b[0m \u001b[38;5;66;03m# Everything went great!\u001b[39;00m\n\u001b[1;32m    806\u001b[0m clean_exit \u001b[38;5;241m=\u001b[39m \u001b[38;5;28;01mTrue\u001b[39;00m\n",
      "File \u001b[0;32m~/Coding/RESEARCH/WILLIAMS/AutoMan/venv/lib/python3.11/site-packages/urllib3/connectionpool.py:536\u001b[0m, in \u001b[0;36mHTTPConnectionPool._make_request\u001b[0;34m(self, conn, method, url, body, headers, retries, timeout, chunked, response_conn, preload_content, decode_content, enforce_content_length)\u001b[0m\n\u001b[1;32m    534\u001b[0m \u001b[38;5;66;03m# Receive the response from the server\u001b[39;00m\n\u001b[1;32m    535\u001b[0m \u001b[38;5;28;01mtry\u001b[39;00m:\n\u001b[0;32m--> 536\u001b[0m     response \u001b[38;5;241m=\u001b[39m \u001b[43mconn\u001b[49m\u001b[38;5;241;43m.\u001b[39;49m\u001b[43mgetresponse\u001b[49m\u001b[43m(\u001b[49m\u001b[43m)\u001b[49m\n\u001b[1;32m    537\u001b[0m \u001b[38;5;28;01mexcept\u001b[39;00m (BaseSSLError, \u001b[38;5;167;01mOSError\u001b[39;00m) \u001b[38;5;28;01mas\u001b[39;00m e:\n\u001b[1;32m    538\u001b[0m     \u001b[38;5;28mself\u001b[39m\u001b[38;5;241m.\u001b[39m_raise_timeout(err\u001b[38;5;241m=\u001b[39me, url\u001b[38;5;241m=\u001b[39murl, timeout_value\u001b[38;5;241m=\u001b[39mread_timeout)\n",
      "File \u001b[0;32m~/Coding/RESEARCH/WILLIAMS/AutoMan/venv/lib/python3.11/site-packages/urllib3/connection.py:461\u001b[0m, in \u001b[0;36mHTTPConnection.getresponse\u001b[0;34m(self)\u001b[0m\n\u001b[1;32m    458\u001b[0m \u001b[38;5;28;01mfrom\u001b[39;00m \u001b[38;5;21;01m.\u001b[39;00m\u001b[38;5;21;01mresponse\u001b[39;00m \u001b[38;5;28;01mimport\u001b[39;00m HTTPResponse\n\u001b[1;32m    460\u001b[0m \u001b[38;5;66;03m# Get the response from http.client.HTTPConnection\u001b[39;00m\n\u001b[0;32m--> 461\u001b[0m httplib_response \u001b[38;5;241m=\u001b[39m \u001b[38;5;28;43msuper\u001b[39;49m\u001b[43m(\u001b[49m\u001b[43m)\u001b[49m\u001b[38;5;241;43m.\u001b[39;49m\u001b[43mgetresponse\u001b[49m\u001b[43m(\u001b[49m\u001b[43m)\u001b[49m\n\u001b[1;32m    463\u001b[0m \u001b[38;5;28;01mtry\u001b[39;00m:\n\u001b[1;32m    464\u001b[0m     assert_header_parsing(httplib_response\u001b[38;5;241m.\u001b[39mmsg)\n",
      "File \u001b[0;32m/usr/lib/python3.11/http/client.py:1378\u001b[0m, in \u001b[0;36mHTTPConnection.getresponse\u001b[0;34m(self)\u001b[0m\n\u001b[1;32m   1376\u001b[0m \u001b[38;5;28;01mtry\u001b[39;00m:\n\u001b[1;32m   1377\u001b[0m     \u001b[38;5;28;01mtry\u001b[39;00m:\n\u001b[0;32m-> 1378\u001b[0m         \u001b[43mresponse\u001b[49m\u001b[38;5;241;43m.\u001b[39;49m\u001b[43mbegin\u001b[49m\u001b[43m(\u001b[49m\u001b[43m)\u001b[49m\n\u001b[1;32m   1379\u001b[0m     \u001b[38;5;28;01mexcept\u001b[39;00m \u001b[38;5;167;01mConnectionError\u001b[39;00m:\n\u001b[1;32m   1380\u001b[0m         \u001b[38;5;28mself\u001b[39m\u001b[38;5;241m.\u001b[39mclose()\n",
      "File \u001b[0;32m/usr/lib/python3.11/http/client.py:318\u001b[0m, in \u001b[0;36mHTTPResponse.begin\u001b[0;34m(self)\u001b[0m\n\u001b[1;32m    316\u001b[0m \u001b[38;5;66;03m# read until we get a non-100 response\u001b[39;00m\n\u001b[1;32m    317\u001b[0m \u001b[38;5;28;01mwhile\u001b[39;00m \u001b[38;5;28;01mTrue\u001b[39;00m:\n\u001b[0;32m--> 318\u001b[0m     version, status, reason \u001b[38;5;241m=\u001b[39m \u001b[38;5;28;43mself\u001b[39;49m\u001b[38;5;241;43m.\u001b[39;49m\u001b[43m_read_status\u001b[49m\u001b[43m(\u001b[49m\u001b[43m)\u001b[49m\n\u001b[1;32m    319\u001b[0m     \u001b[38;5;28;01mif\u001b[39;00m status \u001b[38;5;241m!=\u001b[39m CONTINUE:\n\u001b[1;32m    320\u001b[0m         \u001b[38;5;28;01mbreak\u001b[39;00m\n",
      "File \u001b[0;32m/usr/lib/python3.11/http/client.py:279\u001b[0m, in \u001b[0;36mHTTPResponse._read_status\u001b[0;34m(self)\u001b[0m\n\u001b[1;32m    278\u001b[0m \u001b[38;5;28;01mdef\u001b[39;00m \u001b[38;5;21m_read_status\u001b[39m(\u001b[38;5;28mself\u001b[39m):\n\u001b[0;32m--> 279\u001b[0m     line \u001b[38;5;241m=\u001b[39m \u001b[38;5;28mstr\u001b[39m(\u001b[38;5;28mself\u001b[39m\u001b[38;5;241m.\u001b[39mfp\u001b[38;5;241m.\u001b[39mreadline(_MAXLINE \u001b[38;5;241m+\u001b[39m \u001b[38;5;241m1\u001b[39m), \u001b[38;5;124m\"\u001b[39m\u001b[38;5;124miso-8859-1\u001b[39m\u001b[38;5;124m\"\u001b[39m)\n\u001b[1;32m    280\u001b[0m     \u001b[38;5;28;01mif\u001b[39;00m \u001b[38;5;28mlen\u001b[39m(line) \u001b[38;5;241m>\u001b[39m _MAXLINE:\n\u001b[1;32m    281\u001b[0m         \u001b[38;5;28;01mraise\u001b[39;00m LineTooLong(\u001b[38;5;124m\"\u001b[39m\u001b[38;5;124mstatus line\u001b[39m\u001b[38;5;124m\"\u001b[39m)\n",
      "File \u001b[0;32m/usr/lib/python3.11/socket.py:706\u001b[0m, in \u001b[0;36mSocketIO.readinto\u001b[0;34m(self, b)\u001b[0m\n\u001b[1;32m    704\u001b[0m \u001b[38;5;28;01mwhile\u001b[39;00m \u001b[38;5;28;01mTrue\u001b[39;00m:\n\u001b[1;32m    705\u001b[0m     \u001b[38;5;28;01mtry\u001b[39;00m:\n\u001b[0;32m--> 706\u001b[0m         \u001b[38;5;28;01mreturn\u001b[39;00m \u001b[38;5;28;43mself\u001b[39;49m\u001b[38;5;241;43m.\u001b[39;49m\u001b[43m_sock\u001b[49m\u001b[38;5;241;43m.\u001b[39;49m\u001b[43mrecv_into\u001b[49m\u001b[43m(\u001b[49m\u001b[43mb\u001b[49m\u001b[43m)\u001b[49m\n\u001b[1;32m    707\u001b[0m     \u001b[38;5;28;01mexcept\u001b[39;00m timeout:\n\u001b[1;32m    708\u001b[0m         \u001b[38;5;28mself\u001b[39m\u001b[38;5;241m.\u001b[39m_timeout_occurred \u001b[38;5;241m=\u001b[39m \u001b[38;5;28;01mTrue\u001b[39;00m\n",
      "File \u001b[0;32m/usr/lib/python3.11/ssl.py:1311\u001b[0m, in \u001b[0;36mSSLSocket.recv_into\u001b[0;34m(self, buffer, nbytes, flags)\u001b[0m\n\u001b[1;32m   1307\u001b[0m     \u001b[38;5;28;01mif\u001b[39;00m flags \u001b[38;5;241m!=\u001b[39m \u001b[38;5;241m0\u001b[39m:\n\u001b[1;32m   1308\u001b[0m         \u001b[38;5;28;01mraise\u001b[39;00m \u001b[38;5;167;01mValueError\u001b[39;00m(\n\u001b[1;32m   1309\u001b[0m           \u001b[38;5;124m\"\u001b[39m\u001b[38;5;124mnon-zero flags not allowed in calls to recv_into() on \u001b[39m\u001b[38;5;132;01m%s\u001b[39;00m\u001b[38;5;124m\"\u001b[39m \u001b[38;5;241m%\u001b[39m\n\u001b[1;32m   1310\u001b[0m           \u001b[38;5;28mself\u001b[39m\u001b[38;5;241m.\u001b[39m\u001b[38;5;18m__class__\u001b[39m)\n\u001b[0;32m-> 1311\u001b[0m     \u001b[38;5;28;01mreturn\u001b[39;00m \u001b[38;5;28;43mself\u001b[39;49m\u001b[38;5;241;43m.\u001b[39;49m\u001b[43mread\u001b[49m\u001b[43m(\u001b[49m\u001b[43mnbytes\u001b[49m\u001b[43m,\u001b[49m\u001b[43m \u001b[49m\u001b[43mbuffer\u001b[49m\u001b[43m)\u001b[49m\n\u001b[1;32m   1312\u001b[0m \u001b[38;5;28;01melse\u001b[39;00m:\n\u001b[1;32m   1313\u001b[0m     \u001b[38;5;28;01mreturn\u001b[39;00m \u001b[38;5;28msuper\u001b[39m()\u001b[38;5;241m.\u001b[39mrecv_into(buffer, nbytes, flags)\n",
      "File \u001b[0;32m/usr/lib/python3.11/ssl.py:1167\u001b[0m, in \u001b[0;36mSSLSocket.read\u001b[0;34m(self, len, buffer)\u001b[0m\n\u001b[1;32m   1165\u001b[0m \u001b[38;5;28;01mtry\u001b[39;00m:\n\u001b[1;32m   1166\u001b[0m     \u001b[38;5;28;01mif\u001b[39;00m buffer \u001b[38;5;129;01mis\u001b[39;00m \u001b[38;5;129;01mnot\u001b[39;00m \u001b[38;5;28;01mNone\u001b[39;00m:\n\u001b[0;32m-> 1167\u001b[0m         \u001b[38;5;28;01mreturn\u001b[39;00m \u001b[38;5;28;43mself\u001b[39;49m\u001b[38;5;241;43m.\u001b[39;49m\u001b[43m_sslobj\u001b[49m\u001b[38;5;241;43m.\u001b[39;49m\u001b[43mread\u001b[49m\u001b[43m(\u001b[49m\u001b[38;5;28;43mlen\u001b[39;49m\u001b[43m,\u001b[49m\u001b[43m \u001b[49m\u001b[43mbuffer\u001b[49m\u001b[43m)\u001b[49m\n\u001b[1;32m   1168\u001b[0m     \u001b[38;5;28;01melse\u001b[39;00m:\n\u001b[1;32m   1169\u001b[0m         \u001b[38;5;28;01mreturn\u001b[39;00m \u001b[38;5;28mself\u001b[39m\u001b[38;5;241m.\u001b[39m_sslobj\u001b[38;5;241m.\u001b[39mread(\u001b[38;5;28mlen\u001b[39m)\n",
      "\u001b[0;31mKeyboardInterrupt\u001b[0m: "
     ]
    }
   ],
   "source": [
    "chat_completion = openai.ChatCompletion.create(\n",
    "    model=\"gpt-3.5-turbo\", \n",
    "    messages=[\n",
    "        {\"role\": \"system\", \"content\": instruction},\n",
    "        {\"role\": \"user\", \"content\": \"The HTML survey is given below:\\n\" + survey_text},\n",
    "    ]\n",
    ")\n",
    "\n",
    "chat_completion"
   ]
  },
  {
   "cell_type": "code",
   "execution_count": null,
   "id": "baf302cc-c480-49d7-aa6e-a496cbe12ce0",
   "metadata": {
    "scrolled": true
   },
   "outputs": [],
   "source": [
    "chat_completion.choices[0][\"message\"][\"content\"]"
   ]
  },
  {
   "cell_type": "code",
   "execution_count": null,
   "id": "7699171d-1e22-4184-b9db-b43a5b567d17",
   "metadata": {},
   "outputs": [],
   "source": [
    "json.loads(chat_completion.choices[0][\"message\"][\"content\"])"
   ]
  },
  {
   "cell_type": "markdown",
   "id": "73fe542e-3caf-4623-a1f5-077b35314595",
   "metadata": {},
   "source": [
    "## GPT (after shuffling)"
   ]
  },
  {
   "cell_type": "code",
   "execution_count": null,
   "id": "50115b1b-5c38-4108-bc8d-8d59c1742c18",
   "metadata": {},
   "outputs": [],
   "source": [
    "instruction = \"\"\"I want you to act as an average Amazon Mechanical Turk (mturk) survey taker living in the US.\n",
    "I will provide you with a HTML survey and you will generate a reasonable response to the survey.\n",
    "You will need to submit the response to the survey as a JSON object, where the keys are the names in the webform, and the values are the values in the webform.\n",
    "\"\"\"\n",
    "\n",
    "instruction"
   ]
  },
  {
   "cell_type": "code",
   "execution_count": null,
   "id": "d00d85b5-54d3-45c0-b820-b025e3c4fa04",
   "metadata": {},
   "outputs": [],
   "source": [
    "chat_completion_shuffled = openai.ChatCompletion.create(\n",
    "    model=\"gpt-3.5-turbo\", \n",
    "    messages=[\n",
    "        {\"role\": \"system\", \"content\": instruction},\n",
    "        {\"role\": \"user\", \"content\": \"The HTML survey is given below:\\n\" + shuffled_survey_text},\n",
    "    ]\n",
    ")\n",
    "\n",
    "chat_completion_shuffled"
   ]
  },
  {
   "cell_type": "code",
   "execution_count": null,
   "id": "ab439fd3-c625-49b8-a15a-72d4fabe4cc0",
   "metadata": {
    "scrolled": true
   },
   "outputs": [],
   "source": [
    "chat_completion_shuffled.choices[0][\"message\"][\"content\"]"
   ]
  },
  {
   "cell_type": "code",
   "execution_count": null,
   "id": "30c8d936-34d4-4673-b646-60bf5394d0fa",
   "metadata": {},
   "outputs": [],
   "source": [
    "json.loads(chat_completion_shuffled.choices[0][\"message\"][\"content\"])"
   ]
  },
  {
   "cell_type": "code",
   "execution_count": null,
   "id": "84040831-afc3-4687-a713-de528533cff4",
   "metadata": {},
   "outputs": [],
   "source": [
    "with open(\"c.txt\", \"w\") as fp:\n",
    "    json.dump(chat_completion_shuffled.choices[0][\"message\"][\"content\"], fp)"
   ]
  },
  {
   "cell_type": "code",
   "execution_count": null,
   "id": "413aeede-4073-4e49-a9d9-7a9ed3727a3f",
   "metadata": {},
   "outputs": [],
   "source": [
    "chat_completion_shuffled.to_dict_recursive()"
   ]
  },
  {
   "cell_type": "markdown",
   "id": "a386a765-9819-4078-91bc-445eb9ce040a",
   "metadata": {},
   "source": [
    "## GPT4 (shuffled)"
   ]
  },
  {
   "cell_type": "code",
   "execution_count": 215,
   "id": "5b4b179a-c86b-41c7-9214-6f6f3a7c541e",
   "metadata": {},
   "outputs": [
    {
     "data": {
      "text/plain": [
       "'I want you to act as an average Amazon Mechanical Turk (mturk) survey taker living in the US.\\nI will provide you with a HTML survey and you will generate a reasonable response to the survey.\\nYou should respond with a JSON object to indicate your survey response, where the keys are the names in the webform, and the values are the values in the webform.\\nIt is VERY IMPORTANT that you respond in valid JSON ONLY. Nothing before or after. Make sure to escape all strings\\n'"
      ]
     },
     "execution_count": 215,
     "metadata": {},
     "output_type": "execute_result"
    }
   ],
   "source": [
    "instruction = \"\"\"I want you to act as an average Amazon Mechanical Turk (mturk) survey taker living in the US.\n",
    "I will provide you with a HTML survey and you will generate a reasonable response to the survey.\n",
    "You should respond with a JSON object to indicate your survey response, where the keys are the names in the webform, and the values are the values in the webform.\n",
    "It is VERY IMPORTANT that you respond in valid JSON ONLY. Nothing before or after. Make sure to escape all strings\n",
    "\"\"\"\n",
    "\n",
    "instruction"
   ]
  },
  {
   "cell_type": "code",
   "execution_count": 218,
   "id": "e3eab1bb-b1a5-445a-82e5-ab71ad19a699",
   "metadata": {},
   "outputs": [],
   "source": [
    "sample_survey = \"\"\"<h1>Food Survey</h1><form action=\"submit.php\" method=\"post\"><h2>Favorite Cuisine:</h2><label><input type=\"radio\" name=\"favorite_cuisine\" value=\"italian\"> Italian</label><label><input type=\"radio\" name=\"favorite_cuisine\" value=\"mexican\"> Mexican</label><label><input type=\"radio\" name=\"favorite_cuisine\" value=\"indian\"> Indian</label><label><input type=\"radio\" name=\"favorite_cuisine\" value=\"chinese\"> Chinese</label><label for=\"comments\">Please share your thoughts:</label><textarea id=\"comments\" name=\"comments\"></textarea><input type=\"submit\" value=\"Submit\"></form>\"\"\"\n",
    "sample_response = \"\"\"{\"favorite_cuisine\": \"italian\",\"comments\": \"I love pizza!\"}\"\"\""
   ]
  },
  {
   "cell_type": "code",
   "execution_count": 224,
   "id": "99627143-e9c6-4373-9d0f-aa55bdb42da4",
   "metadata": {},
   "outputs": [
    {
     "data": {
      "text/plain": [
       "<OpenAIObject chat.completion id=chatcmpl-7ynr8ND6rrjvE3Rg4p2vMc0OsPxQm at 0x7f44133b6b70> JSON: {\n",
       "  \"id\": \"chatcmpl-7ynr8ND6rrjvE3Rg4p2vMc0OsPxQm\",\n",
       "  \"object\": \"chat.completion\",\n",
       "  \"created\": 1694725682,\n",
       "  \"model\": \"gpt-4-0613\",\n",
       "  \"choices\": [\n",
       "    {\n",
       "      \"index\": 0,\n",
       "      \"message\": {\n",
       "        \"role\": \"assistant\",\n",
       "        \"content\": \"{\\\"0ad80e72-02e7-4cfc-a298-cc1568f665ff\\\": \\\"'Harder'\\\", \\\"c799476d-db52-4dfe-a5f2-187e3894d280\\\": \\\"'Easier'\\\", \\\"40b468aa-4354-4679-a297-068cc7d8f897\\\": \\\"'Harder'\\\", \\\"2b6374ec-59d9-4ef2-9d8d-3eb910870b4d\\\": \\\"'Same'\\\", \\\"8f511d04-bcba-43a6-ac5f-eccdf5f049af\\\": \\\"'Easier'\\\", \\\"d73751f3-b779-4351-914b-8605dd5c0bfc\\\": \\\"32\\\", \\\"f73efca0-d7fb-4fb6-9527-884cac8aac41\\\": \\\"'Same'\\\", \\\"727d4914-85d7-4e5d-8024-0d5af55027ac\\\": \\\"'Harder'\\\", \\\"1b56e8be-127c-47d3-9864-31fceb586234\\\": \\\"'Yes'\\\"}\"\n",
       "      },\n",
       "      \"finish_reason\": \"stop\"\n",
       "    }\n",
       "  ],\n",
       "  \"usage\": {\n",
       "    \"prompt_tokens\": 3259,\n",
       "    \"completion_tokens\": 250,\n",
       "    \"total_tokens\": 3509\n",
       "  }\n",
       "}"
      ]
     },
     "execution_count": 224,
     "metadata": {},
     "output_type": "execute_result"
    }
   ],
   "source": [
    "chat_completion_4 = openai.ChatCompletion.create(\n",
    "    model=\"gpt-4\", \n",
    "    messages=[\n",
    "        {\"role\": \"system\", \"content\": instruction},\n",
    "        {\"role\": \"user\", \"content\": \"The HTML survey is given below:\\n\" + sample_survey},\n",
    "        {\"role\": \"assistant\", \"content\": sample_response},\n",
    "        {\"role\": \"user\", \"content\": \"The HTML survey is given below:\\n\" + shuffled_survey_text},\n",
    "    ]\n",
    ")\n",
    "\n",
    "chat_completion_4"
   ]
  },
  {
   "cell_type": "code",
   "execution_count": 225,
   "id": "cca4b677-7879-44ce-bf63-dc9d1e20623e",
   "metadata": {},
   "outputs": [
    {
     "data": {
      "text/plain": [
       "<OpenAIObject chat.completion id=chatcmpl-7ynruQC2FDfzIQQvknEYPqJg4yhc0 at 0x7f4412880b90> JSON: {\n",
       "  \"id\": \"chatcmpl-7ynruQC2FDfzIQQvknEYPqJg4yhc0\",\n",
       "  \"object\": \"chat.completion\",\n",
       "  \"created\": 1694725730,\n",
       "  \"model\": \"gpt-4-0613\",\n",
       "  \"choices\": [\n",
       "    {\n",
       "      \"index\": 0,\n",
       "      \"message\": {\n",
       "        \"role\": \"assistant\",\n",
       "        \"content\": \"{\\n    \\\"0ad80e72-02e7-4cfc-a298-cc1568f665ff\\\": \\\"'Harder'\\\",\\n    \\\"c799476d-db52-4dfe-a5f2-187e3894d280\\\": \\\"'Easier'\\\",\\n    \\\"40b468aa-4354-4679-a297-068cc7d8f897\\\": \\\"'Harder'\\\",\\n    \\\"2b6374ec-59d9-4ef2-9d8d-3eb910870b4d\\\": \\\"'Harder'\\\",\\n    \\\"8f511d04-bcba-43a6-ac5f-eccdf5f049af\\\": \\\"'Harder'\\\",\\n    \\\"f73efca0-d7fb-4fb6-9527-884cac8aac41\\\": \\\"'Same'\\\",\\n    \\\"727d4914-85d7-4e5d-8024-0d5af55027ac\\\": \\\"'Harder'\\\",\\n    \\\"d73751f3-b779-4351-914b-8605dd5c0bfc\\\": \\\"31\\\",\\n    \\\"1b56e8be-127c-47d3-9864-31fceb586234\\\": \\\"'Yes'\\\"\\n}\"\n",
       "      },\n",
       "      \"finish_reason\": \"stop\"\n",
       "    }\n",
       "  ],\n",
       "  \"usage\": {\n",
       "    \"prompt_tokens\": 3076,\n",
       "    \"completion_tokens\": 261,\n",
       "    \"total_tokens\": 3337\n",
       "  }\n",
       "}"
      ]
     },
     "execution_count": 225,
     "metadata": {},
     "output_type": "execute_result"
    }
   ],
   "source": [
    "chat_completion_4_no_eg = openai.ChatCompletion.create(\n",
    "    model=\"gpt-4\", \n",
    "    messages=[\n",
    "        {\"role\": \"system\", \"content\": instruction},\n",
    "        {\"role\": \"user\", \"content\": \"The HTML survey is given below:\\n\" + shuffled_survey_text},\n",
    "    ]\n",
    ")\n",
    "\n",
    "chat_completion_4_no_eg"
   ]
  },
  {
   "cell_type": "code",
   "execution_count": 235,
   "id": "35d1ab2b-5c62-469c-a2a2-e74441293622",
   "metadata": {},
   "outputs": [
    {
     "data": {
      "text/plain": [
       "'{\"0ad80e72-02e7-4cfc-a298-cc1568f665ff\": \"\\'Harder\\'\", \"c799476d-db52-4dfe-a5f2-187e3894d280\": \"\\'Easier\\'\", \"40b468aa-4354-4679-a297-068cc7d8f897\": \"\\'Harder\\'\", \"2b6374ec-59d9-4ef2-9d8d-3eb910870b4d\": \"\\'Same\\'\", \"8f511d04-bcba-43a6-ac5f-eccdf5f049af\": \"\\'Easier\\'\", \"d73751f3-b779-4351-914b-8605dd5c0bfc\": \"32\", \"f73efca0-d7fb-4fb6-9527-884cac8aac41\": \"\\'Same\\'\", \"727d4914-85d7-4e5d-8024-0d5af55027ac\": \"\\'Harder\\'\", \"1b56e8be-127c-47d3-9864-31fceb586234\": \"\\'Yes\\'\"}'"
      ]
     },
     "execution_count": 235,
     "metadata": {},
     "output_type": "execute_result"
    }
   ],
   "source": [
    "chat_completion_4.choices[0].message.content"
   ]
  },
  {
   "cell_type": "code",
   "execution_count": 236,
   "id": "a39b265b-f060-4569-84cb-a26ff064f2a5",
   "metadata": {},
   "outputs": [
    {
     "data": {
      "text/plain": [
       "{'id': 'chatcmpl-7ynr8ND6rrjvE3Rg4p2vMc0OsPxQm',\n",
       " 'object': 'chat.completion',\n",
       " 'created': 1694725682,\n",
       " 'model': 'gpt-4-0613',\n",
       " 'choices': [{'index': 0,\n",
       "   'message': {'role': 'assistant',\n",
       "    'content': '{\"0ad80e72-02e7-4cfc-a298-cc1568f665ff\": \"\\'Harder\\'\", \"c799476d-db52-4dfe-a5f2-187e3894d280\": \"\\'Easier\\'\", \"40b468aa-4354-4679-a297-068cc7d8f897\": \"\\'Harder\\'\", \"2b6374ec-59d9-4ef2-9d8d-3eb910870b4d\": \"\\'Same\\'\", \"8f511d04-bcba-43a6-ac5f-eccdf5f049af\": \"\\'Easier\\'\", \"d73751f3-b779-4351-914b-8605dd5c0bfc\": \"32\", \"f73efca0-d7fb-4fb6-9527-884cac8aac41\": \"\\'Same\\'\", \"727d4914-85d7-4e5d-8024-0d5af55027ac\": \"\\'Harder\\'\", \"1b56e8be-127c-47d3-9864-31fceb586234\": \"\\'Yes\\'\"}'},\n",
       "   'finish_reason': 'stop'}],\n",
       " 'usage': {'prompt_tokens': 3259,\n",
       "  'completion_tokens': 250,\n",
       "  'total_tokens': 3509}}"
      ]
     },
     "execution_count": 236,
     "metadata": {},
     "output_type": "execute_result"
    }
   ],
   "source": [
    "chat_completion_4.to_dict_recursive()"
   ]
  },
  {
   "cell_type": "code",
   "execution_count": null,
   "id": "e52297b3-1315-4fc5-b8c4-0a8600c8f8ce",
   "metadata": {},
   "outputs": [],
   "source": []
  }
 ],
 "metadata": {
  "kernelspec": {
   "display_name": "Python 3 (ipykernel)",
   "language": "python",
   "name": "python3"
  },
  "language_info": {
   "codemirror_mode": {
    "name": "ipython",
    "version": 3
   },
   "file_extension": ".py",
   "mimetype": "text/x-python",
   "name": "python",
   "nbconvert_exporter": "python",
   "pygments_lexer": "ipython3",
   "version": "3.11.5"
  }
 },
 "nbformat": 4,
 "nbformat_minor": 5
}
