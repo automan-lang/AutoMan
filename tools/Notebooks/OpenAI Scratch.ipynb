{
 "cells": [
  {
   "cell_type": "code",
   "execution_count": 3,
   "id": "12bf8b09-1b1c-41c0-96f7-29233e2dd70d",
   "metadata": {},
   "outputs": [],
   "source": [
    "import os\n",
    "import openai"
   ]
  },
  {
   "cell_type": "code",
   "execution_count": 23,
   "id": "c759433a-c0fc-4093-9927-4e88785f5c23",
   "metadata": {},
   "outputs": [],
   "source": [
    "import json"
   ]
  },
  {
   "cell_type": "code",
   "execution_count": 27,
   "id": "b7a17367-7bfb-4aa8-bc66-1ff8da706b65",
   "metadata": {},
   "outputs": [],
   "source": [
    "import tenacity"
   ]
  },
  {
   "cell_type": "code",
   "execution_count": 31,
   "id": "d7ec88a3-8dc2-48b3-b6ca-88c5b2b90546",
   "metadata": {},
   "outputs": [],
   "source": [
    "from bs4 import BeautifulSoup\n",
    "import random"
   ]
  },
  {
   "cell_type": "code",
   "execution_count": 4,
   "id": "43e66d5d-2185-4024-be63-800a19dd937b",
   "metadata": {},
   "outputs": [],
   "source": [
    "# Load your API key from an environment variable or secret management service\n",
    "# openai.api_key = os.getenv(\"OPENAI_API_KEY\")\n",
    "openai.api_key = \"<REDACTED>\""
   ]
  },
  {
   "cell_type": "markdown",
   "id": "dcb744bd-a991-4caf-9e9e-ae7e6f06d4ef",
   "metadata": {},
   "source": [
    "## Test"
   ]
  },
  {
   "cell_type": "code",
   "execution_count": 13,
   "id": "ec2b41dd-c8ac-43b6-ae3c-85b3d78c8505",
   "metadata": {},
   "outputs": [
    {
     "data": {
      "text/plain": [
       "<OpenAIObject chat.completion id=chatcmpl-7yZbRDyFfovMod5net0UvJaQkTV6j at 0x7f44281715b0> JSON: {\n",
       "  \"id\": \"chatcmpl-7yZbRDyFfovMod5net0UvJaQkTV6j\",\n",
       "  \"object\": \"chat.completion\",\n",
       "  \"created\": 1694670893,\n",
       "  \"model\": \"gpt-3.5-turbo-0613\",\n",
       "  \"choices\": [\n",
       "    {\n",
       "      \"index\": 0,\n",
       "      \"message\": {\n",
       "        \"role\": \"assistant\",\n",
       "        \"content\": \"The 2020 World Series was played at the Globe Life Field in Arlington, Texas.\"\n",
       "      },\n",
       "      \"finish_reason\": \"stop\"\n",
       "    }\n",
       "  ],\n",
       "  \"usage\": {\n",
       "    \"prompt_tokens\": 53,\n",
       "    \"completion_tokens\": 18,\n",
       "    \"total_tokens\": 71\n",
       "  }\n",
       "}"
      ]
     },
     "execution_count": 13,
     "metadata": {},
     "output_type": "execute_result"
    }
   ],
   "source": [
    "test_chat_completion = openai.ChatCompletion.create(\n",
    "    model=\"gpt-3.5-turbo\",\n",
    "    messages=[\n",
    "        {\"role\": \"system\", \"content\": \"You are a helpful assistant.\"},\n",
    "        {\"role\": \"user\", \"content\": \"Who won the world series in 2020?\"},\n",
    "        {\"role\": \"assistant\", \"content\": \"The Los Angeles Dodgers won the World Series in 2020.\"},\n",
    "        {\"role\": \"user\", \"content\": \"Where was it played?\"}\n",
    "    ]\n",
    ")\n",
    "\n",
    "test_chat_completion"
   ]
  },
  {
   "cell_type": "markdown",
   "id": "7409c71b-d02c-4514-951a-e88da4918812",
   "metadata": {},
   "source": [
    "## Survey content"
   ]
  },
  {
   "cell_type": "code",
   "execution_count": 10,
   "id": "a98d0ceb-aab8-4e32-9983-4282274cf58f",
   "metadata": {},
   "outputs": [],
   "source": [
    "survey_text = \"\"\"\n",
    "<h1>How do you think young adults today compare with their parents' generation on each of the following?</h1>\n",
    "  <p>For the following questions, is this action easier, harder, or the same for young adults today compared to their\n",
    "    parents' generation?</p>\n",
    "  <crowd-form><form method=\"\" action=\"\">\n",
    "    <div id=\"container\">\n",
    "    <div id=\"0ad80e72-02e7-4cfc-a298-cc1568f665ff&quot;\">\n",
    "        <div class=\"QuestionContent\">\n",
    "          <p>Buying a home</p>\n",
    "        </div>\n",
    "        <div>\n",
    "          <input type=\"radio\" id=\"0ad80e72-02e7-4cfc-a298-cc1568f665ff-'Easier\" name=\"0ad80e72-02e7-4cfc-a298-cc1568f665ff\" value=\"'Easier\" required=\"\">\n",
    "          <label for=\"0ad80e72-02e7-4cfc-a298-cc1568f665ff-'Easier\">Easier</label>\n",
    "        </div>\n",
    "        <div>\n",
    "          <input type=\"radio\" id=\"0ad80e72-02e7-4cfc-a298-cc1568f665ff-'Harder\" name=\"0ad80e72-02e7-4cfc-a298-cc1568f665ff\" value=\"'Harder\" required=\"\">\n",
    "          <label for=\"0ad80e72-02e7-4cfc-a298-cc1568f665ff-'Harder\">Harder</label>\n",
    "        </div>\n",
    "        <div>\n",
    "          <input type=\"radio\" id=\"0ad80e72-02e7-4cfc-a298-cc1568f665ff-'Same\" name=\"0ad80e72-02e7-4cfc-a298-cc1568f665ff\" value=\"'Same\" required=\"\">\n",
    "          <label for=\"0ad80e72-02e7-4cfc-a298-cc1568f665ff-'Same\">About the same</label>\n",
    "        </div>\n",
    "      </div><div id=\"c799476d-db52-4dfe-a5f2-187e3894d280&quot;\">\n",
    "        <div class=\"QuestionContent\">\n",
    "          <p>Staying in touch with family and friends</p>\n",
    "        </div>\n",
    "        <div>\n",
    "          <input type=\"radio\" id=\"c799476d-db52-4dfe-a5f2-187e3894d280-'Easier\" name=\"c799476d-db52-4dfe-a5f2-187e3894d280\" value=\"'Easier\" required=\"\">\n",
    "          <label for=\"c799476d-db52-4dfe-a5f2-187e3894d280-'Easier\">Easier</label>\n",
    "        </div>\n",
    "        <div>\n",
    "          <input type=\"radio\" id=\"c799476d-db52-4dfe-a5f2-187e3894d280-'Harder\" name=\"c799476d-db52-4dfe-a5f2-187e3894d280\" value=\"'Harder\" required=\"\">\n",
    "          <label for=\"c799476d-db52-4dfe-a5f2-187e3894d280-'Harder\">Harder</label>\n",
    "        </div>\n",
    "        <div>\n",
    "          <input type=\"radio\" id=\"c799476d-db52-4dfe-a5f2-187e3894d280-'Same\" name=\"c799476d-db52-4dfe-a5f2-187e3894d280\" value=\"'Same\" required=\"\">\n",
    "          <label for=\"c799476d-db52-4dfe-a5f2-187e3894d280-'Same\">About the same</label>\n",
    "        </div>\n",
    "      </div><div id=\"40b468aa-4354-4679-a297-068cc7d8f897&quot;\">\n",
    "        <div class=\"QuestionContent\">\n",
    "          <p>Paying for college</p>\n",
    "        </div>\n",
    "        <div>\n",
    "          <input type=\"radio\" id=\"40b468aa-4354-4679-a297-068cc7d8f897-'Easier\" name=\"40b468aa-4354-4679-a297-068cc7d8f897\" value=\"'Easier\" required=\"\">\n",
    "          <label for=\"40b468aa-4354-4679-a297-068cc7d8f897-'Easier\">Easier</label>\n",
    "        </div>\n",
    "        <div>\n",
    "          <input type=\"radio\" id=\"40b468aa-4354-4679-a297-068cc7d8f897-'Harder\" name=\"40b468aa-4354-4679-a297-068cc7d8f897\" value=\"'Harder\" required=\"\">\n",
    "          <label for=\"40b468aa-4354-4679-a297-068cc7d8f897-'Harder\">Harder</label>\n",
    "        </div>\n",
    "        <div>\n",
    "          <input type=\"radio\" id=\"40b468aa-4354-4679-a297-068cc7d8f897-'Same\" name=\"40b468aa-4354-4679-a297-068cc7d8f897\" value=\"'Same\" required=\"\">\n",
    "          <label for=\"40b468aa-4354-4679-a297-068cc7d8f897-'Same\">About the same</label>\n",
    "        </div>\n",
    "      </div><div id=\"2b6374ec-59d9-4ef2-9d8d-3eb910870b4d&quot;\">\n",
    "        <div class=\"QuestionContent\">\n",
    "          <p>Finding a job</p>\n",
    "        </div>\n",
    "        <div>\n",
    "          <input type=\"radio\" id=\"2b6374ec-59d9-4ef2-9d8d-3eb910870b4d-'Easier\" name=\"2b6374ec-59d9-4ef2-9d8d-3eb910870b4d\" value=\"'Easier\" required=\"\">\n",
    "          <label for=\"2b6374ec-59d9-4ef2-9d8d-3eb910870b4d-'Easier\">Easier</label>\n",
    "        </div>\n",
    "        <div>\n",
    "          <input type=\"radio\" id=\"2b6374ec-59d9-4ef2-9d8d-3eb910870b4d-'Harder\" name=\"2b6374ec-59d9-4ef2-9d8d-3eb910870b4d\" value=\"'Harder\" required=\"\">\n",
    "          <label for=\"2b6374ec-59d9-4ef2-9d8d-3eb910870b4d-'Harder\">Harder</label>\n",
    "        </div>\n",
    "        <div>\n",
    "          <input type=\"radio\" id=\"2b6374ec-59d9-4ef2-9d8d-3eb910870b4d-'Same\" name=\"2b6374ec-59d9-4ef2-9d8d-3eb910870b4d\" value=\"'Same\" required=\"\">\n",
    "          <label for=\"2b6374ec-59d9-4ef2-9d8d-3eb910870b4d-'Same\">About the same</label>\n",
    "        </div>\n",
    "      </div><div id=\"8f511d04-bcba-43a6-ac5f-eccdf5f049af&quot;\">\n",
    "        <div class=\"QuestionContent\">\n",
    "          <p>Getting into college</p>\n",
    "        </div>\n",
    "        <div>\n",
    "          <input type=\"radio\" id=\"8f511d04-bcba-43a6-ac5f-eccdf5f049af-'Easier\" name=\"8f511d04-bcba-43a6-ac5f-eccdf5f049af\" value=\"'Easier\" required=\"\">\n",
    "          <label for=\"8f511d04-bcba-43a6-ac5f-eccdf5f049af-'Easier\">Easier</label>\n",
    "        </div>\n",
    "        <div>\n",
    "          <input type=\"radio\" id=\"8f511d04-bcba-43a6-ac5f-eccdf5f049af-'Harder\" name=\"8f511d04-bcba-43a6-ac5f-eccdf5f049af\" value=\"'Harder\" required=\"\">\n",
    "          <label for=\"8f511d04-bcba-43a6-ac5f-eccdf5f049af-'Harder\">Harder</label>\n",
    "        </div>\n",
    "        <div>\n",
    "          <input type=\"radio\" id=\"8f511d04-bcba-43a6-ac5f-eccdf5f049af-'Same\" name=\"8f511d04-bcba-43a6-ac5f-eccdf5f049af\" value=\"'Same\" required=\"\">\n",
    "          <label for=\"8f511d04-bcba-43a6-ac5f-eccdf5f049af-'Same\">About the same</label>\n",
    "        </div>\n",
    "      </div><div id=\"d73751f3-b779-4351-914b-8605dd5c0bfc&quot;\">\n",
    "        <div class=\"QuestionContent\" style=\"margin-bottom: -2em;\">\n",
    "          <p>What is your age?</p>\n",
    "        </div>\n",
    "        <crowd-input name=\"d73751f3-b779-4351-914b-8605dd5c0bfc\" label=\"What is your age?\" allowed-pattern=\"^\\d*$\" error-message=\"Please enter ONLY numbers\" auto-validate=\"\" required=\"\" tabindex=\"0\" aria-disabled=\"false\">\n",
    "        </crowd-input>\n",
    "      </div><div id=\"f73efca0-d7fb-4fb6-9527-884cac8aac41&quot;\">\n",
    "        <div class=\"QuestionContent\">\n",
    "          <p>Finding a spouse or partner</p>\n",
    "        </div>\n",
    "        <div>\n",
    "          <input type=\"radio\" id=\"f73efca0-d7fb-4fb6-9527-884cac8aac41-'Easier\" name=\"f73efca0-d7fb-4fb6-9527-884cac8aac41\" value=\"'Easier\" required=\"\">\n",
    "          <label for=\"f73efca0-d7fb-4fb6-9527-884cac8aac41-'Easier\">Easier</label>\n",
    "        </div>\n",
    "        <div>\n",
    "          <input type=\"radio\" id=\"f73efca0-d7fb-4fb6-9527-884cac8aac41-'Harder\" name=\"f73efca0-d7fb-4fb6-9527-884cac8aac41\" value=\"'Harder\" required=\"\">\n",
    "          <label for=\"f73efca0-d7fb-4fb6-9527-884cac8aac41-'Harder\">Harder</label>\n",
    "        </div>\n",
    "        <div>\n",
    "          <input type=\"radio\" id=\"f73efca0-d7fb-4fb6-9527-884cac8aac41-'Same\" name=\"f73efca0-d7fb-4fb6-9527-884cac8aac41\" value=\"'Same\" required=\"\">\n",
    "          <label for=\"f73efca0-d7fb-4fb6-9527-884cac8aac41-'Same\">About the same</label>\n",
    "        </div>\n",
    "      </div><div id=\"727d4914-85d7-4e5d-8024-0d5af55027ac&quot;\">\n",
    "        <div class=\"QuestionContent\">\n",
    "          <p>Saving for the future</p>\n",
    "        </div>\n",
    "        <div>\n",
    "          <input type=\"radio\" id=\"727d4914-85d7-4e5d-8024-0d5af55027ac-'Easier\" name=\"727d4914-85d7-4e5d-8024-0d5af55027ac\" value=\"'Easier\" required=\"\">\n",
    "          <label for=\"727d4914-85d7-4e5d-8024-0d5af55027ac-'Easier\">Easier</label>\n",
    "        </div>\n",
    "        <div>\n",
    "          <input type=\"radio\" id=\"727d4914-85d7-4e5d-8024-0d5af55027ac-'Harder\" name=\"727d4914-85d7-4e5d-8024-0d5af55027ac\" value=\"'Harder\" required=\"\">\n",
    "          <label for=\"727d4914-85d7-4e5d-8024-0d5af55027ac-'Harder\">Harder</label>\n",
    "        </div>\n",
    "        <div>\n",
    "          <input type=\"radio\" id=\"727d4914-85d7-4e5d-8024-0d5af55027ac-'Same\" name=\"727d4914-85d7-4e5d-8024-0d5af55027ac\" value=\"'Same\" required=\"\">\n",
    "          <label for=\"727d4914-85d7-4e5d-8024-0d5af55027ac-'Same\">About the same</label>\n",
    "        </div>\n",
    "      </div><div id=\"1b56e8be-127c-47d3-9864-31fceb586234&quot;\">\n",
    "        <div class=\"QuestionContent\">\n",
    "          <p>Do you currently live in the United States?</p>\n",
    "        </div>\n",
    "        <div>\n",
    "          <input type=\"radio\" id=\"1b56e8be-127c-47d3-9864-31fceb586234-'Yes\" name=\"1b56e8be-127c-47d3-9864-31fceb586234\" value=\"'Yes\" required=\"\">\n",
    "          <label for=\"1b56e8be-127c-47d3-9864-31fceb586234-'Yes\">Yes</label>\n",
    "        </div>\n",
    "        <div>\n",
    "          <input type=\"radio\" id=\"1b56e8be-127c-47d3-9864-31fceb586234-'No\" name=\"1b56e8be-127c-47d3-9864-31fceb586234\" value=\"'No\" required=\"\">\n",
    "          <label for=\"1b56e8be-127c-47d3-9864-31fceb586234-'No\">No</label>\n",
    "        </div>\n",
    "      </div></div>\n",
    "  <crowd-button form-action=\"submit\" variant=\"primary\" data-testid=\"crowd-submit\">Submit</crowd-button></form></crowd-form>\n",
    "  \"\"\""
   ]
  },
  {
   "cell_type": "markdown",
   "id": "8eea5499-ebbe-44c8-8611-60adb73453e6",
   "metadata": {},
   "source": [
    "### randomize survey order"
   ]
  },
  {
   "cell_type": "code",
   "execution_count": 211,
   "id": "bb06b101-6dd8-454e-94e4-30f9b5a10dfd",
   "metadata": {},
   "outputs": [
    {
     "name": "stdout",
     "output_type": "stream",
     "text": [
      "<h1>How do you think young adults today compare with their parents' generation on each of the following?</h1><p>For the following questions, is this action easier, harder, or the same for young adults today compared to their    parents' generation?</p><crowd-form><form action=\"\" method=\"\"><div id=\"container\"><div id='0ad80e72-02e7-4cfc-a298-cc1568f665ff\"'><div class=\"QuestionContent\"><p>Buying a home</p></div><div><input id=\"0ad80e72-02e7-4cfc-a298-cc1568f665ff-'Same\" name=\"0ad80e72-02e7-4cfc-a298-cc1568f665ff\" required=\"\" type=\"radio\" value=\"'Same\"/><label for=\"0ad80e72-02e7-4cfc-a298-cc1568f665ff-'Same\">About the same</label></div><div><input id=\"0ad80e72-02e7-4cfc-a298-cc1568f665ff-'Harder\" name=\"0ad80e72-02e7-4cfc-a298-cc1568f665ff\" required=\"\" type=\"radio\" value=\"'Harder\"/><label for=\"0ad80e72-02e7-4cfc-a298-cc1568f665ff-'Harder\">Harder</label></div><div><input id=\"0ad80e72-02e7-4cfc-a298-cc1568f665ff-'Easier\" name=\"0ad80e72-02e7-4cfc-a298-cc1568f665ff\" required=\"\" type=\"radio\" value=\"'Easier\"/><label for=\"0ad80e72-02e7-4cfc-a298-cc1568f665ff-'Easier\">Easier</label></div></div><div id='c799476d-db52-4dfe-a5f2-187e3894d280\"'><div class=\"QuestionContent\"><p>Staying in touch with family and friends</p></div><div><input id=\"c799476d-db52-4dfe-a5f2-187e3894d280-'Harder\" name=\"c799476d-db52-4dfe-a5f2-187e3894d280\" required=\"\" type=\"radio\" value=\"'Harder\"/><label for=\"c799476d-db52-4dfe-a5f2-187e3894d280-'Harder\">Harder</label></div><div><input id=\"c799476d-db52-4dfe-a5f2-187e3894d280-'Easier\" name=\"c799476d-db52-4dfe-a5f2-187e3894d280\" required=\"\" type=\"radio\" value=\"'Easier\"/><label for=\"c799476d-db52-4dfe-a5f2-187e3894d280-'Easier\">Easier</label></div><div><input id=\"c799476d-db52-4dfe-a5f2-187e3894d280-'Same\" name=\"c799476d-db52-4dfe-a5f2-187e3894d280\" required=\"\" type=\"radio\" value=\"'Same\"/><label for=\"c799476d-db52-4dfe-a5f2-187e3894d280-'Same\">About the same</label></div></div><div id='40b468aa-4354-4679-a297-068cc7d8f897\"'><div class=\"QuestionContent\"><p>Paying for college</p></div><div><input id=\"40b468aa-4354-4679-a297-068cc7d8f897-'Easier\" name=\"40b468aa-4354-4679-a297-068cc7d8f897\" required=\"\" type=\"radio\" value=\"'Easier\"/><label for=\"40b468aa-4354-4679-a297-068cc7d8f897-'Easier\">Easier</label></div><div><input id=\"40b468aa-4354-4679-a297-068cc7d8f897-'Same\" name=\"40b468aa-4354-4679-a297-068cc7d8f897\" required=\"\" type=\"radio\" value=\"'Same\"/><label for=\"40b468aa-4354-4679-a297-068cc7d8f897-'Same\">About the same</label></div><div><input id=\"40b468aa-4354-4679-a297-068cc7d8f897-'Harder\" name=\"40b468aa-4354-4679-a297-068cc7d8f897\" required=\"\" type=\"radio\" value=\"'Harder\"/><label for=\"40b468aa-4354-4679-a297-068cc7d8f897-'Harder\">Harder</label></div></div><div id='2b6374ec-59d9-4ef2-9d8d-3eb910870b4d\"'><div class=\"QuestionContent\"><p>Finding a job</p></div><div><input id=\"2b6374ec-59d9-4ef2-9d8d-3eb910870b4d-'Easier\" name=\"2b6374ec-59d9-4ef2-9d8d-3eb910870b4d\" required=\"\" type=\"radio\" value=\"'Easier\"/><label for=\"2b6374ec-59d9-4ef2-9d8d-3eb910870b4d-'Easier\">Easier</label></div><div><input id=\"2b6374ec-59d9-4ef2-9d8d-3eb910870b4d-'Same\" name=\"2b6374ec-59d9-4ef2-9d8d-3eb910870b4d\" required=\"\" type=\"radio\" value=\"'Same\"/><label for=\"2b6374ec-59d9-4ef2-9d8d-3eb910870b4d-'Same\">About the same</label></div><div><input id=\"2b6374ec-59d9-4ef2-9d8d-3eb910870b4d-'Harder\" name=\"2b6374ec-59d9-4ef2-9d8d-3eb910870b4d\" required=\"\" type=\"radio\" value=\"'Harder\"/><label for=\"2b6374ec-59d9-4ef2-9d8d-3eb910870b4d-'Harder\">Harder</label></div></div><div id='8f511d04-bcba-43a6-ac5f-eccdf5f049af\"'><div class=\"QuestionContent\"><p>Getting into college</p></div><div><input id=\"8f511d04-bcba-43a6-ac5f-eccdf5f049af-'Same\" name=\"8f511d04-bcba-43a6-ac5f-eccdf5f049af\" required=\"\" type=\"radio\" value=\"'Same\"/><label for=\"8f511d04-bcba-43a6-ac5f-eccdf5f049af-'Same\">About the same</label></div><div><input id=\"8f511d04-bcba-43a6-ac5f-eccdf5f049af-'Harder\" name=\"8f511d04-bcba-43a6-ac5f-eccdf5f049af\" required=\"\" type=\"radio\" value=\"'Harder\"/><label for=\"8f511d04-bcba-43a6-ac5f-eccdf5f049af-'Harder\">Harder</label></div><div><input id=\"8f511d04-bcba-43a6-ac5f-eccdf5f049af-'Easier\" name=\"8f511d04-bcba-43a6-ac5f-eccdf5f049af\" required=\"\" type=\"radio\" value=\"'Easier\"/><label for=\"8f511d04-bcba-43a6-ac5f-eccdf5f049af-'Easier\">Easier</label></div></div><div id='d73751f3-b779-4351-914b-8605dd5c0bfc\"'><div class=\"QuestionContent\" style=\"margin-bottom: -2em;\"><p>What is your age?</p></div><crowd-input allowed-pattern=\"^\\d*$\" aria-disabled=\"false\" auto-validate=\"\" error-message=\"Please enter ONLY numbers\" label=\"What is your age?\" name=\"d73751f3-b779-4351-914b-8605dd5c0bfc\" required=\"\" tabindex=\"0\"></crowd-input></div><div id='f73efca0-d7fb-4fb6-9527-884cac8aac41\"'><div class=\"QuestionContent\"><p>Finding a spouse or partner</p></div><div><input id=\"f73efca0-d7fb-4fb6-9527-884cac8aac41-'Same\" name=\"f73efca0-d7fb-4fb6-9527-884cac8aac41\" required=\"\" type=\"radio\" value=\"'Same\"/><label for=\"f73efca0-d7fb-4fb6-9527-884cac8aac41-'Same\">About the same</label></div><div><input id=\"f73efca0-d7fb-4fb6-9527-884cac8aac41-'Harder\" name=\"f73efca0-d7fb-4fb6-9527-884cac8aac41\" required=\"\" type=\"radio\" value=\"'Harder\"/><label for=\"f73efca0-d7fb-4fb6-9527-884cac8aac41-'Harder\">Harder</label></div><div><input id=\"f73efca0-d7fb-4fb6-9527-884cac8aac41-'Easier\" name=\"f73efca0-d7fb-4fb6-9527-884cac8aac41\" required=\"\" type=\"radio\" value=\"'Easier\"/><label for=\"f73efca0-d7fb-4fb6-9527-884cac8aac41-'Easier\">Easier</label></div></div><div id='727d4914-85d7-4e5d-8024-0d5af55027ac\"'><div class=\"QuestionContent\"><p>Saving for the future</p></div><div><input id=\"727d4914-85d7-4e5d-8024-0d5af55027ac-'Same\" name=\"727d4914-85d7-4e5d-8024-0d5af55027ac\" required=\"\" type=\"radio\" value=\"'Same\"/><label for=\"727d4914-85d7-4e5d-8024-0d5af55027ac-'Same\">About the same</label></div><div><input id=\"727d4914-85d7-4e5d-8024-0d5af55027ac-'Easier\" name=\"727d4914-85d7-4e5d-8024-0d5af55027ac\" required=\"\" type=\"radio\" value=\"'Easier\"/><label for=\"727d4914-85d7-4e5d-8024-0d5af55027ac-'Easier\">Easier</label></div><div><input id=\"727d4914-85d7-4e5d-8024-0d5af55027ac-'Harder\" name=\"727d4914-85d7-4e5d-8024-0d5af55027ac\" required=\"\" type=\"radio\" value=\"'Harder\"/><label for=\"727d4914-85d7-4e5d-8024-0d5af55027ac-'Harder\">Harder</label></div></div><div id='1b56e8be-127c-47d3-9864-31fceb586234\"'><div class=\"QuestionContent\"><p>Do you currently live in the United States?</p></div><div><input id=\"1b56e8be-127c-47d3-9864-31fceb586234-'Yes\" name=\"1b56e8be-127c-47d3-9864-31fceb586234\" required=\"\" type=\"radio\" value=\"'Yes\"/><label for=\"1b56e8be-127c-47d3-9864-31fceb586234-'Yes\">Yes</label></div><div><input id=\"1b56e8be-127c-47d3-9864-31fceb586234-'No\" name=\"1b56e8be-127c-47d3-9864-31fceb586234\" required=\"\" type=\"radio\" value=\"'No\"/><label for=\"1b56e8be-127c-47d3-9864-31fceb586234-'No\">No</label></div></div></div><crowd-button data-testid=\"crowd-submit\" form-action=\"submit\" variant=\"primary\">Submit</crowd-button></form></crowd-form>\n"
     ]
    }
   ],
   "source": [
    "soup = BeautifulSoup(survey_text, 'html.parser')\n",
    "\n",
    "# Extract questions\n",
    "elem_container = soup.find('div', id='container')\n",
    "\n",
    "# Shuffle questions\n",
    "questions = elem_container.find_all(recursive=False)\n",
    "random.shuffle(questions)\n",
    "\n",
    "# For each question, shuffle the options\n",
    "for question in questions:\n",
    "    question_body = question.find_all(recursive=False)\n",
    "\n",
    "    # shuffle options and not the first div .QuestionContent\n",
    "    options = question_body[1:]\n",
    "    random.shuffle(options)\n",
    "    question_body[1:] = options\n",
    "\n",
    "    question.extend(question_body)\n",
    "\n",
    "# Reconstruct the HTML string with shuffled questions and options\n",
    "shuffled_survey_text = str(soup).replace('\\n', '')\n",
    "\n",
    "# Print the shuffled survey\n",
    "print(shuffled_survey_text)"
   ]
  },
  {
   "cell_type": "markdown",
   "id": "c023ca05-95c1-4895-a44c-47bb6aae3725",
   "metadata": {
    "jp-MarkdownHeadingCollapsed": true
   },
   "source": [
    "#### Playground"
   ]
  },
  {
   "cell_type": "code",
   "execution_count": 52,
   "id": "cba14621-db01-4c21-8e9f-027132a668b1",
   "metadata": {
    "collapsed": true,
    "jupyter": {
     "outputs_hidden": true
    }
   },
   "outputs": [
    {
     "name": "stdout",
     "output_type": "stream",
     "text": [
      "\n",
      "<h1>How do you think young adults today compare with their parents' generation on each of the following?</h1>\n",
      "<p>For the following questions, is this action easier, harder, or the same for young adults today compared to their\n",
      "    parents' generation?</p>\n",
      "<crowd-form><form action=\"\" method=\"\">\n",
      "<div id=\"container\">\n",
      "<div id='0ad80e72-02e7-4cfc-a298-cc1568f665ff\"'>\n",
      "<div class=\"QuestionContent\">\n",
      "<p>Buying a home</p>\n",
      "</div>\n",
      "<div>\n",
      "<input id=\"0ad80e72-02e7-4cfc-a298-cc1568f665ff-'Easier\" name=\"0ad80e72-02e7-4cfc-a298-cc1568f665ff\" required=\"\" type=\"radio\" value=\"'Easier\"/>\n",
      "<label for=\"0ad80e72-02e7-4cfc-a298-cc1568f665ff-'Easier\">Easier</label>\n",
      "</div>\n",
      "<div>\n",
      "<input id=\"0ad80e72-02e7-4cfc-a298-cc1568f665ff-'Harder\" name=\"0ad80e72-02e7-4cfc-a298-cc1568f665ff\" required=\"\" type=\"radio\" value=\"'Harder\"/>\n",
      "<label for=\"0ad80e72-02e7-4cfc-a298-cc1568f665ff-'Harder\">Harder</label>\n",
      "</div>\n",
      "<div>\n",
      "<input id=\"0ad80e72-02e7-4cfc-a298-cc1568f665ff-'Same\" name=\"0ad80e72-02e7-4cfc-a298-cc1568f665ff\" required=\"\" type=\"radio\" value=\"'Same\"/>\n",
      "<label for=\"0ad80e72-02e7-4cfc-a298-cc1568f665ff-'Same\">About the same</label>\n",
      "</div>\n",
      "</div><div id='c799476d-db52-4dfe-a5f2-187e3894d280\"'>\n",
      "<div class=\"QuestionContent\">\n",
      "<p>Staying in touch with family and friends</p>\n",
      "</div>\n",
      "<div>\n",
      "<input id=\"c799476d-db52-4dfe-a5f2-187e3894d280-'Easier\" name=\"c799476d-db52-4dfe-a5f2-187e3894d280\" required=\"\" type=\"radio\" value=\"'Easier\"/>\n",
      "<label for=\"c799476d-db52-4dfe-a5f2-187e3894d280-'Easier\">Easier</label>\n",
      "</div>\n",
      "<div>\n",
      "<input id=\"c799476d-db52-4dfe-a5f2-187e3894d280-'Harder\" name=\"c799476d-db52-4dfe-a5f2-187e3894d280\" required=\"\" type=\"radio\" value=\"'Harder\"/>\n",
      "<label for=\"c799476d-db52-4dfe-a5f2-187e3894d280-'Harder\">Harder</label>\n",
      "</div>\n",
      "<div>\n",
      "<input id=\"c799476d-db52-4dfe-a5f2-187e3894d280-'Same\" name=\"c799476d-db52-4dfe-a5f2-187e3894d280\" required=\"\" type=\"radio\" value=\"'Same\"/>\n",
      "<label for=\"c799476d-db52-4dfe-a5f2-187e3894d280-'Same\">About the same</label>\n",
      "</div>\n",
      "</div><div id='40b468aa-4354-4679-a297-068cc7d8f897\"'>\n",
      "<div class=\"QuestionContent\">\n",
      "<p>Paying for college</p>\n",
      "</div>\n",
      "<div>\n",
      "<input id=\"40b468aa-4354-4679-a297-068cc7d8f897-'Easier\" name=\"40b468aa-4354-4679-a297-068cc7d8f897\" required=\"\" type=\"radio\" value=\"'Easier\"/>\n",
      "<label for=\"40b468aa-4354-4679-a297-068cc7d8f897-'Easier\">Easier</label>\n",
      "</div>\n",
      "<div>\n",
      "<input id=\"40b468aa-4354-4679-a297-068cc7d8f897-'Harder\" name=\"40b468aa-4354-4679-a297-068cc7d8f897\" required=\"\" type=\"radio\" value=\"'Harder\"/>\n",
      "<label for=\"40b468aa-4354-4679-a297-068cc7d8f897-'Harder\">Harder</label>\n",
      "</div>\n",
      "<div>\n",
      "<input id=\"40b468aa-4354-4679-a297-068cc7d8f897-'Same\" name=\"40b468aa-4354-4679-a297-068cc7d8f897\" required=\"\" type=\"radio\" value=\"'Same\"/>\n",
      "<label for=\"40b468aa-4354-4679-a297-068cc7d8f897-'Same\">About the same</label>\n",
      "</div>\n",
      "</div><div id='2b6374ec-59d9-4ef2-9d8d-3eb910870b4d\"'>\n",
      "<div class=\"QuestionContent\">\n",
      "<p>Finding a job</p>\n",
      "</div>\n",
      "<div>\n",
      "<input id=\"2b6374ec-59d9-4ef2-9d8d-3eb910870b4d-'Easier\" name=\"2b6374ec-59d9-4ef2-9d8d-3eb910870b4d\" required=\"\" type=\"radio\" value=\"'Easier\"/>\n",
      "<label for=\"2b6374ec-59d9-4ef2-9d8d-3eb910870b4d-'Easier\">Easier</label>\n",
      "</div>\n",
      "<div>\n",
      "<input id=\"2b6374ec-59d9-4ef2-9d8d-3eb910870b4d-'Harder\" name=\"2b6374ec-59d9-4ef2-9d8d-3eb910870b4d\" required=\"\" type=\"radio\" value=\"'Harder\"/>\n",
      "<label for=\"2b6374ec-59d9-4ef2-9d8d-3eb910870b4d-'Harder\">Harder</label>\n",
      "</div>\n",
      "<div>\n",
      "<input id=\"2b6374ec-59d9-4ef2-9d8d-3eb910870b4d-'Same\" name=\"2b6374ec-59d9-4ef2-9d8d-3eb910870b4d\" required=\"\" type=\"radio\" value=\"'Same\"/>\n",
      "<label for=\"2b6374ec-59d9-4ef2-9d8d-3eb910870b4d-'Same\">About the same</label>\n",
      "</div>\n",
      "</div><div id='8f511d04-bcba-43a6-ac5f-eccdf5f049af\"'>\n",
      "<div class=\"QuestionContent\">\n",
      "<p>Getting into college</p>\n",
      "</div>\n",
      "<div>\n",
      "<input id=\"8f511d04-bcba-43a6-ac5f-eccdf5f049af-'Easier\" name=\"8f511d04-bcba-43a6-ac5f-eccdf5f049af\" required=\"\" type=\"radio\" value=\"'Easier\"/>\n",
      "<label for=\"8f511d04-bcba-43a6-ac5f-eccdf5f049af-'Easier\">Easier</label>\n",
      "</div>\n",
      "<div>\n",
      "<input id=\"8f511d04-bcba-43a6-ac5f-eccdf5f049af-'Harder\" name=\"8f511d04-bcba-43a6-ac5f-eccdf5f049af\" required=\"\" type=\"radio\" value=\"'Harder\"/>\n",
      "<label for=\"8f511d04-bcba-43a6-ac5f-eccdf5f049af-'Harder\">Harder</label>\n",
      "</div>\n",
      "<div>\n",
      "<input id=\"8f511d04-bcba-43a6-ac5f-eccdf5f049af-'Same\" name=\"8f511d04-bcba-43a6-ac5f-eccdf5f049af\" required=\"\" type=\"radio\" value=\"'Same\"/>\n",
      "<label for=\"8f511d04-bcba-43a6-ac5f-eccdf5f049af-'Same\">About the same</label>\n",
      "</div>\n",
      "</div><div id='d73751f3-b779-4351-914b-8605dd5c0bfc\"'>\n",
      "<div class=\"QuestionContent\" style=\"margin-bottom: -2em;\">\n",
      "<p>What is your age?</p>\n",
      "</div>\n",
      "<crowd-input allowed-pattern=\"^\\d*$\" aria-disabled=\"false\" auto-validate=\"\" error-message=\"Please enter ONLY numbers\" label=\"What is your age?\" name=\"d73751f3-b779-4351-914b-8605dd5c0bfc\" required=\"\" tabindex=\"0\">\n",
      "</crowd-input>\n",
      "</div><div id='f73efca0-d7fb-4fb6-9527-884cac8aac41\"'>\n",
      "<div class=\"QuestionContent\">\n",
      "<p>Finding a spouse or partner</p>\n",
      "</div>\n",
      "<div>\n",
      "<input id=\"f73efca0-d7fb-4fb6-9527-884cac8aac41-'Easier\" name=\"f73efca0-d7fb-4fb6-9527-884cac8aac41\" required=\"\" type=\"radio\" value=\"'Easier\"/>\n",
      "<label for=\"f73efca0-d7fb-4fb6-9527-884cac8aac41-'Easier\">Easier</label>\n",
      "</div>\n",
      "<div>\n",
      "<input id=\"f73efca0-d7fb-4fb6-9527-884cac8aac41-'Harder\" name=\"f73efca0-d7fb-4fb6-9527-884cac8aac41\" required=\"\" type=\"radio\" value=\"'Harder\"/>\n",
      "<label for=\"f73efca0-d7fb-4fb6-9527-884cac8aac41-'Harder\">Harder</label>\n",
      "</div>\n",
      "<div>\n",
      "<input id=\"f73efca0-d7fb-4fb6-9527-884cac8aac41-'Same\" name=\"f73efca0-d7fb-4fb6-9527-884cac8aac41\" required=\"\" type=\"radio\" value=\"'Same\"/>\n",
      "<label for=\"f73efca0-d7fb-4fb6-9527-884cac8aac41-'Same\">About the same</label>\n",
      "</div>\n",
      "</div><div id='727d4914-85d7-4e5d-8024-0d5af55027ac\"'>\n",
      "<div class=\"QuestionContent\">\n",
      "<p>Saving for the future</p>\n",
      "</div>\n",
      "<div>\n",
      "<input id=\"727d4914-85d7-4e5d-8024-0d5af55027ac-'Easier\" name=\"727d4914-85d7-4e5d-8024-0d5af55027ac\" required=\"\" type=\"radio\" value=\"'Easier\"/>\n",
      "<label for=\"727d4914-85d7-4e5d-8024-0d5af55027ac-'Easier\">Easier</label>\n",
      "</div>\n",
      "<div>\n",
      "<input id=\"727d4914-85d7-4e5d-8024-0d5af55027ac-'Harder\" name=\"727d4914-85d7-4e5d-8024-0d5af55027ac\" required=\"\" type=\"radio\" value=\"'Harder\"/>\n",
      "<label for=\"727d4914-85d7-4e5d-8024-0d5af55027ac-'Harder\">Harder</label>\n",
      "</div>\n",
      "<div>\n",
      "<input id=\"727d4914-85d7-4e5d-8024-0d5af55027ac-'Same\" name=\"727d4914-85d7-4e5d-8024-0d5af55027ac\" required=\"\" type=\"radio\" value=\"'Same\"/>\n",
      "<label for=\"727d4914-85d7-4e5d-8024-0d5af55027ac-'Same\">About the same</label>\n",
      "</div>\n",
      "</div><div id='1b56e8be-127c-47d3-9864-31fceb586234\"'>\n",
      "<div class=\"QuestionContent\">\n",
      "<p>Do you currently live in the United States?</p>\n",
      "</div>\n",
      "<div>\n",
      "<input id=\"1b56e8be-127c-47d3-9864-31fceb586234-'Yes\" name=\"1b56e8be-127c-47d3-9864-31fceb586234\" required=\"\" type=\"radio\" value=\"'Yes\"/>\n",
      "<label for=\"1b56e8be-127c-47d3-9864-31fceb586234-'Yes\">Yes</label>\n",
      "</div>\n",
      "<div>\n",
      "<input id=\"1b56e8be-127c-47d3-9864-31fceb586234-'No\" name=\"1b56e8be-127c-47d3-9864-31fceb586234\" required=\"\" type=\"radio\" value=\"'No\"/>\n",
      "<label for=\"1b56e8be-127c-47d3-9864-31fceb586234-'No\">No</label>\n",
      "</div>\n",
      "</div></div>\n",
      "<crowd-button data-testid=\"crowd-submit\" form-action=\"submit\" variant=\"primary\">Submit</crowd-button></form></crowd-form>\n",
      "\n"
     ]
    }
   ],
   "source": [
    "soup = BeautifulSoup(survey_text, 'html.parser')\n",
    "\n",
    "# Extract the questions and options\n",
    "questions = soup.find_all('div', class_='QuestionContent')\n",
    "options = soup.find_all('input', type='radio')\n",
    "\n",
    "# Shuffle the questions\n",
    "random.shuffle(questions)\n",
    "\n",
    "# Shuffle the options for each question\n",
    "for question in questions:\n",
    "    option_divs = question.find_next_siblings('div')\n",
    "    random.shuffle(option_divs)\n",
    "\n",
    "# Reconstruct the HTML string with shuffled questions and options\n",
    "shuffled_survey_text = str(soup)\n",
    "\n",
    "# Print the shuffled survey\n",
    "print(shuffled_survey_text)"
   ]
  },
  {
   "cell_type": "code",
   "execution_count": 183,
   "id": "fa1fa1ba-368d-4ecf-82c5-5d38fa6e9905",
   "metadata": {
    "scrolled": true
   },
   "outputs": [
    {
     "name": "stdout",
     "output_type": "stream",
     "text": [
      "\n",
      "<h1>How do you think young adults today compare with their parents' generation on each of the following?</h1>\n",
      "<p>For the following questions, is this action easier, harder, or the same for young adults today compared to their\n",
      "    parents' generation?</p>\n",
      "<crowd-form><form action=\"\" method=\"\">\n",
      "<div id=\"container\">\n",
      "<div id='f73efca0-d7fb-4fb6-9527-884cac8aac41\"'>\n",
      "<div class=\"QuestionContent\">\n",
      "<p>Finding a spouse or partner</p>\n",
      "</div>\n",
      "<div>\n",
      "<input id=\"f73efca0-d7fb-4fb6-9527-884cac8aac41-'Easier\" name=\"f73efca0-d7fb-4fb6-9527-884cac8aac41\" required=\"\" type=\"radio\" value=\"'Easier\"/>\n",
      "<label for=\"f73efca0-d7fb-4fb6-9527-884cac8aac41-'Easier\">Easier</label>\n",
      "</div>\n",
      "<div>\n",
      "<input id=\"f73efca0-d7fb-4fb6-9527-884cac8aac41-'Harder\" name=\"f73efca0-d7fb-4fb6-9527-884cac8aac41\" required=\"\" type=\"radio\" value=\"'Harder\"/>\n",
      "<label for=\"f73efca0-d7fb-4fb6-9527-884cac8aac41-'Harder\">Harder</label>\n",
      "</div>\n",
      "<div>\n",
      "<input id=\"f73efca0-d7fb-4fb6-9527-884cac8aac41-'Same\" name=\"f73efca0-d7fb-4fb6-9527-884cac8aac41\" required=\"\" type=\"radio\" value=\"'Same\"/>\n",
      "<label for=\"f73efca0-d7fb-4fb6-9527-884cac8aac41-'Same\">About the same</label>\n",
      "</div>\n",
      "</div><div id='d73751f3-b779-4351-914b-8605dd5c0bfc\"'>\n",
      "<div class=\"QuestionContent\" style=\"margin-bottom: -2em;\">\n",
      "<p>What is your age?</p>\n",
      "</div>\n",
      "<crowd-input allowed-pattern=\"^\\d*$\" aria-disabled=\"false\" auto-validate=\"\" error-message=\"Please enter ONLY numbers\" label=\"What is your age?\" name=\"d73751f3-b779-4351-914b-8605dd5c0bfc\" required=\"\" tabindex=\"0\">\n",
      "</crowd-input>\n",
      "</div><div id='c799476d-db52-4dfe-a5f2-187e3894d280\"'>\n",
      "<div class=\"QuestionContent\">\n",
      "<p>Staying in touch with family and friends</p>\n",
      "</div>\n",
      "<div>\n",
      "<input id=\"c799476d-db52-4dfe-a5f2-187e3894d280-'Easier\" name=\"c799476d-db52-4dfe-a5f2-187e3894d280\" required=\"\" type=\"radio\" value=\"'Easier\"/>\n",
      "<label for=\"c799476d-db52-4dfe-a5f2-187e3894d280-'Easier\">Easier</label>\n",
      "</div>\n",
      "<div>\n",
      "<input id=\"c799476d-db52-4dfe-a5f2-187e3894d280-'Harder\" name=\"c799476d-db52-4dfe-a5f2-187e3894d280\" required=\"\" type=\"radio\" value=\"'Harder\"/>\n",
      "<label for=\"c799476d-db52-4dfe-a5f2-187e3894d280-'Harder\">Harder</label>\n",
      "</div>\n",
      "<div>\n",
      "<input id=\"c799476d-db52-4dfe-a5f2-187e3894d280-'Same\" name=\"c799476d-db52-4dfe-a5f2-187e3894d280\" required=\"\" type=\"radio\" value=\"'Same\"/>\n",
      "<label for=\"c799476d-db52-4dfe-a5f2-187e3894d280-'Same\">About the same</label>\n",
      "</div>\n",
      "</div><div id='40b468aa-4354-4679-a297-068cc7d8f897\"'>\n",
      "<div class=\"QuestionContent\">\n",
      "<p>Paying for college</p>\n",
      "</div>\n",
      "<div>\n",
      "<input id=\"40b468aa-4354-4679-a297-068cc7d8f897-'Easier\" name=\"40b468aa-4354-4679-a297-068cc7d8f897\" required=\"\" type=\"radio\" value=\"'Easier\"/>\n",
      "<label for=\"40b468aa-4354-4679-a297-068cc7d8f897-'Easier\">Easier</label>\n",
      "</div>\n",
      "<div>\n",
      "<input id=\"40b468aa-4354-4679-a297-068cc7d8f897-'Harder\" name=\"40b468aa-4354-4679-a297-068cc7d8f897\" required=\"\" type=\"radio\" value=\"'Harder\"/>\n",
      "<label for=\"40b468aa-4354-4679-a297-068cc7d8f897-'Harder\">Harder</label>\n",
      "</div>\n",
      "<div>\n",
      "<input id=\"40b468aa-4354-4679-a297-068cc7d8f897-'Same\" name=\"40b468aa-4354-4679-a297-068cc7d8f897\" required=\"\" type=\"radio\" value=\"'Same\"/>\n",
      "<label for=\"40b468aa-4354-4679-a297-068cc7d8f897-'Same\">About the same</label>\n",
      "</div>\n",
      "</div><div id='8f511d04-bcba-43a6-ac5f-eccdf5f049af\"'>\n",
      "<div class=\"QuestionContent\">\n",
      "<p>Getting into college</p>\n",
      "</div>\n",
      "<div>\n",
      "<input id=\"8f511d04-bcba-43a6-ac5f-eccdf5f049af-'Easier\" name=\"8f511d04-bcba-43a6-ac5f-eccdf5f049af\" required=\"\" type=\"radio\" value=\"'Easier\"/>\n",
      "<label for=\"8f511d04-bcba-43a6-ac5f-eccdf5f049af-'Easier\">Easier</label>\n",
      "</div>\n",
      "<div>\n",
      "<input id=\"8f511d04-bcba-43a6-ac5f-eccdf5f049af-'Harder\" name=\"8f511d04-bcba-43a6-ac5f-eccdf5f049af\" required=\"\" type=\"radio\" value=\"'Harder\"/>\n",
      "<label for=\"8f511d04-bcba-43a6-ac5f-eccdf5f049af-'Harder\">Harder</label>\n",
      "</div>\n",
      "<div>\n",
      "<input id=\"8f511d04-bcba-43a6-ac5f-eccdf5f049af-'Same\" name=\"8f511d04-bcba-43a6-ac5f-eccdf5f049af\" required=\"\" type=\"radio\" value=\"'Same\"/>\n",
      "<label for=\"8f511d04-bcba-43a6-ac5f-eccdf5f049af-'Same\">About the same</label>\n",
      "</div>\n",
      "</div><div id='727d4914-85d7-4e5d-8024-0d5af55027ac\"'>\n",
      "<div class=\"QuestionContent\">\n",
      "<p>Saving for the future</p>\n",
      "</div>\n",
      "<div>\n",
      "<input id=\"727d4914-85d7-4e5d-8024-0d5af55027ac-'Easier\" name=\"727d4914-85d7-4e5d-8024-0d5af55027ac\" required=\"\" type=\"radio\" value=\"'Easier\"/>\n",
      "<label for=\"727d4914-85d7-4e5d-8024-0d5af55027ac-'Easier\">Easier</label>\n",
      "</div>\n",
      "<div>\n",
      "<input id=\"727d4914-85d7-4e5d-8024-0d5af55027ac-'Harder\" name=\"727d4914-85d7-4e5d-8024-0d5af55027ac\" required=\"\" type=\"radio\" value=\"'Harder\"/>\n",
      "<label for=\"727d4914-85d7-4e5d-8024-0d5af55027ac-'Harder\">Harder</label>\n",
      "</div>\n",
      "<div>\n",
      "<input id=\"727d4914-85d7-4e5d-8024-0d5af55027ac-'Same\" name=\"727d4914-85d7-4e5d-8024-0d5af55027ac\" required=\"\" type=\"radio\" value=\"'Same\"/>\n",
      "<label for=\"727d4914-85d7-4e5d-8024-0d5af55027ac-'Same\">About the same</label>\n",
      "</div>\n",
      "</div><div id='1b56e8be-127c-47d3-9864-31fceb586234\"'>\n",
      "<div class=\"QuestionContent\">\n",
      "<p>Do you currently live in the United States?</p>\n",
      "</div>\n",
      "<div>\n",
      "<input id=\"1b56e8be-127c-47d3-9864-31fceb586234-'Yes\" name=\"1b56e8be-127c-47d3-9864-31fceb586234\" required=\"\" type=\"radio\" value=\"'Yes\"/>\n",
      "<label for=\"1b56e8be-127c-47d3-9864-31fceb586234-'Yes\">Yes</label>\n",
      "</div>\n",
      "<div>\n",
      "<input id=\"1b56e8be-127c-47d3-9864-31fceb586234-'No\" name=\"1b56e8be-127c-47d3-9864-31fceb586234\" required=\"\" type=\"radio\" value=\"'No\"/>\n",
      "<label for=\"1b56e8be-127c-47d3-9864-31fceb586234-'No\">No</label>\n",
      "</div>\n",
      "</div><div id='0ad80e72-02e7-4cfc-a298-cc1568f665ff\"'>\n",
      "<div class=\"QuestionContent\">\n",
      "<p>Buying a home</p>\n",
      "</div>\n",
      "<div>\n",
      "<input id=\"0ad80e72-02e7-4cfc-a298-cc1568f665ff-'Easier\" name=\"0ad80e72-02e7-4cfc-a298-cc1568f665ff\" required=\"\" type=\"radio\" value=\"'Easier\"/>\n",
      "<label for=\"0ad80e72-02e7-4cfc-a298-cc1568f665ff-'Easier\">Easier</label>\n",
      "</div>\n",
      "<div>\n",
      "<input id=\"0ad80e72-02e7-4cfc-a298-cc1568f665ff-'Harder\" name=\"0ad80e72-02e7-4cfc-a298-cc1568f665ff\" required=\"\" type=\"radio\" value=\"'Harder\"/>\n",
      "<label for=\"0ad80e72-02e7-4cfc-a298-cc1568f665ff-'Harder\">Harder</label>\n",
      "</div>\n",
      "<div>\n",
      "<input id=\"0ad80e72-02e7-4cfc-a298-cc1568f665ff-'Same\" name=\"0ad80e72-02e7-4cfc-a298-cc1568f665ff\" required=\"\" type=\"radio\" value=\"'Same\"/>\n",
      "<label for=\"0ad80e72-02e7-4cfc-a298-cc1568f665ff-'Same\">About the same</label>\n",
      "</div>\n",
      "</div><div id='2b6374ec-59d9-4ef2-9d8d-3eb910870b4d\"'>\n",
      "<div class=\"QuestionContent\">\n",
      "<p>Finding a job</p>\n",
      "</div>\n",
      "<div>\n",
      "<input id=\"2b6374ec-59d9-4ef2-9d8d-3eb910870b4d-'Easier\" name=\"2b6374ec-59d9-4ef2-9d8d-3eb910870b4d\" required=\"\" type=\"radio\" value=\"'Easier\"/>\n",
      "<label for=\"2b6374ec-59d9-4ef2-9d8d-3eb910870b4d-'Easier\">Easier</label>\n",
      "</div>\n",
      "<div>\n",
      "<input id=\"2b6374ec-59d9-4ef2-9d8d-3eb910870b4d-'Harder\" name=\"2b6374ec-59d9-4ef2-9d8d-3eb910870b4d\" required=\"\" type=\"radio\" value=\"'Harder\"/>\n",
      "<label for=\"2b6374ec-59d9-4ef2-9d8d-3eb910870b4d-'Harder\">Harder</label>\n",
      "</div>\n",
      "<div>\n",
      "<input id=\"2b6374ec-59d9-4ef2-9d8d-3eb910870b4d-'Same\" name=\"2b6374ec-59d9-4ef2-9d8d-3eb910870b4d\" required=\"\" type=\"radio\" value=\"'Same\"/>\n",
      "<label for=\"2b6374ec-59d9-4ef2-9d8d-3eb910870b4d-'Same\">About the same</label>\n",
      "</div>\n",
      "</div></div>\n",
      "<crowd-button data-testid=\"crowd-submit\" form-action=\"submit\" variant=\"primary\">Submit</crowd-button></form></crowd-form>\n",
      "\n"
     ]
    }
   ],
   "source": [
    "soup = BeautifulSoup(survey_text, 'html.parser')\n",
    "\n",
    "elem_container = soup.find('div', id='container')\n",
    "\n",
    "questions = elem_container.find_all(recursive=False)\n",
    "\n",
    "random.shuffle(questions)\n",
    "\n",
    "elem_container.extend(questions)\n",
    "\n",
    "print(str(soup))"
   ]
  },
  {
   "cell_type": "code",
   "execution_count": 202,
   "id": "3e384954-0710-4a41-b76c-daacec8aa63e",
   "metadata": {},
   "outputs": [
    {
     "data": {
      "text/plain": [
       "[<div class=\"QuestionContent\">\n",
       " <p>Staying in touch with family and friends</p>\n",
       " </div>,\n",
       " <div>\n",
       " <input id=\"c799476d-db52-4dfe-a5f2-187e3894d280-'Easier\" name=\"c799476d-db52-4dfe-a5f2-187e3894d280\" required=\"\" type=\"radio\" value=\"'Easier\"/>\n",
       " <label for=\"c799476d-db52-4dfe-a5f2-187e3894d280-'Easier\">Easier</label>\n",
       " </div>,\n",
       " <div>\n",
       " <input id=\"c799476d-db52-4dfe-a5f2-187e3894d280-'Harder\" name=\"c799476d-db52-4dfe-a5f2-187e3894d280\" required=\"\" type=\"radio\" value=\"'Harder\"/>\n",
       " <label for=\"c799476d-db52-4dfe-a5f2-187e3894d280-'Harder\">Harder</label>\n",
       " </div>,\n",
       " <div>\n",
       " <input id=\"c799476d-db52-4dfe-a5f2-187e3894d280-'Same\" name=\"c799476d-db52-4dfe-a5f2-187e3894d280\" required=\"\" type=\"radio\" value=\"'Same\"/>\n",
       " <label for=\"c799476d-db52-4dfe-a5f2-187e3894d280-'Same\">About the same</label>\n",
       " </div>]"
      ]
     },
     "execution_count": 202,
     "metadata": {},
     "output_type": "execute_result"
    }
   ],
   "source": [
    "question_body = questions[2].find_all(recursive=False)\n",
    "question_body\n",
    "\n",
    "# divs_without_question_content = soup.find_all('div', class_=lambda x: x != 'QuestionContent')"
   ]
  },
  {
   "cell_type": "code",
   "execution_count": 203,
   "id": "6d6ad31b-6b70-4c4f-a19c-b0af1ae80a42",
   "metadata": {},
   "outputs": [
    {
     "data": {
      "text/plain": [
       "[<div class=\"QuestionContent\">\n",
       " <p>Staying in touch with family and friends</p>\n",
       " </div>,\n",
       " <div>\n",
       " <input id=\"c799476d-db52-4dfe-a5f2-187e3894d280-'Same\" name=\"c799476d-db52-4dfe-a5f2-187e3894d280\" required=\"\" type=\"radio\" value=\"'Same\"/>\n",
       " <label for=\"c799476d-db52-4dfe-a5f2-187e3894d280-'Same\">About the same</label>\n",
       " </div>,\n",
       " <div>\n",
       " <input id=\"c799476d-db52-4dfe-a5f2-187e3894d280-'Harder\" name=\"c799476d-db52-4dfe-a5f2-187e3894d280\" required=\"\" type=\"radio\" value=\"'Harder\"/>\n",
       " <label for=\"c799476d-db52-4dfe-a5f2-187e3894d280-'Harder\">Harder</label>\n",
       " </div>,\n",
       " <div>\n",
       " <input id=\"c799476d-db52-4dfe-a5f2-187e3894d280-'Easier\" name=\"c799476d-db52-4dfe-a5f2-187e3894d280\" required=\"\" type=\"radio\" value=\"'Easier\"/>\n",
       " <label for=\"c799476d-db52-4dfe-a5f2-187e3894d280-'Easier\">Easier</label>\n",
       " </div>]"
      ]
     },
     "execution_count": 203,
     "metadata": {},
     "output_type": "execute_result"
    }
   ],
   "source": [
    "options = question_body[1:]\n",
    "random.shuffle(options)\n",
    "question_body[1:] = options\n",
    "\n",
    "question_body"
   ]
  },
  {
   "cell_type": "code",
   "execution_count": 204,
   "id": "acc38055-d6fe-45a8-8bd2-d6f971b8c2c3",
   "metadata": {
    "scrolled": true
   },
   "outputs": [],
   "source": [
    "questions[2].extend(question_body)"
   ]
  },
  {
   "cell_type": "code",
   "execution_count": 208,
   "id": "ac16c054-0a11-4b48-b1c2-7ec6bae3e7a8",
   "metadata": {
    "scrolled": true
   },
   "outputs": [
    {
     "data": {
      "text/plain": [
       "'<div id=\\'c799476d-db52-4dfe-a5f2-187e3894d280\"\\'>\\n\\n\\n\\n\\n<div class=\"QuestionContent\">\\n<p>Staying in touch with family and friends</p>\\n</div><div>\\n<input id=\"c799476d-db52-4dfe-a5f2-187e3894d280-\\'Same\" name=\"c799476d-db52-4dfe-a5f2-187e3894d280\" required=\"\" type=\"radio\" value=\"\\'Same\"/>\\n<label for=\"c799476d-db52-4dfe-a5f2-187e3894d280-\\'Same\">About the same</label>\\n</div><div>\\n<input id=\"c799476d-db52-4dfe-a5f2-187e3894d280-\\'Harder\" name=\"c799476d-db52-4dfe-a5f2-187e3894d280\" required=\"\" type=\"radio\" value=\"\\'Harder\"/>\\n<label for=\"c799476d-db52-4dfe-a5f2-187e3894d280-\\'Harder\">Harder</label>\\n</div><div>\\n<input id=\"c799476d-db52-4dfe-a5f2-187e3894d280-\\'Easier\" name=\"c799476d-db52-4dfe-a5f2-187e3894d280\" required=\"\" type=\"radio\" value=\"\\'Easier\"/>\\n<label for=\"c799476d-db52-4dfe-a5f2-187e3894d280-\\'Easier\">Easier</label>\\n</div></div>'"
      ]
     },
     "execution_count": 208,
     "metadata": {},
     "output_type": "execute_result"
    }
   ],
   "source": [
    "str(questions[2])"
   ]
  },
  {
   "cell_type": "markdown",
   "id": "42cc6f6e-0575-48c3-8577-93778bbd61fb",
   "metadata": {},
   "source": [
    "## GPT"
   ]
  },
  {
   "cell_type": "code",
   "execution_count": 212,
   "id": "e06d2be9-2ff7-4d81-9738-aa5a9ab5e846",
   "metadata": {},
   "outputs": [
    {
     "data": {
      "text/plain": [
       "'I want you to act as an average Amazon Mechanical Turk (mturk) survey taker living in the US.\\nI will provide you with a HTML survey and you will generate a reasonable response to the survey.\\nYou should respond only with a JSON object to indicate your survey response, where the keys are the names in the webform, and the values are the values in the webform.\\n'"
      ]
     },
     "execution_count": 212,
     "metadata": {},
     "output_type": "execute_result"
    }
   ],
   "source": [
    "instruction = \"\"\"I want you to act as an average Amazon Mechanical Turk (mturk) survey taker living in the US.\n",
    "I will provide you with a HTML survey and you will generate a reasonable response to the survey.\n",
    "You will need to submit the response to the survey as a JSON object, where the keys are the names in the webform, and the values are the values in the webform.\n",
    "\"\"\"\n",
    "\n",
    "instruction"
   ]
  },
  {
   "cell_type": "code",
   "execution_count": null,
   "id": "654cd5b0-7ebe-452c-9ccd-288108dab8e7",
   "metadata": {
    "scrolled": true
   },
   "outputs": [],
   "source": [
    "chat_completion = openai.ChatCompletion.create(\n",
    "    model=\"gpt-3.5-turbo\",\n",
    "    messages=[\n",
    "        {\"role\": \"system\", \"content\": instruction},\n",
    "        {\"role\": \"user\", \"content\": \"The HTML survey is given below:\\n\" + survey_text},\n",
    "    ]\n",
    ")\n",
    "\n",
    "chat_completion"
   ]
  },
  {
   "cell_type": "code",
   "execution_count": null,
   "id": "baf302cc-c480-49d7-aa6e-a496cbe12ce0",
   "metadata": {
    "scrolled": true
   },
   "outputs": [],
   "source": [
    "chat_completion.choices[0][\"message\"][\"content\"]"
   ]
  },
  {
   "cell_type": "code",
   "execution_count": null,
   "id": "7699171d-1e22-4184-b9db-b43a5b567d17",
   "metadata": {},
   "outputs": [],
   "source": [
    "json.loads(chat_completion.choices[0][\"message\"][\"content\"])"
   ]
  },
  {
   "cell_type": "markdown",
   "id": "73fe542e-3caf-4623-a1f5-077b35314595",
   "metadata": {},
   "source": [
    "## GPT (after shuffling)"
   ]
  },
  {
   "cell_type": "code",
   "execution_count": null,
   "id": "50115b1b-5c38-4108-bc8d-8d59c1742c18",
   "metadata": {},
   "outputs": [],
   "source": [
    "instruction = \"\"\"I want you to act as an average Amazon Mechanical Turk (mturk) survey taker living in the US.\n",
    "I will provide you with a HTML survey and you will generate a reasonable response to the survey.\n",
    "You will need to submit the response to the survey as a JSON object, where the keys are the names in the webform, and the values are the values in the webform.\n",
    "\"\"\"\n",
    "\n",
    "instruction"
   ]
  },
  {
   "cell_type": "code",
   "execution_count": null,
   "id": "d00d85b5-54d3-45c0-b820-b025e3c4fa04",
   "metadata": {},
   "outputs": [],
   "source": [
    "chat_completion_shuffled = openai.ChatCompletion.create(\n",
    "    model=\"gpt-3.5-turbo\",\n",
    "    messages=[\n",
    "        {\"role\": \"system\", \"content\": instruction},\n",
    "        {\"role\": \"user\", \"content\": \"The HTML survey is given below:\\n\" + shuffled_survey_text},\n",
    "    ]\n",
    ")\n",
    "\n",
    "chat_completion_shuffled"
   ]
  },
  {
   "cell_type": "code",
   "execution_count": null,
   "id": "ab439fd3-c625-49b8-a15a-72d4fabe4cc0",
   "metadata": {
    "scrolled": true
   },
   "outputs": [],
   "source": [
    "chat_completion_shuffled.choices[0][\"message\"][\"content\"]"
   ]
  },
  {
   "cell_type": "code",
   "execution_count": null,
   "id": "30c8d936-34d4-4673-b646-60bf5394d0fa",
   "metadata": {},
   "outputs": [],
   "source": [
    "json.loads(chat_completion_shuffled.choices[0][\"message\"][\"content\"])"
   ]
  },
  {
   "cell_type": "code",
   "execution_count": null,
   "id": "84040831-afc3-4687-a713-de528533cff4",
   "metadata": {},
   "outputs": [],
   "source": [
    "with open(\"c.txt\", \"w\") as fp:\n",
    "    json.dump(chat_completion_shuffled.choices[0][\"message\"][\"content\"], fp)"
   ]
  },
  {
   "cell_type": "code",
   "execution_count": null,
   "id": "413aeede-4073-4e49-a9d9-7a9ed3727a3f",
   "metadata": {},
   "outputs": [],
   "source": [
    "chat_completion_shuffled.to_dict_recursive()"
   ]
  },
  {
   "cell_type": "markdown",
   "id": "a386a765-9819-4078-91bc-445eb9ce040a",
   "metadata": {},
   "source": [
    "## GPT4 (shuffled)"
   ]
  },
  {
   "cell_type": "code",
   "execution_count": 215,
   "id": "5b4b179a-c86b-41c7-9214-6f6f3a7c541e",
   "metadata": {},
   "outputs": [
    {
     "data": {
      "text/plain": [
       "'I want you to act as an average Amazon Mechanical Turk (mturk) survey taker living in the US.\\nI will provide you with a HTML survey and you will generate a reasonable response to the survey.\\nYou should respond with a JSON object to indicate your survey response, where the keys are the names in the webform, and the values are the values in the webform.\\nIt is VERY IMPORTANT that you respond in valid JSON ONLY. Nothing before or after. Make sure to escape all strings\\n'"
      ]
     },
     "execution_count": 215,
     "metadata": {},
     "output_type": "execute_result"
    }
   ],
   "source": [
    "instruction = \"\"\"I want you to act as an average Amazon Mechanical Turk (mturk) survey taker living in the US.\n",
    "I will provide you with a HTML survey and you will generate a reasonable response to the survey.\n",
    "You should respond with a JSON object to indicate your survey response, where the keys are the names in the webform, and the values are the values in the webform.\n",
    "It is VERY IMPORTANT that you respond in valid JSON ONLY. Nothing before or after. Make sure to escape all strings\n",
    "\"\"\"\n",
    "\n",
    "instruction"
   ]
  },
  {
   "cell_type": "code",
   "execution_count": 218,
   "id": "e3eab1bb-b1a5-445a-82e5-ab71ad19a699",
   "metadata": {},
   "outputs": [],
   "source": [
    "sample_survey = \"\"\"<h1>Food Survey</h1><form action=\"submit.php\" method=\"post\"><h2>Favorite Cuisine:</h2><label><input type=\"radio\" name=\"favorite_cuisine\" value=\"italian\"> Italian</label><label><input type=\"radio\" name=\"favorite_cuisine\" value=\"mexican\"> Mexican</label><label><input type=\"radio\" name=\"favorite_cuisine\" value=\"indian\"> Indian</label><label><input type=\"radio\" name=\"favorite_cuisine\" value=\"chinese\"> Chinese</label><label for=\"comments\">Please share your thoughts:</label><textarea id=\"comments\" name=\"comments\"></textarea><input type=\"submit\" value=\"Submit\"></form>\"\"\"\n",
    "sample_response = \"\"\"{\"favorite_cuisine\": \"italian\",\"comments\": \"I love pizza!\"}\"\"\""
   ]
  },
  {
   "cell_type": "code",
   "execution_count": 224,
   "id": "99627143-e9c6-4373-9d0f-aa55bdb42da4",
   "metadata": {},
   "outputs": [
    {
     "data": {
      "text/plain": [
       "<OpenAIObject chat.completion id=chatcmpl-7ynr8ND6rrjvE3Rg4p2vMc0OsPxQm at 0x7f44133b6b70> JSON: {\n",
       "  \"id\": \"chatcmpl-7ynr8ND6rrjvE3Rg4p2vMc0OsPxQm\",\n",
       "  \"object\": \"chat.completion\",\n",
       "  \"created\": 1694725682,\n",
       "  \"model\": \"gpt-4-0613\",\n",
       "  \"choices\": [\n",
       "    {\n",
       "      \"index\": 0,\n",
       "      \"message\": {\n",
       "        \"role\": \"assistant\",\n",
       "        \"content\": \"{\\\"0ad80e72-02e7-4cfc-a298-cc1568f665ff\\\": \\\"'Harder'\\\", \\\"c799476d-db52-4dfe-a5f2-187e3894d280\\\": \\\"'Easier'\\\", \\\"40b468aa-4354-4679-a297-068cc7d8f897\\\": \\\"'Harder'\\\", \\\"2b6374ec-59d9-4ef2-9d8d-3eb910870b4d\\\": \\\"'Same'\\\", \\\"8f511d04-bcba-43a6-ac5f-eccdf5f049af\\\": \\\"'Easier'\\\", \\\"d73751f3-b779-4351-914b-8605dd5c0bfc\\\": \\\"32\\\", \\\"f73efca0-d7fb-4fb6-9527-884cac8aac41\\\": \\\"'Same'\\\", \\\"727d4914-85d7-4e5d-8024-0d5af55027ac\\\": \\\"'Harder'\\\", \\\"1b56e8be-127c-47d3-9864-31fceb586234\\\": \\\"'Yes'\\\"}\"\n",
       "      },\n",
       "      \"finish_reason\": \"stop\"\n",
       "    }\n",
       "  ],\n",
       "  \"usage\": {\n",
       "    \"prompt_tokens\": 3259,\n",
       "    \"completion_tokens\": 250,\n",
       "    \"total_tokens\": 3509\n",
       "  }\n",
       "}"
      ]
     },
     "execution_count": 224,
     "metadata": {},
     "output_type": "execute_result"
    }
   ],
   "source": [
    "chat_completion_4 = openai.ChatCompletion.create(\n",
    "    model=\"gpt-4\",\n",
    "    messages=[\n",
    "        {\"role\": \"system\", \"content\": instruction},\n",
    "        {\"role\": \"user\", \"content\": \"The HTML survey is given below:\\n\" + sample_survey},\n",
    "        {\"role\": \"assistant\", \"content\": sample_response},\n",
    "        {\"role\": \"user\", \"content\": \"The HTML survey is given below:\\n\" + shuffled_survey_text},\n",
    "    ]\n",
    ")\n",
    "\n",
    "chat_completion_4"
   ]
  },
  {
   "cell_type": "code",
   "execution_count": 225,
   "id": "cca4b677-7879-44ce-bf63-dc9d1e20623e",
   "metadata": {},
   "outputs": [
    {
     "data": {
      "text/plain": [
       "<OpenAIObject chat.completion id=chatcmpl-7ynruQC2FDfzIQQvknEYPqJg4yhc0 at 0x7f4412880b90> JSON: {\n",
       "  \"id\": \"chatcmpl-7ynruQC2FDfzIQQvknEYPqJg4yhc0\",\n",
       "  \"object\": \"chat.completion\",\n",
       "  \"created\": 1694725730,\n",
       "  \"model\": \"gpt-4-0613\",\n",
       "  \"choices\": [\n",
       "    {\n",
       "      \"index\": 0,\n",
       "      \"message\": {\n",
       "        \"role\": \"assistant\",\n",
       "        \"content\": \"{\\n    \\\"0ad80e72-02e7-4cfc-a298-cc1568f665ff\\\": \\\"'Harder'\\\",\\n    \\\"c799476d-db52-4dfe-a5f2-187e3894d280\\\": \\\"'Easier'\\\",\\n    \\\"40b468aa-4354-4679-a297-068cc7d8f897\\\": \\\"'Harder'\\\",\\n    \\\"2b6374ec-59d9-4ef2-9d8d-3eb910870b4d\\\": \\\"'Harder'\\\",\\n    \\\"8f511d04-bcba-43a6-ac5f-eccdf5f049af\\\": \\\"'Harder'\\\",\\n    \\\"f73efca0-d7fb-4fb6-9527-884cac8aac41\\\": \\\"'Same'\\\",\\n    \\\"727d4914-85d7-4e5d-8024-0d5af55027ac\\\": \\\"'Harder'\\\",\\n    \\\"d73751f3-b779-4351-914b-8605dd5c0bfc\\\": \\\"31\\\",\\n    \\\"1b56e8be-127c-47d3-9864-31fceb586234\\\": \\\"'Yes'\\\"\\n}\"\n",
       "      },\n",
       "      \"finish_reason\": \"stop\"\n",
       "    }\n",
       "  ],\n",
       "  \"usage\": {\n",
       "    \"prompt_tokens\": 3076,\n",
       "    \"completion_tokens\": 261,\n",
       "    \"total_tokens\": 3337\n",
       "  }\n",
       "}"
      ]
     },
     "execution_count": 225,
     "metadata": {},
     "output_type": "execute_result"
    }
   ],
   "source": [
    "chat_completion_4_no_eg = openai.ChatCompletion.create(\n",
    "    model=\"gpt-4\",\n",
    "    messages=[\n",
    "        {\"role\": \"system\", \"content\": instruction},\n",
    "        {\"role\": \"user\", \"content\": \"The HTML survey is given below:\\n\" + shuffled_survey_text},\n",
    "    ]\n",
    ")\n",
    "\n",
    "chat_completion_4_no_eg"
   ]
  },
  {
   "cell_type": "code",
   "execution_count": 235,
   "id": "35d1ab2b-5c62-469c-a2a2-e74441293622",
   "metadata": {},
   "outputs": [
    {
     "data": {
      "text/plain": [
       "'{\"0ad80e72-02e7-4cfc-a298-cc1568f665ff\": \"\\'Harder\\'\", \"c799476d-db52-4dfe-a5f2-187e3894d280\": \"\\'Easier\\'\", \"40b468aa-4354-4679-a297-068cc7d8f897\": \"\\'Harder\\'\", \"2b6374ec-59d9-4ef2-9d8d-3eb910870b4d\": \"\\'Same\\'\", \"8f511d04-bcba-43a6-ac5f-eccdf5f049af\": \"\\'Easier\\'\", \"d73751f3-b779-4351-914b-8605dd5c0bfc\": \"32\", \"f73efca0-d7fb-4fb6-9527-884cac8aac41\": \"\\'Same\\'\", \"727d4914-85d7-4e5d-8024-0d5af55027ac\": \"\\'Harder\\'\", \"1b56e8be-127c-47d3-9864-31fceb586234\": \"\\'Yes\\'\"}'"
      ]
     },
     "execution_count": 235,
     "metadata": {},
     "output_type": "execute_result"
    }
   ],
   "source": [
    "chat_completion_4.choices[0].message.content"
   ]
  },
  {
   "cell_type": "code",
   "execution_count": 236,
   "id": "a39b265b-f060-4569-84cb-a26ff064f2a5",
   "metadata": {},
   "outputs": [
    {
     "data": {
      "text/plain": [
       "{'id': 'chatcmpl-7ynr8ND6rrjvE3Rg4p2vMc0OsPxQm',\n",
       " 'object': 'chat.completion',\n",
       " 'created': 1694725682,\n",
       " 'model': 'gpt-4-0613',\n",
       " 'choices': [{'index': 0,\n",
       "   'message': {'role': 'assistant',\n",
       "    'content': '{\"0ad80e72-02e7-4cfc-a298-cc1568f665ff\": \"\\'Harder\\'\", \"c799476d-db52-4dfe-a5f2-187e3894d280\": \"\\'Easier\\'\", \"40b468aa-4354-4679-a297-068cc7d8f897\": \"\\'Harder\\'\", \"2b6374ec-59d9-4ef2-9d8d-3eb910870b4d\": \"\\'Same\\'\", \"8f511d04-bcba-43a6-ac5f-eccdf5f049af\": \"\\'Easier\\'\", \"d73751f3-b779-4351-914b-8605dd5c0bfc\": \"32\", \"f73efca0-d7fb-4fb6-9527-884cac8aac41\": \"\\'Same\\'\", \"727d4914-85d7-4e5d-8024-0d5af55027ac\": \"\\'Harder\\'\", \"1b56e8be-127c-47d3-9864-31fceb586234\": \"\\'Yes\\'\"}'},\n",
       "   'finish_reason': 'stop'}],\n",
       " 'usage': {'prompt_tokens': 3259,\n",
       "  'completion_tokens': 250,\n",
       "  'total_tokens': 3509}}"
      ]
     },
     "execution_count": 236,
     "metadata": {},
     "output_type": "execute_result"
    }
   ],
   "source": [
    "chat_completion_4.to_dict_recursive()"
   ]
  },
  {
   "cell_type": "code",
   "execution_count": null,
   "id": "e52297b3-1315-4fc5-b8c4-0a8600c8f8ce",
   "metadata": {},
   "outputs": [],
   "source": []
  }
 ],
 "metadata": {
  "kernelspec": {
   "display_name": "Python 3 (ipykernel)",
   "language": "python",
   "name": "python3"
  },
  "language_info": {
   "codemirror_mode": {
    "name": "ipython",
    "version": 3
   },
   "file_extension": ".py",
   "mimetype": "text/x-python",
   "name": "python",
   "nbconvert_exporter": "python",
   "pygments_lexer": "ipython3",
   "version": "3.11.5"
  }
 },
 "nbformat": 4,
 "nbformat_minor": 5
}
